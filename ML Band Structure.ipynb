{
 "cells": [
  {
   "cell_type": "code",
   "execution_count": 2,
   "id": "e06b5270",
   "metadata": {},
   "outputs": [
    {
     "name": "stdout",
     "output_type": "stream",
     "text": [
      "mp-66  is a p type: \n"
     ]
    }
   ],
   "source": [
    "from pymatgen.ext.matproj import MPRester\n",
    "m = MPRester(\"H8NcXtxiApE6LBhM\") \n",
    "material = 'mp-66' # Diamond\n",
    "try:\n",
    "    bs = m.get_bandstructure_by_material_id(material)\n",
    "    if bs:\n",
    "        vbm = bs.get_vbm()['energy']\n",
    "        cbm = bs.get_cbm()['energy']\n",
    "        fermi = bs.efermi\n",
    "        \n",
    "        if fermi < (vbm + cbm)/2:\n",
    "            print(material, ' is a p type: ')\n",
    "        else:\n",
    "            print(material, ' is an n type: ')\n",
    "    else:\n",
    "        print(\"MP doesn't have that bandstructure\")\n",
    "except:\n",
    "    print(\"Can't get bandstructure\")"
   ]
  },
  {
   "cell_type": "code",
   "execution_count": null,
   "id": "c419c997",
   "metadata": {},
   "outputs": [],
   "source": []
  }
 ],
 "metadata": {
  "kernelspec": {
   "display_name": "Python 3",
   "language": "python",
   "name": "python3"
  },
  "language_info": {
   "codemirror_mode": {
    "name": "ipython",
    "version": 3
   },
   "file_extension": ".py",
   "mimetype": "text/x-python",
   "name": "python",
   "nbconvert_exporter": "python",
   "pygments_lexer": "ipython3",
   "version": "3.7.10"
  }
 },
 "nbformat": 4,
 "nbformat_minor": 5
}
