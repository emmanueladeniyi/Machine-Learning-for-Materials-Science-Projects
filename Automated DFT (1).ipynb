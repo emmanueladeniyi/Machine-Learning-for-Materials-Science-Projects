{
 "cells": [
  {
   "cell_type": "code",
   "execution_count": 1,
   "id": "961c80e3",
   "metadata": {},
   "outputs": [],
   "source": [
    "from pymatgen import Structure"
   ]
  },
  {
   "cell_type": "code",
   "execution_count": 11,
   "id": "bf2f9e04",
   "metadata": {},
   "outputs": [],
   "source": [
    "struc = Structure.from_file(\"Al16Cr10.cif\")"
   ]
  },
  {
   "cell_type": "code",
   "execution_count": 12,
   "id": "0749abe9",
   "metadata": {},
   "outputs": [
    {
     "data": {
      "text/plain": [
       "Structure Summary\n",
       "Lattice\n",
       "    abc : 7.87891373 7.87891356 7.87891376\n",
       " angles : 109.69518779 109.69519443 109.69518692000001\n",
       " volume : 373.3557970242865\n",
       "      A : 7.4179879378990465 0.0 -2.6553223002051487\n",
       "      B : -3.7708043655287886 6.388081220096889 -2.6553213832427804\n",
       "      C : 0.0 0.0 7.87891376\n",
       "PeriodicSite: Al (2.5401, 4.4490, 1.7887) [0.6965, 0.6965, 0.6965]\n",
       "PeriodicSite: Al (4.7885, 0.0131, 3.3720) [0.6466, 0.0020, 0.6466]\n",
       "PeriodicSite: Al (2.3581, 4.1303, -3.4176) [0.6466, 0.6466, 0.0020]\n",
       "PeriodicSite: Al (-2.4229, 4.1303, 3.3720) [0.0020, 0.6466, 0.6466]\n",
       "PeriodicSite: Al (0.3901, 3.5682, 0.2747) [0.3365, 0.5586, 0.3365]\n",
       "PeriodicSite: Al (1.2274, 2.1497, 2.6138) [0.3365, 0.3365, 0.5586]\n",
       "PeriodicSite: Al (2.8745, 2.1497, 0.2747) [0.5586, 0.3365, 0.3365]\n",
       "PeriodicSite: Al (4.0040, 2.4506, 2.8195) [0.7348, 0.3836, 0.7348]\n",
       "PeriodicSite: Al (2.6798, 4.6938, -0.8796) [0.7348, 0.7348, 0.3836]\n",
       "PeriodicSite: Al (0.0750, 4.6938, 2.8195) [0.3836, 0.7348, 0.7348]\n",
       "PeriodicSite: Al (-0.4312, 4.2592, -2.2162) [0.2808, 0.6667, 0.0381]\n",
       "PeriodicSite: Al (-0.7766, 1.7938, 4.4066) [0.0381, 0.2808, 0.6667]\n",
       "PeriodicSite: Al (4.8024, 0.2431, 0.3409) [0.6667, 0.0381, 0.2808]\n",
       "PeriodicSite: Al (3.8871, 1.7938, -2.2162) [0.6667, 0.2808, 0.0381]\n",
       "PeriodicSite: Al (-2.2319, 4.2592, 0.3409) [0.0381, 0.6667, 0.2808]\n",
       "PeriodicSite: Al (1.9395, 0.2431, 4.4066) [0.2808, 0.0381, 0.6667]\n",
       "PeriodicSite: Cr (0.5512, 0.9654, 0.3881) [0.1511, 0.1511, 0.1511]\n",
       "PeriodicSite: Cr (-2.8925, 5.0930, -2.0369) [0.0153, 0.7973, 0.0153]\n",
       "PeriodicSite: Cr (0.0560, 0.0980, 6.2001) [0.0153, 0.0153, 0.7973]\n",
       "PeriodicSite: Cr (5.8563, 0.0980, -2.0369) [0.7973, 0.0153, 0.0153]\n",
       "PeriodicSite: Cr (6.0694, 2.1316, 4.2740) [0.9878, 0.3337, 0.9878]\n",
       "PeriodicSite: Cr (3.6028, 6.3103, -2.6169) [0.9878, 0.9878, 0.3337]\n",
       "PeriodicSite: Cr (-1.2496, 6.3103, 4.2740) [0.3337, 0.9878, 0.9878]\n",
       "PeriodicSite: Cr (2.6477, 0.1018, 1.8644) [0.3650, 0.0159, 0.3650]\n",
       "PeriodicSite: Cr (1.3313, 2.3318, -1.8130) [0.3650, 0.3650, 0.0159]\n",
       "PeriodicSite: Cr (-1.2582, 2.3318, 1.8644) [0.0159, 0.3650, 0.3650]"
      ]
     },
     "execution_count": 12,
     "metadata": {},
     "output_type": "execute_result"
    }
   ],
   "source": [
    "struc"
   ]
  },
  {
   "cell_type": "code",
   "execution_count": 13,
   "id": "b3f5e64c",
   "metadata": {},
   "outputs": [],
   "source": [
    "import pymatgen.io"
   ]
  },
  {
   "cell_type": "code",
   "execution_count": 14,
   "id": "322952d2",
   "metadata": {},
   "outputs": [],
   "source": [
    "from pymatgen.io.vasp.inputs import Poscar"
   ]
  },
  {
   "cell_type": "code",
   "execution_count": 15,
   "id": "124b386d",
   "metadata": {},
   "outputs": [],
   "source": [
    "my_poscar = Poscar(structure=struc)"
   ]
  },
  {
   "cell_type": "code",
   "execution_count": 16,
   "id": "883ddc4d",
   "metadata": {},
   "outputs": [
    {
     "name": "stdout",
     "output_type": "stream",
     "text": [
      "Al16 Cr10\n",
      "1.0\n",
      "7.417988 0.000000 -2.655322\n",
      "-3.770804 6.388081 -2.655321\n",
      "0.000000 0.000000 7.878914\n",
      "Al Cr\n",
      "16 10\n",
      "direct\n",
      "0.696455 0.696455 0.696455 Al\n",
      "0.646563 0.002044 0.646563 Al\n",
      "0.646563 0.646563 0.002044 Al\n",
      "0.002044 0.646563 0.646563 Al\n",
      "0.336523 0.558569 0.336523 Al\n",
      "0.336523 0.336523 0.558569 Al\n",
      "0.558569 0.336523 0.336523 Al\n",
      "0.734771 0.383622 0.734771 Al\n",
      "0.734771 0.734771 0.383622 Al\n",
      "0.383622 0.734771 0.734771 Al\n",
      "0.280797 0.666745 0.038053 Al\n",
      "0.038053 0.280797 0.666745 Al\n",
      "0.666745 0.038053 0.280797 Al\n",
      "0.666745 0.280797 0.038053 Al\n",
      "0.038053 0.666745 0.280797 Al\n",
      "0.280797 0.038053 0.666745 Al\n",
      "0.151124 0.151124 0.151124 Cr\n",
      "0.015343 0.797266 0.015343 Cr\n",
      "0.015343 0.015343 0.797266 Cr\n",
      "0.797266 0.015343 0.015343 Cr\n",
      "0.987828 0.333690 0.987828 Cr\n",
      "0.987828 0.987828 0.333690 Cr\n",
      "0.333690 0.987828 0.987828 Cr\n",
      "0.365023 0.015932 0.365023 Cr\n",
      "0.365023 0.365023 0.015932 Cr\n",
      "0.015932 0.365023 0.365023 Cr\n",
      "\n"
     ]
    }
   ],
   "source": [
    "print(my_poscar)"
   ]
  },
  {
   "cell_type": "code",
   "execution_count": 18,
   "id": "ae347f69",
   "metadata": {},
   "outputs": [],
   "source": [
    "example_poscar = Poscar.from_file(\"./POSCAR.gz\")"
   ]
  },
  {
   "cell_type": "code",
   "execution_count": 19,
   "id": "bc5c5550",
   "metadata": {},
   "outputs": [
    {
     "name": "stdout",
     "output_type": "stream",
     "text": [
      "Al16 Cr10\n",
      "1.0\n",
      "7.417988 0.000000 -2.655322\n",
      "-3.770804 6.388081 -2.655321\n",
      "0.000000 0.000000 7.878914\n",
      "Al Cr\n",
      "16 10\n",
      "direct\n",
      "0.696455 0.696455 0.696455 Al\n",
      "0.646563 0.002044 0.646563 Al\n",
      "0.646563 0.646563 0.002044 Al\n",
      "0.002044 0.646563 0.646563 Al\n",
      "0.336523 0.558569 0.336523 Al\n",
      "0.336523 0.336523 0.558569 Al\n",
      "0.558569 0.336523 0.336523 Al\n",
      "0.734771 0.383622 0.734771 Al\n",
      "0.734771 0.734771 0.383622 Al\n",
      "0.383622 0.734771 0.734771 Al\n",
      "0.280797 0.666745 0.038053 Al\n",
      "0.038053 0.280797 0.666745 Al\n",
      "0.666745 0.038053 0.280797 Al\n",
      "0.666745 0.280797 0.038053 Al\n",
      "0.038053 0.666745 0.280797 Al\n",
      "0.280797 0.038053 0.666745 Al\n",
      "0.151124 0.151124 0.151124 Cr\n",
      "0.015343 0.797266 0.015343 Cr\n",
      "0.015343 0.015343 0.797266 Cr\n",
      "0.797266 0.015343 0.015343 Cr\n",
      "0.987828 0.333690 0.987828 Cr\n",
      "0.987828 0.987828 0.333690 Cr\n",
      "0.333690 0.987828 0.987828 Cr\n",
      "0.365023 0.015932 0.365023 Cr\n",
      "0.365023 0.365023 0.015932 Cr\n",
      "0.015932 0.365023 0.365023 Cr\n",
      "\n"
     ]
    }
   ],
   "source": [
    "print(example_poscar)"
   ]
  },
  {
   "cell_type": "code",
   "execution_count": 20,
   "id": "101cbe1b",
   "metadata": {},
   "outputs": [
    {
     "data": {
      "text/plain": [
       "Structure Summary\n",
       "Lattice\n",
       "    abc : 7.878913687293953 7.87891307745034 7.878914\n",
       " angles : 109.69518608598659 109.6951922224134 109.69518763777374\n",
       " volume : 373.35579865899433\n",
       "      A : 7.417988 0.0 -2.655322\n",
       "      B : -3.770804 6.388081 -2.655321\n",
       "      C : 0.0 0.0 7.878914\n",
       "PeriodicSite: Al (2.5401, 4.4490, 1.7887) [0.6965, 0.6965, 0.6965]\n",
       "PeriodicSite: Al (4.7885, 0.0131, 3.3720) [0.6466, 0.0020, 0.6466]\n",
       "PeriodicSite: Al (2.3581, 4.1303, -3.4176) [0.6466, 0.6466, 0.0020]\n",
       "PeriodicSite: Al (-2.4229, 4.1303, 3.3720) [0.0020, 0.6466, 0.6466]\n",
       "PeriodicSite: Al (0.3901, 3.5682, 0.2747) [0.3365, 0.5586, 0.3365]\n",
       "PeriodicSite: Al (1.2274, 2.1497, 2.6138) [0.3365, 0.3365, 0.5586]\n",
       "PeriodicSite: Al (2.8745, 2.1497, 0.2747) [0.5586, 0.3365, 0.3365]\n",
       "PeriodicSite: Al (4.0040, 2.4506, 2.8195) [0.7348, 0.3836, 0.7348]\n",
       "PeriodicSite: Al (2.6798, 4.6938, -0.8796) [0.7348, 0.7348, 0.3836]\n",
       "PeriodicSite: Al (0.0750, 4.6938, 2.8195) [0.3836, 0.7348, 0.7348]\n",
       "PeriodicSite: Al (-0.4312, 4.2592, -2.2162) [0.2808, 0.6667, 0.0381]\n",
       "PeriodicSite: Al (-0.7766, 1.7938, 4.4066) [0.0381, 0.2808, 0.6667]\n",
       "PeriodicSite: Al (4.8024, 0.2431, 0.3409) [0.6667, 0.0381, 0.2808]\n",
       "PeriodicSite: Al (3.8871, 1.7938, -2.2162) [0.6667, 0.2808, 0.0381]\n",
       "PeriodicSite: Al (-2.2319, 4.2592, 0.3409) [0.0381, 0.6667, 0.2808]\n",
       "PeriodicSite: Al (1.9395, 0.2431, 4.4066) [0.2808, 0.0381, 0.6667]\n",
       "PeriodicSite: Cr (0.5512, 0.9654, 0.3881) [0.1511, 0.1511, 0.1511]\n",
       "PeriodicSite: Cr (-2.8925, 5.0930, -2.0369) [0.0153, 0.7973, 0.0153]\n",
       "PeriodicSite: Cr (0.0560, 0.0980, 6.2001) [0.0153, 0.0153, 0.7973]\n",
       "PeriodicSite: Cr (5.8563, 0.0980, -2.0369) [0.7973, 0.0153, 0.0153]\n",
       "PeriodicSite: Cr (6.0694, 2.1316, 4.2740) [0.9878, 0.3337, 0.9878]\n",
       "PeriodicSite: Cr (3.6028, 6.3103, -2.6169) [0.9878, 0.9878, 0.3337]\n",
       "PeriodicSite: Cr (-1.2496, 6.3103, 4.2740) [0.3337, 0.9878, 0.9878]\n",
       "PeriodicSite: Cr (2.6477, 0.1018, 1.8644) [0.3650, 0.0159, 0.3650]\n",
       "PeriodicSite: Cr (1.3313, 2.3318, -1.8130) [0.3650, 0.3650, 0.0159]\n",
       "PeriodicSite: Cr (-1.2582, 2.3318, 1.8644) [0.0159, 0.3650, 0.3650]"
      ]
     },
     "execution_count": 20,
     "metadata": {},
     "output_type": "execute_result"
    }
   ],
   "source": [
    "example_poscar.structure"
   ]
  },
  {
   "cell_type": "code",
   "execution_count": 21,
   "id": "8fb04009",
   "metadata": {},
   "outputs": [
    {
     "name": "stdout",
     "output_type": "stream",
     "text": [
      "Full Formula (H4 C3 O3)\n",
      "Reduced Formula: H4(CO)3\n",
      "Charge = 0, Spin Mult = 1\n",
      "Sites (10)\n",
      "0 O     0.310287    -1.176345    -0.374099\n",
      "1 C    -0.682156    -0.509251     0.347984\n",
      "2 C     1.528121    -0.493823    -0.092251\n",
      "3 O    -1.901588    -0.631984    -0.015154\n",
      "4 O    -0.247010     0.912691     0.370073\n",
      "5 C     1.108528     0.972764    -0.081946\n",
      "6 H     2.251945    -0.729522    -0.871996\n",
      "7 H     1.920141    -0.804271     0.883050\n",
      "8 H     1.141868     1.409846    -1.084537\n",
      "9 H     1.702594     1.580992     0.602886\n"
     ]
    }
   ],
   "source": [
    "from pymatgen import Molecule\n",
    "\n",
    "mol = Molecule.from_file(\"ethylene_carbonate.xyz\")\n",
    "print(mol)"
   ]
  },
  {
   "cell_type": "code",
   "execution_count": 22,
   "id": "6f945e07",
   "metadata": {},
   "outputs": [],
   "source": [
    "import pymatgen.io.qchem.inputs"
   ]
  },
  {
   "cell_type": "code",
   "execution_count": 24,
   "id": "3808259e",
   "metadata": {},
   "outputs": [
    {
     "data": {
      "text/plain": [
       "pymatgen.io.qchem.inputs.QCInput"
      ]
     },
     "execution_count": 24,
     "metadata": {},
     "output_type": "execute_result"
    }
   ],
   "source": [
    "pymatgen.io.qchem.inputs.QCInput"
   ]
  },
  {
   "cell_type": "code",
   "execution_count": 25,
   "id": "5cb034d6",
   "metadata": {},
   "outputs": [
    {
     "name": "stdout",
     "output_type": "stream",
     "text": [
      "Full Formula (H4 C3 O3)\n",
      "Reduced Formula: H4(CO)3\n",
      "Charge = 0.0, Spin Mult = 1\n",
      "Sites (10)\n",
      "0 O     0.310287    -1.176345    -0.374099\n",
      "1 C    -0.682156    -0.509251     0.347984\n",
      "2 C     1.528121    -0.493823    -0.092251\n",
      "3 O    -1.901588    -0.631984    -0.015154\n",
      "4 O    -0.247010     0.912691     0.370073\n",
      "5 C     1.108528     0.972764    -0.081946\n",
      "6 H     2.251945    -0.729522    -0.871996\n",
      "7 H     1.920141    -0.804271     0.883050\n",
      "8 H     1.141868     1.409846    -1.084537\n",
      "9 H     1.702594     1.580992     0.602886\n"
     ]
    }
   ],
   "source": [
    "from pymatgen.io.qchem.inputs import QCInput\n",
    "\n",
    "qcinp = QCInput.from_file(\"./mol.qin.gz\")\n",
    "print(qcinp.molecule)"
   ]
  },
  {
   "cell_type": "code",
   "execution_count": 26,
   "id": "75169718",
   "metadata": {},
   "outputs": [],
   "source": [
    "import pymatgen.io.qchem.outputs"
   ]
  },
  {
   "cell_type": "code",
   "execution_count": 27,
   "id": "28fa349f",
   "metadata": {},
   "outputs": [
    {
     "data": {
      "text/plain": [
       "pymatgen.io.qchem.outputs.QCOutput"
      ]
     },
     "execution_count": 27,
     "metadata": {},
     "output_type": "execute_result"
    }
   ],
   "source": [
    "pymatgen.io.qchem.outputs.QCOutput"
   ]
  },
  {
   "cell_type": "code",
   "execution_count": 28,
   "id": "13630c87",
   "metadata": {},
   "outputs": [],
   "source": [
    "from pymatgen.io.qchem.outputs import QCOutput\n",
    "\n",
    "qcoutput = QCOutput(filename=\"./mol.qout.gz\")"
   ]
  },
  {
   "cell_type": "code",
   "execution_count": 29,
   "id": "544c9f5c",
   "metadata": {},
   "outputs": [
    {
     "data": {
      "text/plain": [
       "dict_keys(['errors', 'warnings', 'multiple_outputs', 'charge', 'multiplicity', 'point_group', 'species', 'initial_geometry', 'initial_molecule', 'completion', 'walltime', 'cputime', 'unrestricted', 'using_GEN_SCFMAN', 'SCF', 'SCF_energy_in_the_final_basis_set', 'Total_energy_in_the_final_basis_set', 'Mulliken', 'RESP', 'solvent_method', 'solvent_data', 'final_energy', 'using_dft_d3', 'optimization', 'energy_trajectory', 'geometries', 'last_geometry', 'molecule_from_last_geometry', 'optimized_geometry', 'molecule_from_optimized_geometry', 'gradients', 'pcm_gradients', 'CDS_gradients', 'opt_constraint', 'frequency_job', 'single_point_job', 'force_job'])"
      ]
     },
     "execution_count": 29,
     "metadata": {},
     "output_type": "execute_result"
    }
   ],
   "source": [
    "qcoutput.data.keys()"
   ]
  },
  {
   "cell_type": "code",
   "execution_count": 30,
   "id": "b0248ff3",
   "metadata": {},
   "outputs": [
    {
     "data": {
      "text/plain": [
       "Molecule Summary\n",
       "Site: O (0.2918, -1.1858, -0.2649)\n",
       "Site: C (-0.7138, -0.3636, 0.0702)\n",
       "Site: C (1.5471, -0.4958, -0.0800)\n",
       "Site: O (-1.8614, -0.6985, 0.1528)\n",
       "Site: O (-0.2714, 0.8816, 0.3009)\n",
       "Site: C (1.1213, 0.9646, -0.0719)\n",
       "Site: H (2.2107, -0.7524, -0.9034)\n",
       "Site: H (1.9781, -0.8165, 0.8703)\n",
       "Site: H (1.1856, 1.4299, -1.0573)\n",
       "Site: H (1.6448, 1.5675, 0.6674)"
      ]
     },
     "execution_count": 30,
     "metadata": {},
     "output_type": "execute_result"
    }
   ],
   "source": [
    "qcoutput.data['molecule_from_optimized_geometry']"
   ]
  },
  {
   "cell_type": "code",
   "execution_count": 31,
   "id": "e986b863",
   "metadata": {},
   "outputs": [],
   "source": [
    "import pymatgen.io.vasp.sets"
   ]
  },
  {
   "cell_type": "code",
   "execution_count": 33,
   "id": "e8e8ee27",
   "metadata": {},
   "outputs": [],
   "source": [
    "from pymatgen.io.vasp.sets import MPRelaxSet"
   ]
  },
  {
   "cell_type": "code",
   "execution_count": 34,
   "id": "6f4ab194",
   "metadata": {},
   "outputs": [],
   "source": [
    "relax_set = MPRelaxSet(structure=struc)"
   ]
  },
  {
   "cell_type": "code",
   "execution_count": 35,
   "id": "8b12c046",
   "metadata": {},
   "outputs": [
    {
     "name": "stdout",
     "output_type": "stream",
     "text": [
      "ALGO = Fast\n",
      "EDIFF = 0.0013000000000000002\n",
      "ENCUT = 520\n",
      "IBRION = 2\n",
      "ISIF = 3\n",
      "ISMEAR = -5\n",
      "ISPIN = 2\n",
      "LASPH = True\n",
      "LORBIT = 11\n",
      "LREAL = Auto\n",
      "LWAVE = False\n",
      "MAGMOM = 16*0.6 10*5.0\n",
      "NELM = 100\n",
      "NSW = 99\n",
      "PREC = Accurate\n",
      "SIGMA = 0.05\n",
      "\n"
     ]
    },
    {
     "name": "stderr",
     "output_type": "stream",
     "text": [
      "/home/max/.virtualenvs/aiida/lib/python3.7/site-packages/pymatgen/io/vasp/sets.py:613: BadInputSetWarning: Relaxation of likely metal with ISMEAR < 1 detected. Please see VASP recommendations on ISMEAR for metals.\n",
      "  BadInputSetWarning,\n"
     ]
    }
   ],
   "source": [
    "print(relax_set.incar)"
   ]
  },
  {
   "cell_type": "code",
   "execution_count": 36,
   "id": "7474f004",
   "metadata": {},
   "outputs": [],
   "source": [
    "from pymatgen.io.vasp.sets import MPMetalRelaxSet"
   ]
  },
  {
   "cell_type": "code",
   "execution_count": 37,
   "id": "dbad54b0",
   "metadata": {},
   "outputs": [
    {
     "name": "stdout",
     "output_type": "stream",
     "text": [
      "ALGO = Fast\n",
      "EDIFF = 0.0013000000000000002\n",
      "ENCUT = 520\n",
      "IBRION = 2\n",
      "ISIF = 3\n",
      "ISMEAR = 1\n",
      "ISPIN = 2\n",
      "LASPH = True\n",
      "LORBIT = 11\n",
      "LREAL = Auto\n",
      "LWAVE = False\n",
      "MAGMOM = 16*0.6 10*5.0\n",
      "NELM = 100\n",
      "NSW = 99\n",
      "PREC = Accurate\n",
      "SIGMA = 0.2\n",
      "\n"
     ]
    }
   ],
   "source": [
    "metal_relax_set = MPMetalRelaxSet(structure=struc)\n",
    "print(metal_relax_set.incar)"
   ]
  },
  {
   "cell_type": "code",
   "execution_count": 38,
   "id": "d59de9de",
   "metadata": {},
   "outputs": [],
   "source": [
    "import pymatgen.io.qchem.sets"
   ]
  },
  {
   "cell_type": "code",
   "execution_count": 39,
   "id": "2b85ab17",
   "metadata": {},
   "outputs": [
    {
     "data": {
      "text/plain": [
       "pymatgen.io.qchem.sets.OptSet"
      ]
     },
     "execution_count": 39,
     "metadata": {},
     "output_type": "execute_result"
    }
   ],
   "source": [
    "pymatgen.io.qchem.sets.OptSet"
   ]
  },
  {
   "cell_type": "code",
   "execution_count": 41,
   "id": "7a7de7e7",
   "metadata": {},
   "outputs": [],
   "source": [
    "from pymatgen.io.qchem.sets import OptSet"
   ]
  },
  {
   "cell_type": "code",
   "execution_count": 42,
   "id": "a3e111a1",
   "metadata": {},
   "outputs": [
    {
     "name": "stdout",
     "output_type": "stream",
     "text": [
      "$molecule\n",
      " 0 1\n",
      " O      0.3102870000     -1.1763450000     -0.3740990000\n",
      " C     -0.6821560000     -0.5092510000      0.3479840000\n",
      " C      1.5281210000     -0.4938230000     -0.0922510000\n",
      " O     -1.9015880000     -0.6319840000     -0.0151540000\n",
      " O     -0.2470100000      0.9126910000      0.3700730000\n",
      " C      1.1085280000      0.9727640000     -0.0819460000\n",
      " H      2.2519450000     -0.7295220000     -0.8719960000\n",
      " H      1.9201410000     -0.8042710000      0.8830500000\n",
      " H      1.1418680000      1.4098460000     -1.0845370000\n",
      " H      1.7025940000      1.5809920000      0.6028860000\n",
      "$end\n",
      "\n",
      "$rem\n",
      "   job_type = opt\n",
      "   basis = def2-tzvppd\n",
      "   max_scf_cycles = 200\n",
      "   gen_scfman = true\n",
      "   xc_grid = 3\n",
      "   scf_algorithm = diis\n",
      "   resp_charges = true\n",
      "   symmetry = false\n",
      "   sym_ignore = true\n",
      "   method = wb97xd\n",
      "   geom_opt_max_cycles = 200\n",
      "$end\n",
      "\n"
     ]
    }
   ],
   "source": [
    "opt_set = OptSet(molecule=mol)\n",
    "print(opt_set)"
   ]
  },
  {
   "cell_type": "code",
   "execution_count": 43,
   "id": "606853bc",
   "metadata": {},
   "outputs": [],
   "source": [
    "from pymatgen.io.qchem.sets import FreqSet"
   ]
  },
  {
   "cell_type": "code",
   "execution_count": 44,
   "id": "ca13182d",
   "metadata": {},
   "outputs": [
    {
     "name": "stdout",
     "output_type": "stream",
     "text": [
      "$molecule\n",
      " 0 1\n",
      " O      0.3102870000     -1.1763450000     -0.3740990000\n",
      " C     -0.6821560000     -0.5092510000      0.3479840000\n",
      " C      1.5281210000     -0.4938230000     -0.0922510000\n",
      " O     -1.9015880000     -0.6319840000     -0.0151540000\n",
      " O     -0.2470100000      0.9126910000      0.3700730000\n",
      " C      1.1085280000      0.9727640000     -0.0819460000\n",
      " H      2.2519450000     -0.7295220000     -0.8719960000\n",
      " H      1.9201410000     -0.8042710000      0.8830500000\n",
      " H      1.1418680000      1.4098460000     -1.0845370000\n",
      " H      1.7025940000      1.5809920000      0.6028860000\n",
      "$end\n",
      "\n",
      "$rem\n",
      "   job_type = freq\n",
      "   basis = def2-tzvppd\n",
      "   max_scf_cycles = 200\n",
      "   gen_scfman = true\n",
      "   xc_grid = 3\n",
      "   scf_algorithm = diis\n",
      "   resp_charges = true\n",
      "   symmetry = false\n",
      "   sym_ignore = true\n",
      "   method = wb97xd\n",
      "$end\n",
      "\n"
     ]
    }
   ],
   "source": [
    "freq_set = FreqSet(mol)\n",
    "print(freq_set)"
   ]
  },
  {
   "cell_type": "code",
   "execution_count": 45,
   "id": "8be044ad",
   "metadata": {},
   "outputs": [
    {
     "name": "stdout",
     "output_type": "stream",
     "text": [
      "$molecule\n",
      " 0 1\n",
      " O      0.3102870000     -1.1763450000     -0.3740990000\n",
      " C     -0.6821560000     -0.5092510000      0.3479840000\n",
      " C      1.5281210000     -0.4938230000     -0.0922510000\n",
      " O     -1.9015880000     -0.6319840000     -0.0151540000\n",
      " O     -0.2470100000      0.9126910000      0.3700730000\n",
      " C      1.1085280000      0.9727640000     -0.0819460000\n",
      " H      2.2519450000     -0.7295220000     -0.8719960000\n",
      " H      1.9201410000     -0.8042710000      0.8830500000\n",
      " H      1.1418680000      1.4098460000     -1.0845370000\n",
      " H      1.7025940000      1.5809920000      0.6028860000\n",
      "$end\n",
      "\n",
      "$rem\n",
      "   job_type = freq\n",
      "   basis = def2-tzvppd\n",
      "   max_scf_cycles = 200\n",
      "   gen_scfman = true\n",
      "   xc_grid = 3\n",
      "   scf_algorithm = diis\n",
      "   resp_charges = true\n",
      "   symmetry = false\n",
      "   sym_ignore = true\n",
      "   method = b3lyp\n",
      "$end\n",
      "\n"
     ]
    }
   ],
   "source": [
    "freq_set = FreqSet(mol, dft_rung=1)\n",
    "print(freq_set)"
   ]
  },
  {
   "cell_type": "code",
   "execution_count": 54,
   "id": "0ac29d56",
   "metadata": {},
   "outputs": [
    {
     "name": "stdout",
     "output_type": "stream",
     "text": [
      "Existing /home/max/.pmgrc.yaml backed up to /home/max/.pmgrc.yaml.bak\n",
      "New /home/max/.pmgrc.yaml written!\n"
     ]
    }
   ],
   "source": [
    "!pmg config --add PMG_VASP_PSP_DIR /home/user/python_module/Automated_DFT/POTCAR"
   ]
  },
  {
   "cell_type": "code",
   "execution_count": 55,
   "id": "5eaf5038",
   "metadata": {},
   "outputs": [],
   "source": [
    "si = Structure.from_file(\"Si.CIF\")"
   ]
  },
  {
   "cell_type": "code",
   "execution_count": 59,
   "id": "f1274012",
   "metadata": {},
   "outputs": [
    {
     "name": "stdout",
     "output_type": "stream",
     "text": [
      "Collecting atomate\n",
      "  Downloading atomate-0.9.9.tar.gz (3.3 MB)\n",
      "\u001b[K     |████████████████████████████████| 3.3 MB 8.6 MB/s eta 0:00:01     |████████████████▎               | 1.7 MB 472 kB/s eta 0:00:04     |█████████████████████████████▋  | 3.0 MB 8.6 MB/s eta 0:00:01\n",
      "\u001b[?25hCollecting FireWorks>=1.4.0\n",
      "  Downloading FireWorks-1.9.7.tar.gz (4.9 MB)\n",
      "\u001b[K     |████████████████████████████████| 4.9 MB 1.6 MB/s eta 0:00:01     |████████████▋                   | 1.9 MB 5.7 MB/s eta 0:00:01     |███████████████▉                | 2.4 MB 5.7 MB/s eta 0:00:01\n",
      "\u001b[?25hRequirement already satisfied: pymatgen>=2020.9.14 in ./.virtualenvs/aiida/lib/python3.7/site-packages (from atomate) (2020.12.3)\n",
      "Collecting custodian>=2019.8.24\n",
      "  Downloading custodian-2021.2.8.tar.gz (62 kB)\n",
      "\u001b[K     |████████████████████████████████| 62 kB 977 kB/s  eta 0:00:01\n",
      "\u001b[?25h  Installing build dependencies ... \u001b[?25ldone\n",
      "\u001b[?25h  Getting requirements to build wheel ... \u001b[?25ldone\n",
      "\u001b[?25h    Preparing wheel metadata ... \u001b[?25ldone\n",
      "\u001b[?25hRequirement already satisfied: monty>=2.0.6 in ./.virtualenvs/aiida/lib/python3.7/site-packages (from atomate) (2021.5.9)\n",
      "Requirement already satisfied: tqdm>=4.7.4 in ./.virtualenvs/aiida/lib/python3.7/site-packages (from atomate) (4.61.0)\n",
      "Collecting pymatgen-diffusion>=2018.1.4\n",
      "  Downloading pymatgen_diffusion-2020.10.8-py3-none-any.whl (45 kB)\n",
      "\u001b[K     |████████████████████████████████| 45 kB 1.8 MB/s eta 0:00:01\n",
      "\u001b[?25hCollecting pydash>=4.1.0\n",
      "  Downloading pydash-5.0.1-py3-none-any.whl (84 kB)\n",
      "\u001b[K     |████████████████████████████████| 84 kB 1.8 MB/s eta 0:00:011\n",
      "\u001b[?25hRequirement already satisfied: pyyaml>=5.1.2 in ./.virtualenvs/aiida/lib/python3.7/site-packages (from atomate) (5.1.2)\n",
      "Collecting maggma>=0.26.0\n",
      "  Downloading maggma-0.30.0-py3-none-any.whl (78 kB)\n",
      "\u001b[K     |████████████████████████████████| 78 kB 2.2 MB/s eta 0:00:01\n",
      "\u001b[?25hCollecting sentry-sdk>=0.8.0\n",
      "  Downloading sentry_sdk-1.3.0-py2.py3-none-any.whl (133 kB)\n",
      "\u001b[K     |████████████████████████████████| 133 kB 1.8 MB/s eta 0:00:01\n",
      "\u001b[?25hRequirement already satisfied: ruamel.yaml>=0.15.6 in ./.virtualenvs/aiida/lib/python3.7/site-packages (from custodian>=2019.8.24->atomate) (0.17.7)\n",
      "Collecting pymongo>=3.3.0\n",
      "  Downloading pymongo-3.11.4-cp37-cp37m-manylinux2014_x86_64.whl (512 kB)\n",
      "\u001b[K     |████████████████████████████████| 512 kB 3.9 MB/s eta 0:00:01\n",
      "\u001b[?25hRequirement already satisfied: Jinja2>=2.8.0 in ./.virtualenvs/aiida/lib/python3.7/site-packages (from FireWorks>=1.4.0->atomate) (2.11.3)\n",
      "Requirement already satisfied: six>=1.10.0 in ./.virtualenvs/aiida/lib/python3.7/site-packages (from FireWorks>=1.4.0->atomate) (1.16.0)\n",
      "Requirement already satisfied: python-dateutil>=2.5.3 in ./.virtualenvs/aiida/lib/python3.7/site-packages (from FireWorks>=1.4.0->atomate) (2.8.1)\n",
      "Requirement already satisfied: tabulate>=0.7.5 in ./.virtualenvs/aiida/lib/python3.7/site-packages (from FireWorks>=1.4.0->atomate) (0.8.9)\n",
      "Requirement already satisfied: flask>=0.11.1 in ./.virtualenvs/aiida/lib/python3.7/site-packages (from FireWorks>=1.4.0->atomate) (1.1.4)\n",
      "Collecting flask-paginate>=0.4.5\n",
      "  Downloading flask_paginate-0.8.1-py2.py3-none-any.whl (7.0 kB)\n",
      "Collecting gunicorn>=19.6.0\n",
      "  Downloading gunicorn-20.1.0-py3-none-any.whl (79 kB)\n",
      "\u001b[K     |████████████████████████████████| 79 kB 3.6 MB/s eta 0:00:01\n",
      "\u001b[?25hRequirement already satisfied: click<8.0,>=5.1 in ./.virtualenvs/aiida/lib/python3.7/site-packages (from flask>=0.11.1->FireWorks>=1.4.0->atomate) (7.1.2)\n",
      "Requirement already satisfied: itsdangerous<2.0,>=0.24 in ./.virtualenvs/aiida/lib/python3.7/site-packages (from flask>=0.11.1->FireWorks>=1.4.0->atomate) (1.1.0)\n",
      "Requirement already satisfied: Werkzeug<2.0,>=0.15 in ./.virtualenvs/aiida/lib/python3.7/site-packages (from flask>=0.11.1->FireWorks>=1.4.0->atomate) (1.0.1)\n",
      "Requirement already satisfied: setuptools>=3.0 in ./.virtualenvs/aiida/lib/python3.7/site-packages (from gunicorn>=19.6.0->FireWorks>=1.4.0->atomate) (47.1.0)\n",
      "Requirement already satisfied: MarkupSafe>=0.23 in ./.virtualenvs/aiida/lib/python3.7/site-packages (from Jinja2>=2.8.0->FireWorks>=1.4.0->atomate) (2.0.1)\n",
      "Collecting mongogrant>=0.3.1\n",
      "  Downloading mongogrant-0.3.3-py3-none-any.whl (25 kB)\n",
      "Requirement already satisfied: dnspython>=1.16.0 in ./.virtualenvs/aiida/lib/python3.7/site-packages (from maggma>=0.26.0->atomate) (2.1.0)\n",
      "Collecting sshtunnel>=0.1.5\n",
      "  Downloading sshtunnel-0.4.0-py2.py3-none-any.whl (24 kB)\n",
      "Collecting pynng>=0.5.0\n",
      "  Downloading pynng-0.7.1-cp37-cp37m-manylinux2010_x86_64.whl (843 kB)\n",
      "\u001b[K     |████████████████████████████████| 843 kB 3.6 MB/s eta 0:00:01\n",
      "\u001b[?25hCollecting aioitertools>=0.5.1\n",
      "  Downloading aioitertools-0.7.1-py3-none-any.whl (20 kB)\n",
      "Collecting mongomock>=3.10.0\n",
      "  Downloading mongomock-3.23.0-py2.py3-none-any.whl (57 kB)\n",
      "\u001b[K     |████████████████████████████████| 57 kB 1.2 MB/s eta 0:00:01\n",
      "\u001b[?25hRequirement already satisfied: msgpack>=0.5.6 in ./.virtualenvs/aiida/lib/python3.7/site-packages (from maggma>=0.26.0->atomate) (1.0.2)\n",
      "Requirement already satisfied: pydantic>=0.32.2 in ./.virtualenvs/aiida/lib/python3.7/site-packages (from maggma>=0.26.0->atomate) (1.8.2)\n",
      "Requirement already satisfied: fastapi>=0.42.0 in ./.virtualenvs/aiida/lib/python3.7/site-packages (from maggma>=0.26.0->atomate) (0.63.0)\n",
      "Requirement already satisfied: numpy>=1.17.3 in ./.virtualenvs/aiida/lib/python3.7/site-packages (from maggma>=0.26.0->atomate) (1.20.3)\n",
      "Requirement already satisfied: jsonschema>=3.1.1 in ./.virtualenvs/aiida/lib/python3.7/site-packages (from maggma>=0.26.0->atomate) (3.2.0)\n",
      "Requirement already satisfied: typing_extensions>=3.7 in ./.virtualenvs/aiida/lib/python3.7/site-packages (from aioitertools>=0.5.1->maggma>=0.26.0->atomate) (3.10.0.0)\n",
      "Requirement already satisfied: starlette==0.13.6 in ./.virtualenvs/aiida/lib/python3.7/site-packages (from fastapi>=0.42.0->maggma>=0.26.0->atomate) (0.13.6)\n",
      "Requirement already satisfied: attrs>=17.4.0 in ./.virtualenvs/aiida/lib/python3.7/site-packages (from jsonschema>=3.1.1->maggma>=0.26.0->atomate) (21.2.0)\n",
      "Requirement already satisfied: pyrsistent>=0.14.0 in ./.virtualenvs/aiida/lib/python3.7/site-packages (from jsonschema>=3.1.1->maggma>=0.26.0->atomate) (0.17.3)\n",
      "Requirement already satisfied: importlib-metadata in ./.virtualenvs/aiida/lib/python3.7/site-packages (from jsonschema>=3.1.1->maggma>=0.26.0->atomate) (4.5.0)\n",
      "Requirement already satisfied: requests in ./.virtualenvs/aiida/lib/python3.7/site-packages (from mongogrant>=0.3.1->maggma>=0.26.0->atomate) (2.25.1)\n",
      "Collecting sentinels\n",
      "  Downloading sentinels-1.0.0.tar.gz (4.1 kB)\n",
      "Requirement already satisfied: uncertainties>=3.1.4 in ./.virtualenvs/aiida/lib/python3.7/site-packages (from pymatgen>=2020.9.14->atomate) (3.1.5)\n",
      "Requirement already satisfied: palettable>=3.1.1 in ./.virtualenvs/aiida/lib/python3.7/site-packages (from pymatgen>=2020.9.14->atomate) (3.3.0)\n",
      "Requirement already satisfied: scipy>=1.5.0 in ./.virtualenvs/aiida/lib/python3.7/site-packages (from pymatgen>=2020.9.14->atomate) (1.6.3)\n",
      "Requirement already satisfied: networkx>=2.2 in ./.virtualenvs/aiida/lib/python3.7/site-packages (from pymatgen>=2020.9.14->atomate) (2.5.1)\n",
      "Requirement already satisfied: plotly>=4.5.0 in ./.virtualenvs/aiida/lib/python3.7/site-packages (from pymatgen>=2020.9.14->atomate) (4.14.3)\n",
      "Requirement already satisfied: matplotlib>=1.5 in ./.virtualenvs/aiida/lib/python3.7/site-packages (from pymatgen>=2020.9.14->atomate) (3.4.2)\n",
      "Requirement already satisfied: spglib>=1.9.9.44 in ./.virtualenvs/aiida/lib/python3.7/site-packages (from pymatgen>=2020.9.14->atomate) (1.16.1)\n",
      "Requirement already satisfied: pandas in ./.virtualenvs/aiida/lib/python3.7/site-packages (from pymatgen>=2020.9.14->atomate) (1.2.4)\n",
      "Requirement already satisfied: sympy in ./.virtualenvs/aiida/lib/python3.7/site-packages (from pymatgen>=2020.9.14->atomate) (1.8)\n",
      "Requirement already satisfied: pyparsing>=2.2.1 in ./.virtualenvs/aiida/lib/python3.7/site-packages (from matplotlib>=1.5->pymatgen>=2020.9.14->atomate) (2.4.7)\n",
      "Requirement already satisfied: kiwisolver>=1.0.1 in ./.virtualenvs/aiida/lib/python3.7/site-packages (from matplotlib>=1.5->pymatgen>=2020.9.14->atomate) (1.3.1)\n",
      "Requirement already satisfied: cycler>=0.10 in ./.virtualenvs/aiida/lib/python3.7/site-packages (from matplotlib>=1.5->pymatgen>=2020.9.14->atomate) (0.10.0)\n",
      "Requirement already satisfied: pillow>=6.2.0 in ./.virtualenvs/aiida/lib/python3.7/site-packages (from matplotlib>=1.5->pymatgen>=2020.9.14->atomate) (8.2.0)\n",
      "Requirement already satisfied: decorator<5,>=4.3 in ./.virtualenvs/aiida/lib/python3.7/site-packages (from networkx>=2.2->pymatgen>=2020.9.14->atomate) (4.4.2)\n",
      "Requirement already satisfied: retrying>=1.3.3 in ./.virtualenvs/aiida/lib/python3.7/site-packages (from plotly>=4.5.0->pymatgen>=2020.9.14->atomate) (1.3.3)\n",
      "Collecting sniffio\n",
      "  Downloading sniffio-1.2.0-py3-none-any.whl (10 kB)\n",
      "Requirement already satisfied: cffi in ./.virtualenvs/aiida/lib/python3.7/site-packages (from pynng>=0.5.0->maggma>=0.26.0->atomate) (1.14.5)\n",
      "Requirement already satisfied: ruamel.yaml.clib>=0.1.2 in ./.virtualenvs/aiida/lib/python3.7/site-packages (from ruamel.yaml>=0.15.6->custodian>=2019.8.24->atomate) (0.2.2)\n",
      "Requirement already satisfied: urllib3>=1.10.0 in ./.virtualenvs/aiida/lib/python3.7/site-packages (from sentry-sdk>=0.8.0->custodian>=2019.8.24->atomate) (1.26.5)\n",
      "Requirement already satisfied: certifi in ./.virtualenvs/aiida/lib/python3.7/site-packages (from sentry-sdk>=0.8.0->custodian>=2019.8.24->atomate) (2021.5.30)\n",
      "Requirement already satisfied: paramiko>=2.7.2 in ./.virtualenvs/aiida/lib/python3.7/site-packages (from sshtunnel>=0.1.5->maggma>=0.26.0->atomate) (2.7.2)\n",
      "Requirement already satisfied: pynacl>=1.0.1 in ./.virtualenvs/aiida/lib/python3.7/site-packages (from paramiko>=2.7.2->sshtunnel>=0.1.5->maggma>=0.26.0->atomate) (1.4.0)\n",
      "Requirement already satisfied: cryptography>=2.5 in ./.virtualenvs/aiida/lib/python3.7/site-packages (from paramiko>=2.7.2->sshtunnel>=0.1.5->maggma>=0.26.0->atomate) (3.4.7)\n",
      "Requirement already satisfied: bcrypt>=3.1.3 in ./.virtualenvs/aiida/lib/python3.7/site-packages (from paramiko>=2.7.2->sshtunnel>=0.1.5->maggma>=0.26.0->atomate) (3.2.0)\n",
      "Requirement already satisfied: pycparser in ./.virtualenvs/aiida/lib/python3.7/site-packages (from cffi->pynng>=0.5.0->maggma>=0.26.0->atomate) (2.20)\n",
      "Requirement already satisfied: future in ./.virtualenvs/aiida/lib/python3.7/site-packages (from uncertainties>=3.1.4->pymatgen>=2020.9.14->atomate) (0.18.2)\n",
      "Requirement already satisfied: zipp>=0.5 in ./.virtualenvs/aiida/lib/python3.7/site-packages (from importlib-metadata->jsonschema>=3.1.1->maggma>=0.26.0->atomate) (3.4.1)\n",
      "Requirement already satisfied: pytz>=2017.3 in ./.virtualenvs/aiida/lib/python3.7/site-packages (from pandas->pymatgen>=2020.9.14->atomate) (2019.3)\n",
      "Requirement already satisfied: chardet<5,>=3.0.2 in ./.virtualenvs/aiida/lib/python3.7/site-packages (from requests->mongogrant>=0.3.1->maggma>=0.26.0->atomate) (4.0.0)\n",
      "Requirement already satisfied: idna<3,>=2.5 in ./.virtualenvs/aiida/lib/python3.7/site-packages (from requests->mongogrant>=0.3.1->maggma>=0.26.0->atomate) (2.10)\n",
      "Requirement already satisfied: mpmath>=0.19 in ./.virtualenvs/aiida/lib/python3.7/site-packages (from sympy->pymatgen>=2020.9.14->atomate) (1.2.1)\n",
      "Building wheels for collected packages: atomate, custodian, FireWorks, sentinels\n",
      "  Building wheel for atomate (setup.py) ... \u001b[?25ldone\n",
      "\u001b[?25h  Created wheel for atomate: filename=atomate-0.9.9-py3-none-any.whl size=234532 sha256=d0d7d337dcf0ee53b5c901818ae6bf1da348943e8b6fa5d98cc6ecdca576d23d\n",
      "  Stored in directory: /home/max/.cache/pip/wheels/ec/8d/96/4707ae6e25baff8b01d99ecfacf77f569c5ed648eff2e25dc8\n",
      "  Building wheel for custodian (PEP 517) ... \u001b[?25ldone\n",
      "\u001b[?25h  Created wheel for custodian: filename=custodian-2021.2.8-py3-none-any.whl size=73532 sha256=73433325519550dde91f0d9efe63b42d84ba4d9875ee4db1cd694620188e3027\n",
      "  Stored in directory: /home/max/.cache/pip/wheels/d2/f7/2f/b43a6da861cd2bef7e2e811a6a5e8935a7b6873ae4992528d7\n",
      "  Building wheel for FireWorks (setup.py) ... \u001b[?25ldone\n",
      "\u001b[?25h  Created wheel for FireWorks: filename=FireWorks-1.9.7-py3-none-any.whl size=451553 sha256=e94de97535d772d9c73b8a1cc3d7f487e18b344afee3214ce51c59d73f56991b\n",
      "  Stored in directory: /home/max/.cache/pip/wheels/61/a3/c8/22ff04f2964bc4de48e6034574799418ed76c19d718d384e58\n",
      "  Building wheel for sentinels (setup.py) ... \u001b[?25ldone\n",
      "\u001b[?25h  Created wheel for sentinels: filename=sentinels-1.0.0-py3-none-any.whl size=3186 sha256=c5560e1696233fc106c5d3df31a71b7ad7e3ed2bfdd20fa93b4a7ea26fb4cf27\n",
      "  Stored in directory: /home/max/.cache/pip/wheels/24/4b/6f/cceb54c29f42b50b5d11b8196eab1de6707c5742beac65f52b\n",
      "Successfully built atomate custodian FireWorks sentinels\n",
      "Installing collected packages: sniffio, sentinels, pymongo, sshtunnel, sentry-sdk, pynng, pydash, mongomock, mongogrant, gunicorn, flask-paginate, aioitertools, pymatgen-diffusion, maggma, FireWorks, custodian, atomate\n",
      "Successfully installed FireWorks-1.9.7 aioitertools-0.7.1 atomate-0.9.9 custodian-2021.2.8 flask-paginate-0.8.1 gunicorn-20.1.0 maggma-0.30.0 mongogrant-0.3.3 mongomock-3.23.0 pydash-5.0.1 pymatgen-diffusion-2020.10.8 pymongo-3.11.4 pynng-0.7.1 sentinels-1.0.0 sentry-sdk-1.3.0 sniffio-1.2.0 sshtunnel-0.4.0\n",
      "\u001b[33mWARNING: You are using pip version 20.3.4; however, version 21.1.3 is available.\n",
      "You should consider upgrading via the '/home/max/.virtualenvs/aiida/bin/python -m pip install --upgrade pip' command.\u001b[0m\n",
      "Note: you may need to restart the kernel to use updated packages.\n"
     ]
    }
   ],
   "source": [
    "pip install atomate"
   ]
  },
  {
   "cell_type": "code",
   "execution_count": 60,
   "id": "2b6ad404",
   "metadata": {},
   "outputs": [
    {
     "name": "stderr",
     "output_type": "stream",
     "text": [
      "/home/max/.virtualenvs/aiida/lib/python3.7/site-packages/maggma/utils.py:20: TqdmExperimentalWarning: Using `tqdm.autonotebook.tqdm` in notebook mode. Use `tqdm.tqdm` instead to force console mode (e.g. in jupyter console)\n",
      "  from tqdm.autonotebook import tqdm\n"
     ]
    }
   ],
   "source": [
    "from atomate.vasp.workflows import wf_structure_optimization"
   ]
  },
  {
   "cell_type": "code",
   "execution_count": 61,
   "id": "97cc8706",
   "metadata": {},
   "outputs": [
    {
     "name": "stdout",
     "output_type": "stream",
     "text": [
      "Workflow object: (fw_ids: odict_keys([-1]) , name: Si)\n"
     ]
    }
   ],
   "source": [
    "wf = wf_structure_optimization(structure=si)\n",
    "print(wf)"
   ]
  },
  {
   "cell_type": "code",
   "execution_count": 62,
   "id": "4263fd2d",
   "metadata": {},
   "outputs": [
    {
     "data": {
      "text/plain": [
       "{'fws': [{'spec': {'_tasks': [{'files_to_write': [{'filename': 'FW--Si-structure_optimization',\n",
       "        'contents': ''}],\n",
       "      '_fw_name': 'FileWriteTask'},\n",
       "     {'structure': {'@module': 'pymatgen.core.structure',\n",
       "       '@class': 'Structure',\n",
       "       'charge': None,\n",
       "       'lattice': {'matrix': [[5.523145, 0.0, 3.3819509227383545e-16],\n",
       "         [8.794385361720813e-16, 5.468728, 3.348630120303753e-16],\n",
       "         [0.0, 0.0, 5.468728]],\n",
       "        'a': 5.523145,\n",
       "        'b': 5.468728,\n",
       "        'c': 5.468728,\n",
       "        'alpha': 90.0,\n",
       "        'beta': 90.0,\n",
       "        'gamma': 90.0,\n",
       "        'volume': 165.1806198484466},\n",
       "       'sites': [{'species': [{'element': 'Si', 'occu': 1.0}],\n",
       "         'abc': [0.25, 0.25, 0.25],\n",
       "         'xyz': [1.3807862500000003, 1.367182, 1.3671820000000001],\n",
       "         'label': 'Si',\n",
       "         'properties': {}},\n",
       "        {'species': [{'element': 'Si', 'occu': 1.0}],\n",
       "         'abc': [0.5, 0.5, 0.0],\n",
       "         'xyz': [2.7615725000000007, 2.734364, 3.365290521521054e-16],\n",
       "         'label': 'Si',\n",
       "         'properties': {}},\n",
       "        {'species': [{'element': 'Si', 'occu': 1.0}],\n",
       "         'abc': [0.25, 0.75, 0.75],\n",
       "         'xyz': [1.3807862500000008, 4.101546, 4.101546],\n",
       "         'label': 'Si',\n",
       "         'properties': {}},\n",
       "        {'species': [{'element': 'Si', 'occu': 1.0}],\n",
       "         'abc': [0.5, 0.0, 0.5],\n",
       "         'xyz': [2.7615725, 0.0, 2.734364],\n",
       "         'label': 'Si',\n",
       "         'properties': {}},\n",
       "        {'species': [{'element': 'Si', 'occu': 1.0}],\n",
       "         'abc': [0.75, 0.25, 0.75],\n",
       "         'xyz': [4.1423587500000005, 1.367182, 4.101546],\n",
       "         'label': 'Si',\n",
       "         'properties': {}},\n",
       "        {'species': [{'element': 'Si', 'occu': 1.0}],\n",
       "         'abc': [0.0, 0.5, 0.5],\n",
       "         'xyz': [4.3971926808604063e-16, 2.734364, 2.734364],\n",
       "         'label': 'Si',\n",
       "         'properties': {}},\n",
       "        {'species': [{'element': 'Si', 'occu': 1.0}],\n",
       "         'abc': [0.75, 0.75, 0.25],\n",
       "         'xyz': [4.142358750000001, 4.101546, 1.3671820000000003],\n",
       "         'label': 'Si',\n",
       "         'properties': {}},\n",
       "        {'species': [{'element': 'Si', 'occu': 1.0}],\n",
       "         'abc': [0.0, 0.0, 0.0],\n",
       "         'xyz': [0.0, 0.0, 0.0],\n",
       "         'label': 'Si',\n",
       "         'properties': {}}]},\n",
       "      'vasp_input_set': {'@module': 'pymatgen.io.vasp.sets',\n",
       "       '@class': 'MPRelaxSet',\n",
       "       '@version': '2020.12.3',\n",
       "       'structure': {'@module': 'pymatgen.core.structure',\n",
       "        '@class': 'Structure',\n",
       "        'charge': None,\n",
       "        'lattice': {'matrix': [[5.523145, 0.0, 3.3819509227383545e-16],\n",
       "          [8.794385361720813e-16, 5.468728, 3.348630120303753e-16],\n",
       "          [0.0, 0.0, 5.468728]],\n",
       "         'a': 5.523145,\n",
       "         'b': 5.468728,\n",
       "         'c': 5.468728,\n",
       "         'alpha': 90.0,\n",
       "         'beta': 90.0,\n",
       "         'gamma': 90.0,\n",
       "         'volume': 165.1806198484466},\n",
       "        'sites': [{'species': [{'element': 'Si', 'occu': 1.0}],\n",
       "          'abc': [0.25, 0.25, 0.25],\n",
       "          'xyz': [1.3807862500000003, 1.367182, 1.3671820000000001],\n",
       "          'label': 'Si',\n",
       "          'properties': {}},\n",
       "         {'species': [{'element': 'Si', 'occu': 1.0}],\n",
       "          'abc': [0.5, 0.5, 0.0],\n",
       "          'xyz': [2.7615725000000007, 2.734364, 3.365290521521054e-16],\n",
       "          'label': 'Si',\n",
       "          'properties': {}},\n",
       "         {'species': [{'element': 'Si', 'occu': 1.0}],\n",
       "          'abc': [0.25, 0.75, 0.75],\n",
       "          'xyz': [1.3807862500000008, 4.101546, 4.101546],\n",
       "          'label': 'Si',\n",
       "          'properties': {}},\n",
       "         {'species': [{'element': 'Si', 'occu': 1.0}],\n",
       "          'abc': [0.5, 0.0, 0.5],\n",
       "          'xyz': [2.7615725, 0.0, 2.734364],\n",
       "          'label': 'Si',\n",
       "          'properties': {}},\n",
       "         {'species': [{'element': 'Si', 'occu': 1.0}],\n",
       "          'abc': [0.75, 0.25, 0.75],\n",
       "          'xyz': [4.1423587500000005, 1.367182, 4.101546],\n",
       "          'label': 'Si',\n",
       "          'properties': {}},\n",
       "         {'species': [{'element': 'Si', 'occu': 1.0}],\n",
       "          'abc': [0.0, 0.5, 0.5],\n",
       "          'xyz': [4.3971926808604063e-16, 2.734364, 2.734364],\n",
       "          'label': 'Si',\n",
       "          'properties': {}},\n",
       "         {'species': [{'element': 'Si', 'occu': 1.0}],\n",
       "          'abc': [0.75, 0.75, 0.25],\n",
       "          'xyz': [4.142358750000001, 4.101546, 1.3671820000000003],\n",
       "          'label': 'Si',\n",
       "          'properties': {}},\n",
       "         {'species': [{'element': 'Si', 'occu': 1.0}],\n",
       "          'abc': [0.0, 0.0, 0.0],\n",
       "          'xyz': [0.0, 0.0, 0.0],\n",
       "          'label': 'Si',\n",
       "          'properties': {}}]},\n",
       "       'force_gamma': True,\n",
       "       'user_incar_settings': None},\n",
       "      '_fw_name': '{{atomate.vasp.firetasks.write_inputs.WriteVaspFromIOSet}}'},\n",
       "     {'vasp_cmd': '>>vasp_cmd<<',\n",
       "      'job_type': 'double_relaxation_run',\n",
       "      'max_force_threshold': 0.25,\n",
       "      'ediffg': None,\n",
       "      'auto_npar': '>>auto_npar<<',\n",
       "      'half_kpts_first_relax': False,\n",
       "      'scratch_dir': '>>scratch_dir<<',\n",
       "      'gamma_vasp_cmd': '>>gamma_vasp_cmd<<',\n",
       "      '_fw_name': '{{atomate.vasp.firetasks.run_calc.RunVaspCustodian}}'},\n",
       "     {'name': 'structure optimization',\n",
       "      '_fw_name': '{{atomate.common.firetasks.glue_tasks.PassCalcLocs}}'},\n",
       "     {'db_file': '>>db_file<<',\n",
       "      'additional_fields': {'task_label': 'structure optimization'},\n",
       "      '_fw_name': '{{atomate.vasp.firetasks.parse_outputs.VaspToDb}}'}]},\n",
       "   'fw_id': -1,\n",
       "   'created_on': '2021-07-08T12:49:56.022432',\n",
       "   'updated_on': '2021-07-08T12:49:56.022435',\n",
       "   'name': 'Si-structure optimization'}],\n",
       " 'links': {'-1': []},\n",
       " 'name': 'Si',\n",
       " 'metadata': {'structure': {'@module': 'pymatgen.core.structure',\n",
       "   '@class': 'Structure',\n",
       "   'charge': None,\n",
       "   'lattice': {'matrix': [[5.523145, 0.0, 3.3819509227383545e-16],\n",
       "     [8.794385361720813e-16, 5.468728, 3.348630120303753e-16],\n",
       "     [0.0, 0.0, 5.468728]],\n",
       "    'a': 5.523145,\n",
       "    'b': 5.468728,\n",
       "    'c': 5.468728,\n",
       "    'alpha': 90.0,\n",
       "    'beta': 90.0,\n",
       "    'gamma': 90.0,\n",
       "    'volume': 165.1806198484466},\n",
       "   'sites': [{'species': [{'element': 'Si', 'occu': 1.0}],\n",
       "     'abc': [0.25, 0.25, 0.25],\n",
       "     'xyz': [1.3807862500000003, 1.367182, 1.3671820000000001],\n",
       "     'label': 'Si',\n",
       "     'properties': {}},\n",
       "    {'species': [{'element': 'Si', 'occu': 1.0}],\n",
       "     'abc': [0.5, 0.5, 0.0],\n",
       "     'xyz': [2.7615725000000007, 2.734364, 3.365290521521054e-16],\n",
       "     'label': 'Si',\n",
       "     'properties': {}},\n",
       "    {'species': [{'element': 'Si', 'occu': 1.0}],\n",
       "     'abc': [0.25, 0.75, 0.75],\n",
       "     'xyz': [1.3807862500000008, 4.101546, 4.101546],\n",
       "     'label': 'Si',\n",
       "     'properties': {}},\n",
       "    {'species': [{'element': 'Si', 'occu': 1.0}],\n",
       "     'abc': [0.5, 0.0, 0.5],\n",
       "     'xyz': [2.7615725, 0.0, 2.734364],\n",
       "     'label': 'Si',\n",
       "     'properties': {}},\n",
       "    {'species': [{'element': 'Si', 'occu': 1.0}],\n",
       "     'abc': [0.75, 0.25, 0.75],\n",
       "     'xyz': [4.1423587500000005, 1.367182, 4.101546],\n",
       "     'label': 'Si',\n",
       "     'properties': {}},\n",
       "    {'species': [{'element': 'Si', 'occu': 1.0}],\n",
       "     'abc': [0.0, 0.5, 0.5],\n",
       "     'xyz': [4.3971926808604063e-16, 2.734364, 2.734364],\n",
       "     'label': 'Si',\n",
       "     'properties': {}},\n",
       "    {'species': [{'element': 'Si', 'occu': 1.0}],\n",
       "     'abc': [0.75, 0.75, 0.25],\n",
       "     'xyz': [4.142358750000001, 4.101546, 1.3671820000000003],\n",
       "     'label': 'Si',\n",
       "     'properties': {}},\n",
       "    {'species': [{'element': 'Si', 'occu': 1.0}],\n",
       "     'abc': [0.0, 0.0, 0.0],\n",
       "     'xyz': [0.0, 0.0, 0.0],\n",
       "     'label': 'Si',\n",
       "     'properties': {}}]},\n",
       "  'nsites': 8,\n",
       "  'elements': ['Si'],\n",
       "  'nelements': 1,\n",
       "  'formula': 'Si8',\n",
       "  'formula_pretty': 'Si',\n",
       "  'formula_reduced_abc': 'Si1',\n",
       "  'formula_anonymous': 'A',\n",
       "  'chemsys': 'Si',\n",
       "  'is_ordered': True,\n",
       "  'is_valid': True},\n",
       " 'updated_on': datetime.datetime(2021, 7, 8, 12, 49, 56, 22876),\n",
       " 'created_on': datetime.datetime(2021, 7, 8, 12, 49, 56, 22874)}"
      ]
     },
     "execution_count": 62,
     "metadata": {},
     "output_type": "execute_result"
    }
   ],
   "source": [
    "wf.as_dict()"
   ]
  },
  {
   "cell_type": "code",
   "execution_count": 63,
   "id": "c6686cf7",
   "metadata": {},
   "outputs": [],
   "source": [
    "from atomate.vasp.workflows import wf_bandstructure"
   ]
  },
  {
   "cell_type": "code",
   "execution_count": 65,
   "id": "73ef6f14",
   "metadata": {},
   "outputs": [],
   "source": [
    "wf = wf_bandstructure(structure=si)"
   ]
  },
  {
   "cell_type": "code",
   "execution_count": 66,
   "id": "7ec136b3",
   "metadata": {},
   "outputs": [
    {
     "name": "stdout",
     "output_type": "stream",
     "text": [
      "Workflow object: (fw_ids: odict_keys([-2, -3, -4, -5]) , name: Si)\n"
     ]
    }
   ],
   "source": [
    "print(wf)"
   ]
  }
 ],
 "metadata": {
  "kernelspec": {
   "display_name": "Python 3",
   "language": "python",
   "name": "python3"
  },
  "language_info": {
   "codemirror_mode": {
    "name": "ipython",
    "version": 3
   },
   "file_extension": ".py",
   "mimetype": "text/x-python",
   "name": "python",
   "nbconvert_exporter": "python",
   "pygments_lexer": "ipython3",
   "version": "3.7.10"
  }
 },
 "nbformat": 4,
 "nbformat_minor": 5
}
