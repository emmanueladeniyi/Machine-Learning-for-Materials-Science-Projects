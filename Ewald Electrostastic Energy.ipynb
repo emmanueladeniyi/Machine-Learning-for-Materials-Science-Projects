{
 "cells": [
  {
   "cell_type": "code",
   "execution_count": 1,
   "id": "d453f679",
   "metadata": {},
   "outputs": [],
   "source": [
    "import numpy as np\n",
    "from pymatgen.analysis.energy_models import EwaldElectrostaticModel\n",
    "from pymatgen.core.structure import Structure"
   ]
  },
  {
   "cell_type": "code",
   "execution_count": 3,
   "id": "b68d88df",
   "metadata": {},
   "outputs": [
    {
     "name": "stdout",
     "output_type": "stream",
     "text": [
      "-1178.7058972857396\n"
     ]
    }
   ],
   "source": [
    "structure_file = 'Li10Ge(PS6)2_mp-696128_conventional_standard.cif'\n",
    "\n",
    "structure = Structure.from_file(structure_file)\n",
    "structure.add_oxidation_state_by_element({\"Li\":1,\"Ge\":4,\"P\":5,\"S\":-2})\n",
    "ewald = EwaldElectrostaticModel()\n",
    "print(ewald.get_energy(structure))"
   ]
  },
  {
   "cell_type": "code",
   "execution_count": null,
   "id": "24fda845",
   "metadata": {},
   "outputs": [],
   "source": []
  }
 ],
 "metadata": {
  "kernelspec": {
   "display_name": "Python 3",
   "language": "python",
   "name": "python3"
  },
  "language_info": {
   "codemirror_mode": {
    "name": "ipython",
    "version": 3
   },
   "file_extension": ".py",
   "mimetype": "text/x-python",
   "name": "python",
   "nbconvert_exporter": "python",
   "pygments_lexer": "ipython3",
   "version": "3.7.10"
  }
 },
 "nbformat": 4,
 "nbformat_minor": 5
}
