{
 "cells": [
  {
   "cell_type": "code",
   "execution_count": 4,
   "id": "433455b7",
   "metadata": {},
   "outputs": [],
   "source": [
    "import pymatgen"
   ]
  },
  {
   "cell_type": "code",
   "execution_count": 6,
   "id": "6971a309",
   "metadata": {},
   "outputs": [],
   "source": [
    "from pymatgen import Structure"
   ]
  },
  {
   "cell_type": "code",
   "execution_count": 7,
   "id": "42fcb9e6",
   "metadata": {},
   "outputs": [],
   "source": [
    "Structure = Structure.from_file(\"Zn9Fe4_mp-1207450_computed.cif\")"
   ]
  },
  {
   "cell_type": "code",
   "execution_count": 8,
   "id": "c1186a2c",
   "metadata": {},
   "outputs": [
    {
     "name": "stdout",
     "output_type": "stream",
     "text": [
      "Full Formula (Zn18 Fe8)\n",
      "Reduced Formula: Zn9Fe4\n",
      "abc   :   7.773250   7.773250   7.773250\n",
      "angles: 109.471221 109.471221 109.471221\n",
      "Sites (26)\n",
      "  #  SP           a         b         c\n",
      "---  ----  --------  --------  --------\n",
      "  0  Zn    0.395046  0.643763  0.643763\n",
      "  1  Zn    0.604954  0.248717  0.248717\n",
      "  2  Zn    0         0.356237  0.751283\n",
      "  3  Zn    0.643763  0.643763  0.395046\n",
      "  4  Zn    0         0.751283  0.356237\n",
      "  5  Zn    0.248717  0.248717  0.604954\n",
      "  6  Zn    0.356237  0.751283  0\n",
      "  7  Zn    0.751283  0.356237  0\n",
      "  8  Zn    0.643763  0.395046  0.643763\n",
      "  9  Zn    0.751283  0         0.356237\n",
      " 10  Zn    0.356237  0         0.751283\n",
      " 11  Zn    0.248717  0.604954  0.248717\n",
      " 12  Zn    0.643607  0.643607  0\n",
      " 13  Zn    0.356393  0.356393  0\n",
      " 14  Zn    0.643607  0         0.643607\n",
      " 15  Zn    0.356393  0         0.356393\n",
      " 16  Zn    0         0.643607  0.643607\n",
      " 17  Zn    0         0.356393  0.356393\n",
      " 18  Fe    0.793479  0.793479  0.793479\n",
      " 19  Fe    0.206521  0         0\n",
      " 20  Fe    0         0.206521  0\n",
      " 21  Fe    0         0         0.206521\n",
      " 22  Fe    0.316661  0.316661  0.316661\n",
      " 23  Fe    0.683339  0         0\n",
      " 24  Fe    0         0.683339  0\n",
      " 25  Fe    0         0         0.683339\n"
     ]
    }
   ],
   "source": [
    "print(Structure)"
   ]
  },
  {
   "cell_type": "code",
   "execution_count": 10,
   "id": "b882c94d",
   "metadata": {},
   "outputs": [
    {
     "name": "stdout",
     "output_type": "stream",
     "text": [
      "7.328690 0.000000 -2.591083\n",
      "-3.664345 6.346832 -2.591083\n",
      "0.000000 0.000000 7.773250\n",
      "[Element Zn, Element Zn, Element Zn, Element Zn, Element Zn, Element Zn, Element Zn, Element Zn, Element Zn, Element Zn, Element Zn, Element Zn, Element Zn, Element Zn, Element Zn, Element Zn, Element Zn, Element Zn, Element Fe, Element Fe, Element Fe, Element Fe, Element Fe, Element Fe, Element Fe, Element Fe]\n",
      "0.0\n",
      "[[ 0.53619997  4.08585566  2.31249006]\n",
      " [ 3.52213563  1.57856503 -0.27859328]\n",
      " [-1.30537534  2.26097642  4.91687085]\n",
      " [ 2.35896986  4.08585566 -0.26529584]\n",
      " [-2.75296026  4.76826704  0.8224824 ]\n",
      " [ 0.91138495  1.57856503  3.41356575]\n",
      " [-0.14220957  4.76826704 -2.86967662]\n",
      " [ 4.20054518  2.26097642 -2.86967662]\n",
      " [ 3.27035481  2.50729062  2.31249006]\n",
      " [ 5.50592052  0.          0.8224824 ]\n",
      " [ 2.61075069  0.          4.91687085]\n",
      " [-0.3939904   3.83954145 -0.27859328]\n",
      " [ 2.35839823  4.08486555 -3.33527875]\n",
      " [ 1.30594698  2.26196652 -1.84688793]\n",
      " [ 4.71679645  0.          3.33527876]\n",
      " [ 2.61189396  0.          1.84688793]\n",
      " [-2.35839822  4.08486555  3.33527876]\n",
      " [-1.30594698  2.26196652  1.84688793]\n",
      " [ 2.90758097  5.03607797  2.05597022]\n",
      " [ 1.51352847  0.         -0.53511312]\n",
      " [-0.75676424  1.31075411 -0.53511312]\n",
      " [ 0.          0.          1.60533937]\n",
      " [ 1.16035522  2.00979419  0.82049504]\n",
      " [ 5.00797998  0.         -1.7705883 ]\n",
      " [-2.50398999  4.33703788 -1.7705883 ]\n",
      " [ 0.          0.          5.3117649 ]]\n",
      "(30, 30, 30, 30, 30, 30, 30, 30, 30, 30, 30, 30, 30, 30, 30, 30, 30, 30, 26, 26, 26, 26, 26, 26, 26, 26)\n"
     ]
    }
   ],
   "source": [
    "Zn9F4 = Structure\n",
    "\n",
    "print(Zn9F4.lattice)\n",
    "print(Zn9F4.species)\n",
    "print(Zn9F4.charge)\n",
    "print(Zn9F4.cart_coords)\n",
    "print(Zn9F4.atomic_numbers)"
   ]
  },
  {
   "cell_type": "code",
   "execution_count": 11,
   "id": "9e277b0b",
   "metadata": {},
   "outputs": [
    {
     "name": "stdout",
     "output_type": "stream",
     "text": [
      "[[0.         4.68145607 3.67483103 3.15713006 3.67483103 2.76398945\n",
      "  2.76398945 4.52195283 3.15713006 4.52195283 2.76398945 2.76398945\n",
      "  2.79965674 4.12057679 2.79965674 4.12057679 3.06998313 2.63379238\n",
      "  2.56752268 4.21690169 4.18112293 4.18112293 2.63166299 2.64044702\n",
      "  4.43422189 4.43422189]\n",
      " [4.68145607 0.         3.67483103 2.76398945 3.67483103 4.52195283\n",
      "  3.15713007 2.76398945 2.76398945 2.76398945 3.15713007 4.52195283\n",
      "  4.12057679 2.79965674 4.12057679 2.79965674 3.06998313 2.63379238\n",
      "  4.21690169 2.56752268 4.18112293 4.18112293 2.64044702 2.63166299\n",
      "  4.43422189 4.43422189]\n",
      " [3.67483103 3.67483103 0.         4.52195283 4.68145607 2.76398945\n",
      "  2.76398945 3.15713006 2.76398945 2.76398945 4.52195283 3.15713007\n",
      "  4.1205768  2.79965674 2.79965674 4.1205768  2.63379238 3.06998313\n",
      "  4.18112293 4.18112293 2.56752268 4.21690169 4.43422189 4.43422189\n",
      "  2.63166299 2.64044702]\n",
      " [3.15713006 2.76398945 4.52195283 0.         2.76398945 4.68145607\n",
      "  3.67483103 3.67483103 3.15713006 2.76398945 4.52195283 2.76398945\n",
      "  3.06998313 2.63379238 2.79965674 4.12057679 2.79965674 4.12057679\n",
      "  2.56752268 4.18112293 4.18112293 4.21690169 2.63166299 4.43422189\n",
      "  4.43422189 2.64044702]\n",
      " [3.67483103 3.67483103 4.68145607 2.76398945 0.         3.15713007\n",
      "  4.52195283 2.76398945 4.52195283 3.15713006 2.76398945 2.76398945\n",
      "  2.79965674 4.1205768  4.1205768  2.79965674 2.63379238 3.06998313\n",
      "  4.18112293 4.18112293 4.21690169 2.56752268 4.43422189 4.43422189\n",
      "  2.64044702 2.63166299]\n",
      " [2.76398945 4.52195283 2.76398945 4.68145607 3.15713007 0.\n",
      "  3.67483103 3.67483103 2.76398945 3.15713007 2.76398945 4.52195283\n",
      "  3.06998313 2.63379238 4.12057679 2.79965674 4.12057679 2.79965674\n",
      "  4.21690169 4.18112293 4.18112293 2.56752268 2.64044702 4.43422189\n",
      "  4.43422189 2.63166299]\n",
      " [2.76398945 3.15713007 2.76398945 3.67483103 4.52195283 3.67483103\n",
      "  0.         4.68145607 4.52195283 2.76398945 3.15713006 2.76398945\n",
      "  2.63379238 3.06998313 4.1205768  2.79965674 2.79965674 4.1205768\n",
      "  4.18112293 2.56752268 4.21690169 4.18112293 4.43422189 2.63166299\n",
      "  2.64044702 4.43422189]\n",
      " [4.52195283 2.76398945 3.15713006 3.67483103 2.76398945 3.67483103\n",
      "  4.68145607 0.         2.76398945 4.52195283 2.76398945 3.15713007\n",
      "  2.63379238 3.06998313 2.79965674 4.1205768  4.1205768  2.79965674\n",
      "  4.18112293 4.21690169 2.56752268 4.18112293 4.43422189 2.64044702\n",
      "  2.63166299 4.43422189]\n",
      " [3.15713006 2.76398945 2.76398945 3.15713006 4.52195283 2.76398945\n",
      "  4.52195283 2.76398945 0.         3.67483103 3.67483103 4.68145607\n",
      "  2.79965674 4.12057679 3.06998313 2.63379238 2.79965674 4.12057679\n",
      "  2.56752268 4.18112293 4.21690169 4.18112293 2.63166299 4.43422189\n",
      "  2.64044702 4.43422189]\n",
      " [4.52195283 2.76398945 2.76398945 2.76398945 3.15713006 3.15713007\n",
      "  2.76398945 4.52195283 3.67483103 0.         4.68145607 3.67483103\n",
      "  2.79965674 4.1205768  2.63379238 3.06998313 4.1205768  2.79965674\n",
      "  4.18112293 4.21690169 4.18112293 2.56752268 4.43422189 2.64044702\n",
      "  4.43422189 2.63166299]\n",
      " [2.76398945 3.15713007 4.52195283 4.52195283 2.76398945 2.76398945\n",
      "  3.15713006 2.76398945 3.67483103 4.68145607 0.         3.67483103\n",
      "  4.1205768  2.79965674 2.63379238 3.06998313 2.79965674 4.1205768\n",
      "  4.18112293 2.56752268 4.18112293 4.21690169 4.43422189 2.63166299\n",
      "  4.43422189 2.64044702]\n",
      " [2.76398945 4.52195283 3.15713007 2.76398945 2.76398945 4.52195283\n",
      "  2.76398945 3.15713007 4.68145607 3.67483103 3.67483103 0.\n",
      "  4.12057679 2.79965674 3.06998313 2.63379238 4.12057679 2.79965674\n",
      "  4.21690169 4.18112293 2.56752268 4.18112293 2.64044702 4.43422189\n",
      "  2.63166299 4.43422189]\n",
      " [2.79965674 4.12057679 4.1205768  3.06998313 2.79965674 3.06998313\n",
      "  2.63379238 2.63379238 2.79965674 2.79965674 4.1205768  4.12057679\n",
      "  0.         2.57796853 4.52393305 4.52393305 4.52393305 4.52393305\n",
      "  2.62303942 4.32895639 4.32895639 2.62303942 4.33905087 2.68322936\n",
      "  2.68322936 4.33905087]\n",
      " [4.12057679 2.79965674 2.79965674 2.63379238 4.1205768  2.63379238\n",
      "  3.06998313 3.06998313 4.12057679 4.1205768  2.79965674 2.79965674\n",
      "  2.57796853 0.         4.52393305 4.52393305 4.52393305 4.52393305\n",
      "  4.32895639 2.62303942 2.62303942 4.32895639 2.68322936 4.33905087\n",
      "  4.33905087 2.68322936]\n",
      " [2.79965674 4.12057679 2.79965674 2.79965674 4.1205768  4.12057679\n",
      "  4.1205768  2.79965674 3.06998313 2.63379238 2.63379238 3.06998313\n",
      "  4.52393305 4.52393305 0.         2.57796853 4.52393305 4.52393305\n",
      "  2.62303942 4.32895639 2.62303942 4.32895639 4.33905087 2.68322936\n",
      "  4.33905087 2.68322936]\n",
      " [4.12057679 2.79965674 4.1205768  4.12057679 2.79965674 2.79965674\n",
      "  2.79965674 4.1205768  2.63379238 3.06998313 3.06998313 2.63379238\n",
      "  4.52393305 4.52393305 2.57796853 0.         4.52393305 4.52393305\n",
      "  4.32895639 2.62303942 4.32895639 2.62303942 2.68322936 4.33905087\n",
      "  2.68322936 4.33905087]\n",
      " [3.06998313 3.06998313 2.63379238 2.79965674 2.63379238 4.12057679\n",
      "  2.79965674 4.1205768  2.79965674 4.1205768  2.79965674 4.12057679\n",
      "  4.52393305 4.52393305 4.52393305 4.52393305 0.         2.57796853\n",
      "  2.62303942 2.62303942 4.32895639 4.32895639 4.33905087 4.33905087\n",
      "  2.68322936 2.68322936]\n",
      " [2.63379238 2.63379238 3.06998313 4.12057679 3.06998313 2.79965674\n",
      "  4.1205768  2.79965674 4.12057679 2.79965674 4.1205768  2.79965674\n",
      "  4.52393305 4.52393305 4.52393305 4.52393305 2.57796853 0.\n",
      "  4.32895639 4.32895639 2.62303942 2.62303942 2.68322936 2.68322936\n",
      "  4.33905087 4.33905087]\n",
      " [2.56752268 4.21690169 4.18112293 2.56752268 4.18112293 4.21690169\n",
      "  4.18112293 4.18112293 2.56752268 4.18112293 4.18112293 4.21690169\n",
      "  2.62303942 4.32895639 2.62303942 4.32895639 2.62303942 4.32895639\n",
      "  0.         2.62150821 2.62150821 2.62150821 3.70642553 2.44983214\n",
      "  2.44983214 2.44983214]\n",
      " [4.21690169 2.56752268 4.18112293 4.18112293 4.18112293 4.18112293\n",
      "  2.56752268 4.21690169 4.18112293 4.21690169 2.56752268 4.18112293\n",
      "  4.32895639 2.62303942 4.32895639 2.62303942 2.62303942 4.32895639\n",
      "  2.62150821 0.         2.62150821 2.62150821 2.44983214 3.70642553\n",
      "  2.44983214 2.44983214]\n",
      " [4.18112293 4.18112293 2.56752268 4.18112293 4.21690169 4.18112293\n",
      "  4.21690169 2.56752268 4.21690169 4.18112293 4.18112293 2.56752268\n",
      "  4.32895639 2.62303942 2.62303942 4.32895639 4.32895639 2.62303942\n",
      "  2.62150821 2.62150821 0.         2.62150821 2.44983214 2.44983214\n",
      "  3.70642553 2.44983214]\n",
      " [4.18112293 4.18112293 4.21690169 4.21690169 2.56752268 2.56752268\n",
      "  4.18112293 4.18112293 4.18112293 2.56752268 4.21690169 4.18112293\n",
      "  2.62303942 4.32895639 4.32895639 2.62303942 4.32895639 2.62303942\n",
      "  2.62150821 2.62150821 2.62150821 0.         2.44983214 2.44983214\n",
      "  2.44983214 3.70642553]\n",
      " [2.63166299 2.64044702 4.43422189 2.63166299 4.43422189 2.64044702\n",
      "  4.43422189 4.43422189 2.63166299 4.43422189 4.43422189 2.64044702\n",
      "  4.33905087 2.68322936 4.33905087 2.68322936 4.33905087 2.68322936\n",
      "  3.70642553 2.44983214 2.44983214 2.44983214 0.         4.01958838\n",
      "  4.01958838 4.01958838]\n",
      " [2.64044702 2.63166299 4.43422189 4.43422189 4.43422189 4.43422189\n",
      "  2.63166299 2.64044702 4.43422189 2.64044702 2.63166299 4.43422189\n",
      "  2.68322936 4.33905087 2.68322936 4.33905087 4.33905087 2.68322936\n",
      "  2.44983214 3.70642553 2.44983214 2.44983214 4.01958838 0.\n",
      "  4.01958838 4.01958838]\n",
      " [4.43422189 4.43422189 2.63166299 4.43422189 2.64044702 4.43422189\n",
      "  2.64044702 2.63166299 2.64044702 4.43422189 4.43422189 2.63166299\n",
      "  2.68322936 4.33905087 4.33905087 2.68322936 2.68322936 4.33905087\n",
      "  2.44983214 2.44983214 3.70642553 2.44983214 4.01958838 4.01958838\n",
      "  0.         4.01958838]\n",
      " [4.43422189 4.43422189 2.64044702 2.64044702 2.63166299 2.63166299\n",
      "  4.43422189 4.43422189 4.43422189 2.63166299 2.64044702 4.43422189\n",
      "  4.33905087 2.68322936 2.68322936 4.33905087 2.68322936 4.33905087\n",
      "  2.44983214 2.44983214 2.44983214 3.70642553 4.01958838 4.01958838\n",
      "  4.01958838 0.        ]]\n"
     ]
    }
   ],
   "source": [
    "print(Zn9F4.distance_matrix)"
   ]
  },
  {
   "cell_type": "code",
   "execution_count": 12,
   "id": "550bc071",
   "metadata": {},
   "outputs": [],
   "source": [
    "from pymatgen.ext.matproj import MPRester\n",
    "from pymatgen.ext.matproj import MPRestError\n",
    "\n",
    "m = MPRester(\"asFGTum1WzyZOxCr\")"
   ]
  },
  {
   "cell_type": "code",
   "execution_count": 13,
   "id": "c7767b77",
   "metadata": {},
   "outputs": [
    {
     "data": {
      "application/vnd.jupyter.widget-view+json": {
       "model_id": "5dbc733c0fb240a296e7b213db3fcce5",
       "version_major": 2,
       "version_minor": 0
      },
      "text/plain": [
       "  0%|          | 0/918 [00:00<?, ?it/s]"
      ]
     },
     "metadata": {},
     "output_type": "display_data"
    }
   ],
   "source": [
    "results=m.query({\"band_gap\": {\"$gt\": 6}},properties=[\"material_id\"])"
   ]
  },
  {
   "cell_type": "code",
   "execution_count": 14,
   "id": "9ed9f15c",
   "metadata": {},
   "outputs": [
    {
     "name": "stdout",
     "output_type": "stream",
     "text": [
      "918\n"
     ]
    },
    {
     "data": {
      "text/plain": [
       "[{'material_id': 'mp-642824'},\n",
       " {'material_id': 'mp-1210031'},\n",
       " {'material_id': 'mp-1196163'},\n",
       " {'material_id': 'mp-1206658'},\n",
       " {'material_id': 'mp-1208862'},\n",
       " {'material_id': 'mp-1199215'},\n",
       " {'material_id': 'mp-1196584'},\n",
       " {'material_id': 'mp-1205912'},\n",
       " {'material_id': 'mp-1106386'},\n",
       " {'material_id': 'mp-28289'}]"
      ]
     },
     "execution_count": 14,
     "metadata": {},
     "output_type": "execute_result"
    }
   ],
   "source": [
    "print(len(results))\n",
    "results[0:10]"
   ]
  },
  {
   "cell_type": "code",
   "execution_count": 19,
   "id": "0cc41518",
   "metadata": {},
   "outputs": [
    {
     "data": {
      "text/plain": [
       "Structure Summary\n",
       "Lattice\n",
       "    abc : 7.773250029999999 7.773250029999999 7.77325003\n",
       " angles : 109.47122063 109.47122063 109.47122063\n",
       " volume : 361.56469812927185\n",
       "      A : 7.328690410965127 0.0 -2.5910833427589304\n",
       "      B : -3.6643452042640714 6.346832073070714 -2.5910833427589304\n",
       "      C : 0.0 0.0 7.77325003\n",
       "PeriodicSite: Zn (0.5362, 4.0859, 2.3125) [0.3950, 0.6438, 0.6438]\n",
       "PeriodicSite: Zn (3.5221, 1.5786, -0.2786) [0.6050, 0.2487, 0.2487]\n",
       "PeriodicSite: Zn (-1.3054, 2.2610, 4.9169) [0.0000, 0.3562, 0.7513]\n",
       "PeriodicSite: Zn (2.3590, 4.0859, -0.2653) [0.6438, 0.6438, 0.3950]\n",
       "PeriodicSite: Zn (-2.7530, 4.7683, 0.8225) [0.0000, 0.7513, 0.3562]\n",
       "PeriodicSite: Zn (0.9114, 1.5786, 3.4136) [0.2487, 0.2487, 0.6050]\n",
       "PeriodicSite: Zn (-0.1422, 4.7683, -2.8697) [0.3562, 0.7513, 0.0000]\n",
       "PeriodicSite: Zn (4.2005, 2.2610, -2.8697) [0.7513, 0.3562, 0.0000]\n",
       "PeriodicSite: Zn (3.2704, 2.5073, 2.3125) [0.6438, 0.3950, 0.6438]\n",
       "PeriodicSite: Zn (5.5059, 0.0000, 0.8225) [0.7513, 0.0000, 0.3562]\n",
       "PeriodicSite: Zn (2.6108, 0.0000, 4.9169) [0.3562, 0.0000, 0.7513]\n",
       "PeriodicSite: Zn (-0.3940, 3.8395, -0.2786) [0.2487, 0.6050, 0.2487]\n",
       "PeriodicSite: Zn (2.3584, 4.0849, -3.3353) [0.6436, 0.6436, 0.0000]\n",
       "PeriodicSite: Zn (1.3059, 2.2620, -1.8469) [0.3564, 0.3564, 0.0000]\n",
       "PeriodicSite: Zn (4.7168, 0.0000, 3.3353) [0.6436, 0.0000, 0.6436]\n",
       "PeriodicSite: Zn (2.6119, 0.0000, 1.8469) [0.3564, 0.0000, 0.3564]\n",
       "PeriodicSite: Zn (-2.3584, 4.0849, 3.3353) [0.0000, 0.6436, 0.6436]\n",
       "PeriodicSite: Zn (-1.3059, 2.2620, 1.8469) [0.0000, 0.3564, 0.3564]\n",
       "PeriodicSite: Fe (2.9076, 5.0361, 2.0560) [0.7935, 0.7935, 0.7935]\n",
       "PeriodicSite: Fe (1.5135, 0.0000, -0.5351) [0.2065, 0.0000, 0.0000]\n",
       "PeriodicSite: Fe (-0.7568, 1.3108, -0.5351) [0.0000, 0.2065, 0.0000]\n",
       "PeriodicSite: Fe (0.0000, 0.0000, 1.6053) [0.0000, 0.0000, 0.2065]\n",
       "PeriodicSite: Fe (1.1604, 2.0098, 0.8205) [0.3167, 0.3167, 0.3167]\n",
       "PeriodicSite: Fe (5.0080, 0.0000, -1.7706) [0.6833, 0.0000, 0.0000]\n",
       "PeriodicSite: Fe (-2.5040, 4.3370, -1.7706) [0.0000, 0.6833, 0.0000]\n",
       "PeriodicSite: Fe (0.0000, 0.0000, 5.3118) [0.0000, 0.0000, 0.6833]"
      ]
     },
     "execution_count": 19,
     "metadata": {},
     "output_type": "execute_result"
    }
   ],
   "source": [
    "results=m.query({\"material_id\": 'mp-1207450'},properties=[\"cif\"])\n",
    "Structure = Structure.from_file(\"Zn9Fe4_mp-1207450_computed.cif\")\n",
    "\n",
    "Structure"
   ]
  },
  {
   "cell_type": "code",
   "execution_count": 20,
   "id": "22dbad15",
   "metadata": {},
   "outputs": [
    {
     "name": "stdout",
     "output_type": "stream",
     "text": [
      "28.76923076923077 30 26 1.8461538461538463\n"
     ]
    }
   ],
   "source": [
    "import numpy as np\n",
    "mean_atomic_number=np.mean(Zn9F4.atomic_numbers)\n",
    "max_atomic_number=np.max(Zn9F4.atomic_numbers)\n",
    "min_atomic_number=np.min(Zn9F4.atomic_numbers)\n",
    "std_atomic_number=np.std(Zn9F4.atomic_numbers)\n",
    "\n",
    "print(mean_atomic_number,max_atomic_number,min_atomic_number,std_atomic_number)"
   ]
  },
  {
   "cell_type": "code",
   "execution_count": 21,
   "id": "9347f8e1",
   "metadata": {},
   "outputs": [
    {
     "data": {
      "application/vnd.jupyter.widget-view+json": {
       "model_id": "b0cfe9c881d94b958f4e3976b0e2f076",
       "version_major": 2,
       "version_minor": 0
      },
      "text/plain": [
       "  0%|          | 0/4608 [00:00<?, ?it/s]"
      ]
     },
     "metadata": {},
     "output_type": "display_data"
    }
   ],
   "source": [
    "results = m.query({\"formula_anonymous\": \"ABC3\"}, properties=[\"cif\", \"band_gap\"])"
   ]
  },
  {
   "cell_type": "code",
   "execution_count": 22,
   "id": "c355d844",
   "metadata": {},
   "outputs": [],
   "source": [
    "mean_atomic_numbers = []\n",
    "max_atomic_numbers = []\n",
    "min_atomic_numbers = []\n",
    "std_atomic_numbers = []"
   ]
  },
  {
   "cell_type": "code",
   "execution_count": 23,
   "id": "93fec37c",
   "metadata": {},
   "outputs": [],
   "source": [
    "a_parameters = []\n",
    "b_parameters = []\n",
    "c_parameters = []\n",
    "alpha_parameters = []\n",
    "beta_parameters = []\n",
    "gamma_parameters = []"
   ]
  },
  {
   "cell_type": "code",
   "execution_count": 24,
   "id": "aa388d2b",
   "metadata": {},
   "outputs": [],
   "source": [
    "mean_distance_matrix = []\n",
    "max_distance_matrix = []\n",
    "min_distance_matrix = []\n",
    "std_distance_matrix = []"
   ]
  },
  {
   "cell_type": "code",
   "execution_count": 25,
   "id": "fa79a334",
   "metadata": {},
   "outputs": [],
   "source": [
    "band_gaps = []"
   ]
  },
  {
   "cell_type": "code",
   "execution_count": 26,
   "id": "c2d2a37a",
   "metadata": {},
   "outputs": [
    {
     "name": "stdout",
     "output_type": "stream",
     "text": [
      "a= 7.773250029999999 b= 7.773250029999999 c= 7.77325003\n",
      "alpha= 109.47122063 beta= 109.47122063 gamma= 109.47122063\n"
     ]
    }
   ],
   "source": [
    "print('a=',Zn9F4.lattice.abc[0],'b=',Zn9F4.lattice.abc[1],'c=',Zn9F4.lattice.abc[2])\n",
    "print('alpha=',Zn9F4.lattice.angles[0],'beta=',Zn9F4.lattice.angles[1],'gamma=',Zn9F4.lattice.angles[2])"
   ]
  },
  {
   "cell_type": "code",
   "execution_count": 27,
   "id": "db84593c",
   "metadata": {},
   "outputs": [
    {
     "name": "stderr",
     "output_type": "stream",
     "text": [
      "/home/max/.virtualenvs/aiida/lib/python3.7/site-packages/pymatgen/io/cif.py:1194: UserWarning: Issues encountered while parsing CIF: Some fractional co-ordinates rounded to ideal values to avoid issues with finite precision.\n",
      "  \"Issues encountered while parsing CIF: %s\" % \"\\n\".join(self.warnings)\n"
     ]
    }
   ],
   "source": [
    "for r in results:\n",
    "    cif = r['cif']\n",
    "    bg = r['band_gap']\n",
    "    parser = CifParser.from_string(cif)\n",
    "\n",
    "    structure = parser.get_structures()\n",
    "    structure = structure[0]\n",
    "\n",
    "    mean_atomic_numbers += [np.mean(structure.atomic_numbers)]\n",
    "    max_atomic_numbers += [np.max(structure.atomic_numbers)]\n",
    "    min_atomic_numbers += [np.min(structure.atomic_numbers)]\n",
    "    std_atomic_numbers += [np.std(structure.atomic_numbers)]\n",
    "\n",
    "    # Lattice parameters:\n",
    "    a_parameters += [structure.lattice.abc[0]]\n",
    "    b_parameters += [structure.lattice.abc[1]]\n",
    "    c_parameters += [structure.lattice.abc[2]]\n",
    "    alpha_parameters += [structure.lattice.angles[0]]\n",
    "    beta_parameters += [structure.lattice.angles[1]]\n",
    "    gamma_parameters += [structure.lattice.angles[2]]\n",
    "\n",
    "    mean_distance_matrix += [np.mean(structure.distance_matrix)]\n",
    "    max_distance_matrix += [np.max(structure.distance_matrix)]\n",
    "    min_distance_matrix += [np.min(structure.distance_matrix)]\n",
    "    std_distance_matrix += [np.std(structure.distance_matrix)]\n",
    "\n",
    "    band_gaps += [bg]"
   ]
  },
  {
   "cell_type": "code",
   "execution_count": 28,
   "id": "2aa74792",
   "metadata": {},
   "outputs": [
    {
     "data": {
      "image/png": "[encoded data removed]",
      "text/plain": [
       "<Figure size 720x720 with 1 Axes>"
      ]
     },
     "metadata": {
      "needs_background": "light"
     },
     "output_type": "display_data"
    }
   ],
   "source": [
    "import matplotlib.pyplot as plt\n",
    "\n",
    "plt.rcParams.update({'font.size': 20})\n",
    "\n",
    "plt.figure(figsize=(10, 10))\n",
    "plt.hist(band_gaps, bins=100)\n",
    "plt.savefig('Histogram_PDF', bbox_inches='tight')"
   ]
  },
  {
   "cell_type": "markdown",
   "id": "d746a345",
   "metadata": {},
   "source": [
    "This plot shows that amost half of our structures are metals (zero bandgap). The bandgaps around 7 eV could be outliers, but we can deal with those in a later lecture."
   ]
  },
  {
   "cell_type": "code",
   "execution_count": 29,
   "id": "ce5ca153",
   "metadata": {},
   "outputs": [
    {
     "data": {
      "image/png": "[encoded data removed]",
      "text/plain": [
       "<Figure size 720x720 with 1 Axes>"
      ]
     },
     "metadata": {
      "needs_background": "light"
     },
     "output_type": "display_data"
    }
   ],
   "source": [
    "band_gaps_sorted=sorted(band_gaps)\n",
    "\n",
    "# Scatter plot\n",
    "plt.figure(figsize=(10,10))\n",
    "plt.plot(band_gaps_sorted)\n",
    "plt.ylabel('')\n",
    "plt.xlabel('')\n",
    "plt.savefig('ScatterPlot', bbox_inches='tight')"
   ]
  },
  {
   "cell_type": "code",
   "execution_count": 30,
   "id": "912e9f7a",
   "metadata": {},
   "outputs": [],
   "source": [
    "import pandas as pd\n",
    "from sklearn.preprocessing import StandardScaler"
   ]
  },
  {
   "cell_type": "code",
   "execution_count": 31,
   "id": "e1c63925",
   "metadata": {},
   "outputs": [],
   "source": [
    "dataset_df = pd.DataFrame({\"mean_atomic_numbers\": mean_atomic_numbers,\n",
    "                           \"max_atomic_numbers\": max_atomic_numbers,\n",
    "                           \"min_atomic_numbers\": min_atomic_numbers,\n",
    "                           \"std_atomic_numbers\": std_atomic_numbers,\n",
    "                           \"a_parameters\": a_parameters,\n",
    "                           \"b_parameters\": b_parameters,\n",
    "                           \"c_parameters\": c_parameters,\n",
    "                           \"alpha_parameters\": alpha_parameters,\n",
    "                           \"beta_parameters\": beta_parameters,\n",
    "                           \"gamma_parameters\": gamma_parameters,\n",
    "                           \"mean_distance_matrix\": mean_distance_matrix,\n",
    "                           \"max_distance_matrix\": max_distance_matrix,\n",
    "                           \"min_distance_matrix\": min_distance_matrix,\n",
    "                           \"std_distance_matrix\": std_distance_matrix\n",
    "                           })"
   ]
  },
  {
   "cell_type": "code",
   "execution_count": 32,
   "id": "902257a8",
   "metadata": {},
   "outputs": [],
   "source": [
    "scaler = StandardScaler().fit(dataset_df)"
   ]
  },
  {
   "cell_type": "code",
   "execution_count": 33,
   "id": "c9d6ab9e",
   "metadata": {},
   "outputs": [],
   "source": [
    "scaled_dataset_df = scaler.transform(dataset_df)"
   ]
  },
  {
   "cell_type": "code",
   "execution_count": 34,
   "id": "b75801e3",
   "metadata": {},
   "outputs": [],
   "source": [
    "from sklearn.model_selection import train_test_split\n",
    "\n",
    "X_train_scaled, X_test_scaled, y_train, y_test = train_test_split(\n",
    "    scaled_dataset_df, band_gaps, test_size=.2, random_state=None)"
   ]
  },
  {
   "cell_type": "code",
   "execution_count": 37,
   "id": "b570d197",
   "metadata": {},
   "outputs": [
    {
     "name": "stdout",
     "output_type": "stream",
     "text": [
      "Collecting xgboost\n",
      "  Downloading xgboost-1.4.2-py3-none-manylinux2010_x86_64.whl (166.7 MB)\n",
      "\u001b[K     |████████████████████████████████| 166.7 MB 577 bytes/s  0:00:01   |▏                               | 972 kB 251 kB/s eta 0:10:59     |▍                               | 2.1 MB 251 kB/s eta 0:10:55     |▌                               | 2.5 MB 2.2 MB/s eta 0:01:14     |▌                               | 2.7 MB 2.2 MB/s eta 0:01:14     |▋                               | 2.9 MB 2.2 MB/s eta 0:01:14     |▋                               | 3.0 MB 2.2 MB/s eta 0:01:14     |█                               | 5.0 MB 1.1 MB/s eta 0:02:25     |█                               | 5.1 MB 1.1 MB/s eta 0:02:25     |█▎                              | 6.6 MB 1.7 MB/s eta 0:01:33     |█▎                              | 6.9 MB 1.7 MB/s eta 0:01:33     |█▌                              | 7.9 MB 1.1 MB/s eta 0:02:24     |█▋                              | 8.4 MB 1.1 MB/s eta 0:02:23     |█▊                              | 8.8 MB 1.1 MB/s eta 0:02:23     |█▊                              | 8.9 MB 1.1 MB/s eta 0:02:23     |██▏                             | 11.1 MB 638 kB/s eta 0:04:04     |███                             | 15.3 MB 874 kB/s eta 0:02:54     |███▋                            | 19.0 MB 901 kB/s eta 0:02:44     |███▊                            | 19.1 MB 901 kB/s eta 0:02:44     |███▊                            | 19.5 MB 901 kB/s eta 0:02:44     |███▉                            | 20.2 MB 1.1 MB/s eta 0:02:09     |████▎                           | 22.1 MB 1.3 MB/s eta 0:01:52     |████▎                           | 22.3 MB 1.3 MB/s eta 0:01:52     |████▍                           | 23.0 MB 1.3 MB/s eta 0:01:52     |████▍                           | 23.1 MB 1.3 MB/s eta 0:01:52     |████▉                           | 25.3 MB 951 kB/s eta 0:02:29     |█████▊                          | 29.8 MB 1.7 MB/s eta 0:01:22     |█████▉                          | 30.6 MB 1.4 MB/s eta 0:01:37     |██████                          | 31.3 MB 1.4 MB/s eta 0:01:36     |██████▎                         | 32.6 MB 2.1 MB/s eta 0:01:03     |██████▉                         | 35.3 MB 1.6 MB/s eta 0:01:24     |███████                         | 36.3 MB 1.6 MB/s eta 0:01:24     |███████▎                        | 37.7 MB 1.2 MB/s eta 0:01:47     |███████▎                        | 38.1 MB 1.2 MB/s eta 0:01:46     |███████▍                        | 38.4 MB 1.2 MB/s eta 0:01:46     |███████▊                        | 40.2 MB 948 kB/s eta 0:02:14     |████████                        | 41.3 MB 308 kB/s eta 0:06:47     |████████                        | 42.2 MB 308 kB/s eta 0:06:44     |████████▎                       | 43.1 MB 1.5 MB/s eta 0:01:24     |████████▌                       | 44.1 MB 1.1 MB/s eta 0:01:57     |████████▌                       | 44.5 MB 1.1 MB/s eta 0:01:48     |████████▋                       | 44.8 MB 1.1 MB/s eta 0:01:48     |████████▊                       | 45.4 MB 1.1 MB/s eta 0:01:48     |█████████                       | 46.4 MB 1.3 MB/s eta 0:01:37     |█████████                       | 46.6 MB 975 kB/s eta 0:02:04     |█████████▋                      | 50.2 MB 1.1 MB/s eta 0:01:48     |█████████▋                      | 50.4 MB 1.1 MB/s eta 0:01:47     |█████████▉                      | 51.3 MB 1.0 MB/s eta 0:01:53     |█████████▉                      | 51.4 MB 1.0 MB/s eta 0:01:53     |██████████▏                     | 52.8 MB 877 kB/s eta 0:02:10     |██████████▎                     | 53.5 MB 172 kB/s eta 0:10:58     |██████████▎                     | 53.6 MB 172 kB/s eta 0:10:57     |██████████▍                     | 53.9 MB 1.2 MB/s eta 0:01:37     |██████████▍                     | 54.0 MB 1.2 MB/s eta 0:01:36     |██████████▌                     | 54.7 MB 1.2 MB/s eta 0:01:36     |██████████▋                     | 55.2 MB 751 kB/s eta 0:02:29     |██████████▊                     | 55.8 MB 751 kB/s eta 0:02:28     |██████████▊                     | 56.0 MB 628 kB/s eta 0:02:57     |███████████                     | 57.4 MB 755 kB/s eta 0:02:25     |███████████                     | 57.9 MB 755 kB/s eta 0:02:25     |███████████▌                    | 59.9 MB 1.6 MB/s eta 0:01:07     |███████████▋                    | 60.3 MB 1.6 MB/s eta 0:01:07     |████████████                    | 62.2 MB 1.3 MB/s eta 0:01:21     |████████████                    | 62.4 MB 1.3 MB/s eta 0:01:21     |████████████▏                   | 63.3 MB 1.3 MB/s eta 0:01:20     |████████████▍                   | 64.7 MB 497 kB/s eta 0:03:26     |████████████▍                   | 64.8 MB 497 kB/s eta 0:03:26     |█████████████                   | 67.3 MB 262 kB/s eta 0:06:20     |█████████████▎                  | 69.0 MB 102 kB/s eta 0:15:55     |█████████████▍                  | 69.6 MB 102 kB/s eta 0:15:49     |█████████████▋                  | 71.1 MB 529 kB/s eta 0:03:01     |█████████████▊                  | 71.6 MB 520 kB/s eta 0:03:03     |█████████████▉                  | 71.8 MB 520 kB/s eta 0:03:03     |██████████████▏                 | 74.1 MB 450 kB/s eta 0:03:26     |██████████████▍                 | 75.3 MB 627 kB/s eta 0:02:26     |██████████████▊                 | 76.8 MB 596 kB/s eta 0:02:31     |██████████████▊                 | 77.0 MB 703 kB/s eta 0:02:08     |███████████████▎                | 79.7 MB 677 kB/s eta 0:02:09     |███████████████▎                | 79.8 MB 677 kB/s eta 0:02:09     |███████████████▊                | 81.8 MB 580 kB/s eta 0:02:27     |███████████████▉                | 82.7 MB 751 kB/s eta 0:01:52     |████████████████                | 82.8 MB 751 kB/s eta 0:01:52     |████████████████                | 83.2 MB 751 kB/s eta 0:01:52     |████████████████▏               | 84.1 MB 2.4 MB/s eta 0:00:35     |████████████████▎               | 84.6 MB 2.4 MB/s eta 0:00:35     |████████████████▎               | 84.9 MB 2.4 MB/s eta 0:00:35     |████████████████▎               | 84.9 MB 2.4 MB/s eta 0:00:35     |████████████████▋               | 86.5 MB 276 kB/s eta 0:04:51     |████████████████▊               | 87.3 MB 276 kB/s eta 0:04:48     |█████████████████               | 88.4 MB 2.4 MB/s eta 0:00:33     |█████████████████▏              | 89.2 MB 2.5 MB/s eta 0:00:31     |█████████████████▏              | 89.6 MB 2.5 MB/s eta 0:00:31     |██████████████████              | 94.0 MB 531 kB/s eta 0:02:17     |██████████████████              | 94.2 MB 531 kB/s eta 0:02:17     |██████████████████▏             | 94.9 MB 697 kB/s eta 0:01:43     |██████████████████▎             | 95.0 MB 697 kB/s eta 0:01:43     |██████████████████▌             | 96.2 MB 1.1 MB/s eta 0:01:06     |██████████████████▌             | 96.5 MB 1.1 MB/s eta 0:01:06     |██████████████████▊             | 97.5 MB 835 kB/s eta 0:01:23     |███████████████████▎            | 100.7 MB 460 kB/s eta 0:02:24     |███████████████████▍            | 101.1 MB 1.1 MB/s eta 0:00:59     |███████████████████▌            | 101.4 MB 1.1 MB/s eta 0:00:59     |███████████████████▌            | 101.4 MB 1.1 MB/s eta 0:00:59     |███████████████████▌            | 101.7 MB 1.1 MB/s eta 0:00:59     |███████████████████▌            | 101.8 MB 1.1 MB/s eta 0:00:59     |███████████████████▉            | 103.1 MB 792 kB/s eta 0:01:21     |███████████████████▉            | 103.1 MB 792 kB/s eta 0:01:21     |████████████████████▏           | 105.2 MB 601 kB/s eta 0:01:43     |████████████████████▎           | 105.8 MB 464 kB/s eta 0:02:12     |████████████████████▍           | 106.3 MB 1.4 MB/s eta 0:00:45     |████████████████████▍           | 106.5 MB 1.4 MB/s eta 0:00:45     |████████████████████▌           | 107.1 MB 116 kB/s eta 0:08:31     |█████████████████████           | 109.3 MB 796 kB/s eta 0:01:13     |█████████████████████           | 109.4 MB 796 kB/s eta 0:01:12     |█████████████████████▏          | 110.1 MB 509 kB/s eta 0:01:52     |█████████████████████▏          | 110.2 MB 509 kB/s eta 0:01:52     |█████████████████████▏          | 110.2 MB 509 kB/s eta 0:01:51     |█████████████████████▎          | 110.7 MB 728 kB/s eta 0:01:17     |█████████████████████▎          | 111.0 MB 728 kB/s eta 0:01:17     |█████████████████████▍          | 111.4 MB 788 kB/s eta 0:01:11     |█████████████████████▍          | 111.5 MB 788 kB/s eta 0:01:11     |█████████████████████▍          | 111.7 MB 788 kB/s eta 0:01:10     |█████████████████████▌          | 111.9 MB 788 kB/s eta 0:01:10     |█████████████████████▌          | 112.1 MB 727 kB/s eta 0:01:16     |█████████████████████▌          | 112.3 MB 727 kB/s eta 0:01:15     |█████████████████████▋          | 112.7 MB 363 kB/s eta 0:02:29     |█████████████████████▊          | 113.3 MB 764 kB/s eta 0:01:10     |█████████████████████▉          | 113.8 MB 583 kB/s eta 0:01:31     |██████████████████████          | 114.3 MB 583 kB/s eta 0:01:30     |██████████████████████          | 114.8 MB 569 kB/s eta 0:01:32     |██████████████████████▊         | 118.2 MB 674 kB/s eta 0:01:12     |██████████████████████▊         | 118.4 MB 1.6 MB/s eta 0:00:31     |███████████████████████         | 120.2 MB 188 kB/s eta 0:04:08     |███████████████████████▍        | 122.1 MB 1.1 MB/s eta 0:00:42     |███████████████████████▋        | 122.9 MB 490 kB/s eta 0:01:30     |███████████████████████▋        | 123.2 MB 490 kB/s eta 0:01:29     |███████████████████████▉        | 123.9 MB 620 kB/s eta 0:01:10     |███████████████████████▉        | 124.0 MB 620 kB/s eta 0:01:09     |███████████████████████▉        | 124.2 MB 648 kB/s eta 0:01:06     |████████████████████████        | 124.5 MB 648 kB/s eta 0:01:06     |████████████████████████        | 124.8 MB 671 kB/s eta 0:01:03     |████████████████████████▌       | 127.9 MB 1.3 MB/s eta 0:00:31     |████████████████████████▋       | 128.3 MB 1.3 MB/s eta 0:00:31     |████████████████████████▊       | 128.7 MB 1.3 MB/s eta 0:00:31     |████████████████████████▉       | 129.3 MB 645 kB/s eta 0:00:59     |████████████████████████▉       | 129.5 MB 833 kB/s eta 0:00:45     |█████████████████████████▍      | 132.5 MB 674 kB/s eta 0:00:51     |█████████████████████████▌      | 132.8 MB 338 kB/s eta 0:01:41     |█████████████████████████▌      | 132.9 MB 338 kB/s eta 0:01:40     |█████████████████████████▌      | 132.9 MB 338 kB/s eta 0:01:40     |█████████████████████████▋      | 133.6 MB 645 kB/s eta 0:00:52     |█████████████████████████▊      | 133.8 MB 645 kB/s eta 0:00:51     |█████████████████████████▊      | 134.1 MB 473 kB/s eta 0:01:09     |█████████████████████████▊      | 134.2 MB 473 kB/s eta 0:01:09     |██████████████████████████      | 135.0 MB 545 kB/s eta 0:00:59     |██████████████████████████▎     | 137.1 MB 545 kB/s eta 0:00:55     |██████████████████████████▍     | 137.2 MB 545 kB/s eta 0:00:55     |██████████████████████████▍     | 137.7 MB 553 kB/s eta 0:00:53     |██████████████████████████▌     | 138.2 MB 682 kB/s eta 0:00:42     |███████████████████████████     | 140.2 MB 605 kB/s eta 0:00:44     |███████████████████████████     | 140.8 MB 613 kB/s eta 0:00:43     |███████████████████████████▎    | 142.3 MB 400 kB/s eta 0:01:01     |███████████████████████████▋    | 144.1 MB 433 kB/s eta 0:00:53     |███████████████████████████▊    | 144.3 MB 413 kB/s eta 0:00:55     |████████████████████████████▏   | 146.6 MB 513 kB/s eta 0:00:40     |████████████████████████████▏   | 146.9 MB 513 kB/s eta 0:00:39     |████████████████████████████▎   | 147.1 MB 513 kB/s eta 0:00:39     |████████████████████████████▎   | 147.5 MB 701 kB/s eta 0:00:28     |████████████████████████████▌   | 148.4 MB 1.4 MB/s eta 0:00:13     |█████████████████████████████▌  | 153.8 MB 982 kB/s eta 0:00:14     |█████████████████████████████▋  | 154.1 MB 982 kB/s eta 0:00:13     |█████████████████████████████▋  | 154.3 MB 982 kB/s eta 0:00:13     |█████████████████████████████▉  | 155.6 MB 1.1 MB/s eta 0:00:11     |█████████████████████████████▉  | 155.7 MB 1.1 MB/s eta 0:00:11     |██████████████████████████████  | 155.8 MB 1.1 MB/s eta 0:00:11     |██████████████████████████████  | 156.0 MB 1.1 MB/s eta 0:00:10     |██████████████████████████████  | 156.8 MB 1.0 MB/s eta 0:00:10     |██████████████████████████████▏ | 157.4 MB 1.0 MB/s eta 0:00:10     |██████████████████████████████▌ | 159.0 MB 1.4 MB/s eta 0:00:06     |██████████████████████████████▋ | 159.4 MB 1.2 MB/s eta 0:00:07     |███████████████████████████████▍| 163.3 MB 1.1 MB/s eta 0:00:04     |███████████████████████████████▍| 163.4 MB 1.1 MB/s eta 0:00:04     |███████████████████████████████▉| 165.7 MB 1.6 MB/s eta 0:00:01     |████████████████████████████████| 166.7 MB 1.6 MB/s eta 0:00:01\n",
      "\u001b[?25hRequirement already satisfied: scipy in ./.virtualenvs/aiida/lib/python3.7/site-packages (from xgboost) (1.6.3)\n",
      "Requirement already satisfied: numpy in ./.virtualenvs/aiida/lib/python3.7/site-packages (from xgboost) (1.20.3)\n",
      "Installing collected packages: xgboost\n",
      "Successfully installed xgboost-1.4.2\n",
      "Note: you may need to restart the kernel to use updated packages.\n"
     ]
    }
   ],
   "source": [
    "pip install xgboost"
   ]
  },
  {
   "cell_type": "code",
   "execution_count": 38,
   "id": "7e496379",
   "metadata": {},
   "outputs": [],
   "source": [
    "from sklearn.metrics import mean_squared_error, r2_score\n",
    "from xgboost import XGBRegressor\n",
    "from sklearn.ensemble import RandomForestRegressor"
   ]
  },
  {
   "cell_type": "code",
   "execution_count": 39,
   "id": "1eea60fa",
   "metadata": {},
   "outputs": [
    {
     "name": "stdout",
     "output_type": "stream",
     "text": [
      "RF MSE\t1.229946642053808\n",
      "\n",
      "RF R2\t0.4380099571858338\n",
      "\n",
      "[20:06:22] WARNING: ../src/objective/regression_obj.cu:171: reg:linear is now deprecated in favor of reg:squarederror.\n",
      "XGBOOST MSE\t1.0838657774393892\n",
      "\n",
      "XGBOOST R2\t0.5047575611484748\n",
      "\n"
     ]
    },
    {
     "data": {
      "image/png": "[encoded data removed]",
      "text/plain": [
       "<Figure size 720x720 with 1 Axes>"
      ]
     },
     "metadata": {
      "needs_background": "light"
     },
     "output_type": "display_data"
    }
   ],
   "source": [
    "regr = RandomForestRegressor(n_estimators=400, max_depth=400, random_state=0)\n",
    "regr.fit(X_train_scaled, y_train)\n",
    "y_predicted = regr.predict(X_test_scaled)\n",
    "\n",
    "print('RF MSE\\t'+str(mean_squared_error(y_test, y_predicted))+'\\n')\n",
    "print('RF R2\\t'+str(r2_score(y_test, y_predicted))+'\\n')\n",
    "\n",
    "xPlot=y_test\n",
    "yPlot=y_predicted\n",
    "plt.figure(figsize=(10,10))\n",
    "plt.plot(xPlot,yPlot,'ro')\n",
    "plt.plot(xPlot,xPlot)\n",
    "plt.ylabel('RF')\n",
    "plt.xlabel('DFT')\n",
    "plt.savefig('RF_Correlation_Test', bbox_inches='tight')\n",
    "\n",
    "\n",
    "regr = XGBRegressor(objective='reg:linear', colsample_bytree=0.3, learning_rate=0.1,\n",
    "                    max_depth=400, alpha=10, n_estimators=400)\n",
    "regr.fit(X_train_scaled, y_train)\n",
    "y_predicted = regr.predict(X_test_scaled)\n",
    "\n",
    "print('XGBOOST MSE\\t'+str(mean_squared_error(y_test, y_predicted))+'\\n')\n",
    "print('XGBOOST R2\\t'+str(r2_score(y_test, y_predicted))+'\\n')"
   ]
  },
  {
   "cell_type": "code",
   "execution_count": 40,
   "id": "1c25daa0",
   "metadata": {},
   "outputs": [
    {
     "data": {
      "image/png": "[encoded data removed]",
      "text/plain": [
       "<Figure size 720x720 with 1 Axes>"
      ]
     },
     "metadata": {
      "needs_background": "light"
     },
     "output_type": "display_data"
    }
   ],
   "source": [
    "xPlot=y_test\n",
    "yPlot=y_predicted\n",
    "plt.figure(figsize=(10,10))\n",
    "plt.plot(xPlot,yPlot,'ro')\n",
    "plt.plot(xPlot,xPlot)\n",
    "plt.ylabel('XGBOOST')\n",
    "plt.xlabel('DFT')\n",
    "plt.savefig('XGBOOST_Correlation_Test', bbox_inches='tight')"
   ]
  },
  {
   "cell_type": "code",
   "execution_count": 41,
   "id": "8cfff763",
   "metadata": {},
   "outputs": [],
   "source": [
    "mean_atomic_numbers = []\n",
    "max_atomic_numbers = []\n",
    "min_atomic_numbers = []\n",
    "std_atomic_numbers = []\n",
    "a_parameters = []\n",
    "b_parameters = []\n",
    "c_parameters = []\n",
    "alpha_parameters = []\n",
    "beta_parameters = []\n",
    "gamma_parameters = []\n",
    "mean_distance_matrix = []\n",
    "max_distance_matrix = []\n",
    "min_distance_matrix = []\n",
    "std_distance_matrix = []\n",
    "band_gaps = []"
   ]
  },
  {
   "cell_type": "code",
   "execution_count": 42,
   "id": "2c38a4f6",
   "metadata": {},
   "outputs": [
    {
     "name": "stderr",
     "output_type": "stream",
     "text": [
      "/home/max/.virtualenvs/aiida/lib/python3.7/site-packages/pymatgen/io/cif.py:1194: UserWarning: Issues encountered while parsing CIF: Some fractional co-ordinates rounded to ideal values to avoid issues with finite precision.\n",
      "  \"Issues encountered while parsing CIF: %s\" % \"\\n\".join(self.warnings)\n"
     ]
    }
   ],
   "source": [
    "for r in results:\n",
    "    cif = r['cif']\n",
    "    bg = r['band_gap']\n",
    "    if bg > 1 and bg < 6:\n",
    "      parser = CifParser.from_string(cif)\n",
    "\n",
    "      structure = parser.get_structures()\n",
    "      structure = structure[0]\n",
    "\n",
    "      mean_atomic_numbers += [np.mean(structure.atomic_numbers)]\n",
    "      max_atomic_numbers += [np.max(structure.atomic_numbers)]\n",
    "      min_atomic_numbers += [np.min(structure.atomic_numbers)]\n",
    "      std_atomic_numbers += [np.std(structure.atomic_numbers)]\n"
   ]
  },
  {
   "cell_type": "code",
   "execution_count": 43,
   "id": "d32609db",
   "metadata": {},
   "outputs": [],
   "source": [
    "      # Lattice parameters:\n",
    "      a_parameters += [structure.lattice.abc[0]]\n",
    "      b_parameters += [structure.lattice.abc[1]]\n",
    "      c_parameters += [structure.lattice.abc[2]]\n",
    "      alpha_parameters += [structure.lattice.angles[0]]\n",
    "      beta_parameters += [structure.lattice.angles[1]]\n",
    "      gamma_parameters += [structure.lattice.angles[2]]\n",
    "\n",
    "      mean_distance_matrix += [np.mean(structure.distance_matrix)]\n",
    "      max_distance_matrix += [np.max(structure.distance_matrix)]\n",
    "      min_distance_matrix += [np.min(structure.distance_matrix)]\n",
    "      std_distance_matrix += [np.std(structure.distance_matrix)]\n",
    "\n",
    "      band_gaps += [bg]"
   ]
  },
  {
   "cell_type": "code",
   "execution_count": 44,
   "id": "763491ae",
   "metadata": {},
   "outputs": [
    {
     "name": "stdout",
     "output_type": "stream",
     "text": [
      "1\n"
     ]
    }
   ],
   "source": [
    "print(len(band_gaps))"
   ]
  },
  {
   "cell_type": "code",
   "execution_count": 45,
   "id": "c28aaf67",
   "metadata": {},
   "outputs": [
    {
     "data": {
      "image/png": "[encoded data removed]",
      "text/plain": [
       "<Figure size 720x720 with 1 Axes>"
      ]
     },
     "metadata": {
      "needs_background": "light"
     },
     "output_type": "display_data"
    }
   ],
   "source": [
    "plt.rcParams.update({'font.size': 20})\n",
    "\n",
    "plt.figure(figsize=(10, 10))\n",
    "plt.hist(band_gaps, bins=100)\n",
    "plt.savefig('Histogram_PDF_NoMetals', bbox_inches='tight')\n",
    "\n",
    "band_gaps_sorted=sorted(band_gaps)"
   ]
  },
  {
   "cell_type": "code",
   "execution_count": 46,
   "id": "459f453b",
   "metadata": {},
   "outputs": [
    {
     "data": {
      "image/png": "[encoded data removed]",
      "text/plain": [
       "<Figure size 720x720 with 1 Axes>"
      ]
     },
     "metadata": {
      "needs_background": "light"
     },
     "output_type": "display_data"
    }
   ],
   "source": [
    "plt.figure(figsize=(10,10))\n",
    "plt.plot(band_gaps_sorted)\n",
    "plt.ylabel('')\n",
    "plt.xlabel('')\n",
    "plt.savefig('ScatterPlot_NoMetals', bbox_inches='tight')"
   ]
  },
  {
   "cell_type": "markdown",
   "id": "477ada89",
   "metadata": {},
   "source": [
    "This histogram shows that almost half of our data are metals (zero bandgap)."
   ]
  }
 ],
 "metadata": {
  "kernelspec": {
   "display_name": "Python 3",
   "language": "python",
   "name": "python3"
  },
  "language_info": {
   "codemirror_mode": {
    "name": "ipython",
    "version": 3
   },
   "file_extension": ".py",
   "mimetype": "text/x-python",
   "name": "python",
   "nbconvert_exporter": "python",
   "pygments_lexer": "ipython3",
   "version": "3.7.10"
  }
 },
 "nbformat": 4,
 "nbformat_minor": 5
}
