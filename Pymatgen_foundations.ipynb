{
 "cells": [
  {
   "cell_type": "code",
   "execution_count": 3,
   "id": "171bead9",
   "metadata": {},
   "outputs": [],
   "source": [
    "import pymatgen"
   ]
  },
  {
   "cell_type": "code",
   "execution_count": 5,
   "id": "b31f15e3",
   "metadata": {},
   "outputs": [
    {
     "name": "stdout",
     "output_type": "stream",
     "text": [
      "3.7.10 (default, May  3 2021, 02:48:31) \n",
      "[GCC 7.5.0]\n"
     ]
    }
   ],
   "source": [
    "import sys\n",
    "print(sys.version)"
   ]
  },
  {
   "cell_type": "code",
   "execution_count": 6,
   "id": "d995fe84",
   "metadata": {},
   "outputs": [],
   "source": [
    "from pymatgen import Molecule"
   ]
  },
  {
   "cell_type": "code",
   "execution_count": 7,
   "id": "22eb5082",
   "metadata": {},
   "outputs": [
    {
     "name": "stdout",
     "output_type": "stream",
     "text": [
      "Full Formula (C1 O1)\n",
      "Reduced Formula: CO\n",
      "Charge = 0.0, Spin Mult = 1\n",
      "Sites (2)\n",
      "0 C     0.000000     0.000000     0.000000\n",
      "1 O     0.000000     0.000000     1.200000\n"
     ]
    }
   ],
   "source": [
    "c_monox = Molecule([\"C\", \"O\"], [[0., 0., 0.], [0., 0., 1.2]])\n",
    "print(c_monox)"
   ]
  },
  {
   "cell_type": "code",
   "execution_count": 8,
   "id": "f3b98534",
   "metadata": {},
   "outputs": [],
   "source": [
    "oh_minus = Molecule([\"O\", \"H\"], [[0., 0., 0.], [0., 0., 1.0]], charge=-1, spin_multiplicity=3)"
   ]
  },
  {
   "cell_type": "code",
   "execution_count": 9,
   "id": "a2b43fe3",
   "metadata": {},
   "outputs": [
    {
     "name": "stdout",
     "output_type": "stream",
     "text": [
      "Full Formula (H1 O1)\n",
      "Reduced Formula: H2O2\n",
      "Charge = -1, Spin Mult = 3\n",
      "Sites (2)\n",
      "0 O     0.000000     0.000000     0.000000\n",
      "1 H     0.000000     0.000000     1.000000\n"
     ]
    }
   ],
   "source": [
    "print(oh_minus)"
   ]
  },
  {
   "cell_type": "code",
   "execution_count": 14,
   "id": "18c02690",
   "metadata": {},
   "outputs": [
    {
     "name": "stdout",
     "output_type": "stream",
     "text": [
      "Full Formula (H2 O1)\n",
      "Reduced Formula: H2O\n",
      "Charge = 0, Spin Mult = 1\n",
      "Sites (3)\n",
      "0 O     0.000000     0.000000     0.117790\n",
      "1 H     0.000000     0.755450    -0.471160\n",
      "2 H     0.000000    -0.755450    -0.471160\n"
     ]
    }
   ],
   "source": [
    "water = Molecule.from_file(\"water.xyz\")\n",
    "print(water)"
   ]
  },
  {
   "cell_type": "code",
   "execution_count": 18,
   "id": "6283f30a",
   "metadata": {},
   "outputs": [
    {
     "data": {
      "text/plain": [
       "Molecule Summary\n",
       "Site: H (0.0000, 0.0000, 0.0000)\n",
       "Site: H (0.1000, 0.0000, 0.0000)"
      ]
     },
     "execution_count": 18,
     "metadata": {},
     "output_type": "execute_result"
    }
   ],
   "source": [
    "example = Molecule([\"H\", \"H\"], [[0.0, 0.0, 0.0], [0.1, 0.0, 0.0]], validate_proximity=False)\n",
    "example"
   ]
  },
  {
   "cell_type": "code",
   "execution_count": 19,
   "id": "7a78dc1d",
   "metadata": {},
   "outputs": [
    {
     "data": {
      "text/plain": [
       "Molecule Summary\n",
       "Site: H (0.0000, 0.0000, 0.0000)\n",
       "Site: H (0.1000, 0.0000, 0.0000)"
      ]
     },
     "execution_count": 19,
     "metadata": {},
     "output_type": "execute_result"
    }
   ],
   "source": [
    "example_2 = Molecule([\"H\", \"H\"], [[0.0, 0.0, 0.0], [0.1, 0.0, 0.0]], validate_proximity=False,\n",
    "                    site_properties={\"num_neutrons\": [0,1]})\n",
    "example_2"
   ]
  },
  {
   "cell_type": "code",
   "execution_count": 20,
   "id": "e7717662",
   "metadata": {},
   "outputs": [
    {
     "data": {
      "text/plain": [
       "array([[ 0.     ,  0.     ,  0.11779],\n",
       "       [ 0.     ,  0.75545, -0.47116],\n",
       "       [ 0.     , -0.75545, -0.47116]])"
      ]
     },
     "execution_count": 20,
     "metadata": {},
     "output_type": "execute_result"
    }
   ],
   "source": [
    "water.cart_coords"
   ]
  },
  {
   "cell_type": "code",
   "execution_count": 21,
   "id": "f28c8bc0",
   "metadata": {},
   "outputs": [
    {
     "data": {
      "text/plain": [
       "array([0.        , 0.        , 0.05188747])"
      ]
     },
     "execution_count": 21,
     "metadata": {},
     "output_type": "execute_result"
    }
   ],
   "source": [
    "water.center_of_mass"
   ]
  },
  {
   "cell_type": "code",
   "execution_count": 22,
   "id": "cd8b5c4b",
   "metadata": {},
   "outputs": [],
   "source": [
    "water.set_charge_and_spin(1)"
   ]
  },
  {
   "cell_type": "code",
   "execution_count": 23,
   "id": "c43a0f33",
   "metadata": {},
   "outputs": [
    {
     "name": "stdout",
     "output_type": "stream",
     "text": [
      "Full Formula (H2 O1)\n",
      "Reduced Formula: H2O\n",
      "Charge = 1, Spin Mult = 2\n",
      "Sites (3)\n",
      "0 O     0.000000     0.000000     0.117790\n",
      "1 H     0.000000     0.755450    -0.471160\n",
      "2 H     0.000000    -0.755450    -0.471160\n"
     ]
    }
   ],
   "source": [
    "print(water)"
   ]
  },
  {
   "cell_type": "code",
   "execution_count": 24,
   "id": "f8d37538",
   "metadata": {},
   "outputs": [
    {
     "data": {
      "text/plain": [
       "[Site: O (0.0000, 0.0000, 0.1178),\n",
       " Site: H (0.0000, 0.7554, -0.4712),\n",
       " Site: H (0.0000, -0.7554, -0.4712)]"
      ]
     },
     "execution_count": 24,
     "metadata": {},
     "output_type": "execute_result"
    }
   ],
   "source": [
    "list(water)"
   ]
  },
  {
   "cell_type": "code",
   "execution_count": 26,
   "id": "41debf3f",
   "metadata": {},
   "outputs": [
    {
     "name": "stdout",
     "output_type": "stream",
     "text": [
      "[0.      0.      0.11779] O\n"
     ]
    }
   ],
   "source": [
    "site_0 = water[0]\n",
    "print(site_0)"
   ]
  },
  {
   "cell_type": "code",
   "execution_count": 27,
   "id": "07fc505e",
   "metadata": {},
   "outputs": [
    {
     "data": {
      "text/plain": [
       "Molecule Summary\n",
       "Site: C (0.0000, 0.0000, 0.0000)\n",
       "Site: O (0.0000, 0.0000, 1.2000)"
      ]
     },
     "execution_count": 27,
     "metadata": {},
     "output_type": "execute_result"
    }
   ],
   "source": [
    "c_monox"
   ]
  },
  {
   "cell_type": "code",
   "execution_count": 29,
   "id": "84d4e6ba",
   "metadata": {},
   "outputs": [
    {
     "name": "stdout",
     "output_type": "stream",
     "text": [
      "Full Formula (C1 O1)\n",
      "Reduced Formula: CO\n",
      "Charge = 0.0, Spin Mult = 1\n",
      "Sites (2)\n",
      "0 O     0.000000     0.000000     0.000000\n",
      "1 C     0.000000     0.000000     1.200000\n"
     ]
    }
   ],
   "source": [
    "c_monox[0] = \"O\"\n",
    "c_monox[1] = \"C\"\n",
    "print(c_monox)"
   ]
  },
  {
   "cell_type": "code",
   "execution_count": 30,
   "id": "9f3ef928",
   "metadata": {},
   "outputs": [],
   "source": [
    "c_monox.append(\"C\", [0., 0., -1.2])"
   ]
  },
  {
   "cell_type": "code",
   "execution_count": 31,
   "id": "2793d9e7",
   "metadata": {},
   "outputs": [
    {
     "name": "stdout",
     "output_type": "stream",
     "text": [
      "Full Formula (C2 O1)\n",
      "Reduced Formula: C2O\n",
      "Charge = 0.0, Spin Mult = 1\n",
      "Sites (3)\n",
      "0 O     0.000000     0.000000     0.000000\n",
      "1 C     0.000000     0.000000     1.200000\n",
      "2 C     0.000000     0.000000    -1.200000\n"
     ]
    }
   ],
   "source": [
    "print(c_monox)"
   ]
  },
  {
   "cell_type": "code",
   "execution_count": 32,
   "id": "57b7ac45",
   "metadata": {},
   "outputs": [
    {
     "data": {
      "text/plain": [
       "Site: O (0.0000, 0.0000, 0.1178)"
      ]
     },
     "execution_count": 32,
     "metadata": {},
     "output_type": "execute_result"
    }
   ],
   "source": [
    "site_0"
   ]
  },
  {
   "cell_type": "code",
   "execution_count": 33,
   "id": "ca9bea38",
   "metadata": {},
   "outputs": [
    {
     "data": {
      "text/plain": [
       "Element O"
      ]
     },
     "execution_count": 33,
     "metadata": {},
     "output_type": "execute_result"
    }
   ],
   "source": [
    "site_0.specie"
   ]
  },
  {
   "cell_type": "code",
   "execution_count": 34,
   "id": "18562910",
   "metadata": {},
   "outputs": [
    {
     "data": {
      "text/plain": [
       "array([0.     , 0.     , 0.11779])"
      ]
     },
     "execution_count": 34,
     "metadata": {},
     "output_type": "execute_result"
    }
   ],
   "source": [
    "site_0.coords"
   ]
  },
  {
   "cell_type": "code",
   "execution_count": 35,
   "id": "8c50d2c0",
   "metadata": {},
   "outputs": [],
   "source": [
    "from pymatgen import Element, Specie, Composition"
   ]
  },
  {
   "cell_type": "code",
   "execution_count": 36,
   "id": "5dee2c0e",
   "metadata": {},
   "outputs": [],
   "source": [
    "carbon = Element(\"C\")"
   ]
  },
  {
   "cell_type": "code",
   "execution_count": 38,
   "id": "77f74438",
   "metadata": {},
   "outputs": [
    {
     "name": "stdout",
     "output_type": "stream",
     "text": [
      "C\n"
     ]
    }
   ],
   "source": [
    "print(carbon)"
   ]
  },
  {
   "cell_type": "code",
   "execution_count": 40,
   "id": "78ca003e",
   "metadata": {},
   "outputs": [
    {
     "data": {
      "text/plain": [
       "12.0107"
      ]
     },
     "execution_count": 40,
     "metadata": {},
     "output_type": "execute_result"
    }
   ],
   "source": [
    "carbon.atomic_mass"
   ]
  },
  {
   "cell_type": "code",
   "execution_count": 41,
   "id": "b368e738",
   "metadata": {},
   "outputs": [
    {
     "data": {
      "text/plain": [
       "0.3"
      ]
     },
     "execution_count": 41,
     "metadata": {},
     "output_type": "execute_result"
    }
   ],
   "source": [
    "carbon.average_ionic_radius"
   ]
  },
  {
   "cell_type": "code",
   "execution_count": 43,
   "id": "d1c968c2",
   "metadata": {},
   "outputs": [
    {
     "name": "stdout",
     "output_type": "stream",
     "text": [
      "O2-\n"
     ]
    }
   ],
   "source": [
    "o2_minus = Specie(\"O\", oxidation_state=-2)\n",
    "print(o2_minus)"
   ]
  },
  {
   "cell_type": "code",
   "execution_count": 49,
   "id": "e9169575",
   "metadata": {},
   "outputs": [
    {
     "data": {
      "text/plain": [
       "15.9994"
      ]
     },
     "execution_count": 49,
     "metadata": {},
     "output_type": "execute_result"
    }
   ],
   "source": [
    "o2_minus.atomic_mass"
   ]
  },
  {
   "cell_type": "code",
   "execution_count": 45,
   "id": "728b4f18",
   "metadata": {},
   "outputs": [
    {
     "data": {
      "text/plain": [
       "-2"
      ]
     },
     "execution_count": 45,
     "metadata": {},
     "output_type": "execute_result"
    }
   ],
   "source": [
    "o2_minus.oxi"
   ]
  },
  {
   "cell_type": "code",
   "execution_count": 50,
   "id": "90b938cc",
   "metadata": {},
   "outputs": [
    {
     "name": "stdout",
     "output_type": "stream",
     "text": [
      "Au0.5 Cu0.5\n"
     ]
    }
   ],
   "source": [
    "comp = Composition({\"Au\": 0.5, \"Cu\": 0.5})\n",
    "print(comp)"
   ]
  },
  {
   "cell_type": "code",
   "execution_count": 51,
   "id": "075ef6be",
   "metadata": {},
   "outputs": [
    {
     "data": {
      "text/plain": [
       "'Au-Cu'"
      ]
     },
     "execution_count": 51,
     "metadata": {},
     "output_type": "execute_result"
    }
   ],
   "source": [
    "comp.chemical_system"
   ]
  },
  {
   "cell_type": "code",
   "execution_count": 52,
   "id": "428ad67e",
   "metadata": {},
   "outputs": [
    {
     "data": {
      "text/plain": [
       "False"
      ]
     },
     "execution_count": 52,
     "metadata": {},
     "output_type": "execute_result"
    }
   ],
   "source": [
    "comp.contains_element_type(\"metalloid\")"
   ]
  },
  {
   "cell_type": "markdown",
   "id": "b91c4967",
   "metadata": {},
   "source": [
    "HCN\n",
    "linear molecule\n",
    "H-C, C-N "
   ]
  },
  {
   "cell_type": "code",
   "execution_count": 54,
   "id": "0ef319ba",
   "metadata": {},
   "outputs": [],
   "source": [
    "h = Element(\"H\")\n",
    "c = Element(\"C\")\n",
    "n = Element(\"N\")\n",
    "hc = h.atomic_radius + c.atomic_radius\n",
    "cn = c.atomic_radius + n.atomic_radius\n",
    "h_pos = 0.0\n",
    "c_pos = h_pos + hc\n",
    "n_pos = c_pos + cn"
   ]
  },
  {
   "cell_type": "code",
   "execution_count": 55,
   "id": "b727d306",
   "metadata": {},
   "outputs": [
    {
     "data": {
      "text/plain": [
       "0.95"
      ]
     },
     "execution_count": 55,
     "metadata": {},
     "output_type": "execute_result"
    }
   ],
   "source": [
    "hc"
   ]
  },
  {
   "cell_type": "code",
   "execution_count": 56,
   "id": "d48fa7b5",
   "metadata": {},
   "outputs": [
    {
     "data": {
      "text/plain": [
       "1.35"
      ]
     },
     "execution_count": 56,
     "metadata": {},
     "output_type": "execute_result"
    }
   ],
   "source": [
    "cn"
   ]
  },
  {
   "cell_type": "code",
   "execution_count": 57,
   "id": "2fdd9098",
   "metadata": {},
   "outputs": [],
   "source": [
    "hcn = Molecule([\"H\", \"C\", \"N\"], [[0., 0., h_pos], [0., 0., c_pos], [0., 0., n_pos]])"
   ]
  },
  {
   "cell_type": "code",
   "execution_count": 58,
   "id": "62632a98",
   "metadata": {},
   "outputs": [
    {
     "name": "stdout",
     "output_type": "stream",
     "text": [
      "Full Formula (H1 C1 N1)\n",
      "Reduced Formula: HCN\n",
      "Charge = 0.0, Spin Mult = 1\n",
      "Sites (3)\n",
      "0 H     0.000000     0.000000     0.000000\n",
      "1 C     0.000000     0.000000     0.950000\n",
      "2 N     0.000000     0.000000     2.300000\n"
     ]
    }
   ],
   "source": [
    "print(hcn)"
   ]
  },
  {
   "cell_type": "code",
   "execution_count": 59,
   "id": "fa169149",
   "metadata": {},
   "outputs": [],
   "source": [
    "from pymatgen import Lattice"
   ]
  },
  {
   "cell_type": "code",
   "execution_count": 60,
   "id": "d7a98394",
   "metadata": {},
   "outputs": [],
   "source": [
    "Lattice_1 = Lattice([[5.0, 0.0, 0.0], [0.0, 5.0, 0.0], [0.0, 0.0, 5.0]])"
   ]
  },
  {
   "cell_type": "code",
   "execution_count": 61,
   "id": "8267c4f5",
   "metadata": {},
   "outputs": [
    {
     "name": "stdout",
     "output_type": "stream",
     "text": [
      "5.000000 0.000000 0.000000\n",
      "0.000000 5.000000 0.000000\n",
      "0.000000 0.000000 5.000000\n"
     ]
    }
   ],
   "source": [
    "print(Lattice_1)"
   ]
  },
  {
   "cell_type": "code",
   "execution_count": 62,
   "id": "2a8cd852",
   "metadata": {},
   "outputs": [],
   "source": [
    "lattice_2 = Lattice.from_parameters(5.0, 5.0, 5.0, 90.0, 90.0, 90.0)"
   ]
  },
  {
   "cell_type": "code",
   "execution_count": 63,
   "id": "7e71f97f",
   "metadata": {},
   "outputs": [],
   "source": [
    "lattice_3 = Lattice.cubic(5.0)"
   ]
  },
  {
   "cell_type": "code",
   "execution_count": 65,
   "id": "31273b00",
   "metadata": {},
   "outputs": [
    {
     "data": {
      "text/plain": [
       "True"
      ]
     },
     "execution_count": 65,
     "metadata": {},
     "output_type": "execute_result"
    }
   ],
   "source": [
    "Lattice_1 == lattice_2 == lattice_3"
   ]
  },
  {
   "cell_type": "code",
   "execution_count": 66,
   "id": "1032f14b",
   "metadata": {},
   "outputs": [
    {
     "name": "stdout",
     "output_type": "stream",
     "text": [
      "1.918445 0.000000 0.854147\n",
      "-0.000000 3.300000 0.000000\n",
      "0.000000 0.000000 3.800000\n"
     ]
    }
   ],
   "source": [
    "monoclinic = Lattice.monoclinic(2.1, 3.3, 3.8, 66)\n",
    "print(monoclinic)"
   ]
  },
  {
   "cell_type": "code",
   "execution_count": 67,
   "id": "40c478e6",
   "metadata": {},
   "outputs": [],
   "source": [
    "from pymatgen import Structure"
   ]
  },
  {
   "cell_type": "code",
   "execution_count": 69,
   "id": "9e7b4564",
   "metadata": {},
   "outputs": [
    {
     "name": "stdout",
     "output_type": "stream",
     "text": [
      "Full Formula (Fe2)\n",
      "Reduced Formula: Fe\n",
      "abc   :   2.800000   2.800000   2.800000\n",
      "angles:  90.000000  90.000000  90.000000\n",
      "Sites (2)\n",
      "  #  SP      a    b    c\n",
      "---  ----  ---  ---  ---\n",
      "  0  Fe    0    0    0\n",
      "  1  Fe    0.5  0.5  0.5\n"
     ]
    }
   ],
   "source": [
    "bcc_fe = Structure(Lattice.cubic(2.8), [\"Fe\", \"Fe\"], [[0., 0., 0.], [0.5, 0.5, 0.5]])\n",
    "print(bcc_fe)"
   ]
  },
  {
   "cell_type": "code",
   "execution_count": 70,
   "id": "9876e3e4",
   "metadata": {},
   "outputs": [
    {
     "data": {
      "text/plain": [
       "[PeriodicSite: Fe (0.0000, 0.0000, 0.0000) [0.0000, 0.0000, 0.0000],\n",
       " PeriodicSite: Fe (1.4000, 1.4000, 1.4000) [0.5000, 0.5000, 0.5000]]"
      ]
     },
     "execution_count": 70,
     "metadata": {},
     "output_type": "execute_result"
    }
   ],
   "source": [
    "list(bcc_fe)"
   ]
  },
  {
   "cell_type": "code",
   "execution_count": 71,
   "id": "cc1ddaff",
   "metadata": {},
   "outputs": [],
   "source": [
    "bcc_fe_from_cart = Structure(Lattice.cubic(2.8), [\"Fe\", \"Fe\"], [[0., 0., 0.], [1.4, 1.4, 1.4]], coords_are_cartesian=True)"
   ]
  },
  {
   "cell_type": "code",
   "execution_count": 72,
   "id": "dd336a4b",
   "metadata": {},
   "outputs": [
    {
     "data": {
      "text/plain": [
       "True"
      ]
     },
     "execution_count": 72,
     "metadata": {},
     "output_type": "execute_result"
    }
   ],
   "source": [
    "bcc_fe == bcc_fe_from_cart"
   ]
  },
  {
   "cell_type": "code",
   "execution_count": 73,
   "id": "f9c49b6c",
   "metadata": {},
   "outputs": [],
   "source": [
    "bcc_fe_from_sg = Structure.from_spacegroup(\"Im-3m\", Lattice.cubic(2.8), [\"Fe\"], [[0.0, 0.0, 0.0]])"
   ]
  },
  {
   "cell_type": "code",
   "execution_count": 75,
   "id": "480913fe",
   "metadata": {},
   "outputs": [
    {
     "data": {
      "text/plain": [
       "True"
      ]
     },
     "execution_count": 75,
     "metadata": {},
     "output_type": "execute_result"
    }
   ],
   "source": [
    "bcc_fe == bcc_fe_from_sg"
   ]
  },
  {
   "cell_type": "code",
   "execution_count": 76,
   "id": "9d9891ff",
   "metadata": {},
   "outputs": [
    {
     "data": {
      "text/plain": [
       "21.951999999999995"
      ]
     },
     "execution_count": 76,
     "metadata": {},
     "output_type": "execute_result"
    }
   ],
   "source": [
    "bcc_fe.volume"
   ]
  },
  {
   "cell_type": "code",
   "execution_count": 78,
   "id": "cb9ef5c5",
   "metadata": {},
   "outputs": [
    {
     "data": {
      "text/plain": [
       "\u001b[0;31mType:\u001b[0m        property\n",
       "\u001b[0;31mString form:\u001b[0m <property object at 0x7f78e236e9b0>\n",
       "\u001b[0;31mDocstring:\u001b[0m   Returns the density in units of g/cc\n"
      ]
     },
     "metadata": {},
     "output_type": "display_data"
    }
   ],
   "source": [
    "bcc_fe.density?"
   ]
  },
  {
   "cell_type": "code",
   "execution_count": 79,
   "id": "e608d7aa",
   "metadata": {},
   "outputs": [],
   "source": [
    "nacl = Structure.from_spacegroup(\"Fm-3m\", Lattice.cubic(5.692), [\"Na+\", \"Cl-\"], [[0, 0, 0], [0.5, 0.5, 0.5]])"
   ]
  },
  {
   "cell_type": "code",
   "execution_count": 80,
   "id": "4fa3d48e",
   "metadata": {},
   "outputs": [
    {
     "name": "stdout",
     "output_type": "stream",
     "text": [
      "Full Formula (Na4 Cl4)\n",
      "Reduced Formula: NaCl\n",
      "abc   :   5.692000   5.692000   5.692000\n",
      "angles:  90.000000  90.000000  90.000000\n",
      "Sites (8)\n",
      "  #  SP      a    b    c\n",
      "---  ----  ---  ---  ---\n",
      "  0  Na+   0    0    0\n",
      "  1  Na+   0    0.5  0.5\n",
      "  2  Na+   0.5  0    0.5\n",
      "  3  Na+   0.5  0.5  0\n",
      "  4  Cl-   0.5  0.5  0.5\n",
      "  5  Cl-   0.5  0    0\n",
      "  6  Cl-   0    0.5  0\n",
      "  7  Cl-   0    0    0.5\n"
     ]
    }
   ],
   "source": [
    "print(nacl)"
   ]
  },
  {
   "cell_type": "code",
   "execution_count": 81,
   "id": "e387a9c0",
   "metadata": {},
   "outputs": [
    {
     "data": {
      "text/plain": [
       "('Fm-3m', 225)"
      ]
     },
     "execution_count": 81,
     "metadata": {},
     "output_type": "execute_result"
    }
   ],
   "source": [
    "nacl.get_space_group_info()"
   ]
  },
  {
   "cell_type": "code",
   "execution_count": 82,
   "id": "80ce57a6",
   "metadata": {},
   "outputs": [],
   "source": [
    "polonium = Structure(Lattice.cubic(3.4), [\"Po\"], [[0.0, 0.0, 0.0]])"
   ]
  },
  {
   "cell_type": "code",
   "execution_count": 83,
   "id": "5e87e0ff",
   "metadata": {},
   "outputs": [
    {
     "name": "stdout",
     "output_type": "stream",
     "text": [
      "Full Formula (Po1)\n",
      "Reduced Formula: Po\n",
      "abc   :   3.400000   3.400000   3.400000\n",
      "angles:  90.000000  90.000000  90.000000\n",
      "Sites (1)\n",
      "  #  SP      a    b    c\n",
      "---  ----  ---  ---  ---\n",
      "  0  Po      0    0    0\n"
     ]
    }
   ],
   "source": [
    "print(polonium)"
   ]
  },
  {
   "cell_type": "code",
   "execution_count": 84,
   "id": "78557401",
   "metadata": {},
   "outputs": [],
   "source": [
    "supercell = polonium * (10, 10, 1)"
   ]
  },
  {
   "cell_type": "code",
   "execution_count": 85,
   "id": "bfba370e",
   "metadata": {},
   "outputs": [
    {
     "name": "stdout",
     "output_type": "stream",
     "text": [
      "Full Formula (Po100)\n",
      "Reduced Formula: Po\n",
      "abc   :  34.000000  34.000000   3.400000\n",
      "angles:  90.000000  90.000000  90.000000\n",
      "Sites (100)\n",
      "  #  SP      a    b    c\n",
      "---  ----  ---  ---  ---\n",
      "  0  Po    0    0      0\n",
      "  1  Po    0    0.1    0\n",
      "  2  Po    0    0.2    0\n",
      "  3  Po    0    0.3    0\n",
      "  4  Po    0    0.4    0\n",
      "  5  Po    0    0.5    0\n",
      "  6  Po    0    0.6    0\n",
      "  7  Po    0    0.7    0\n",
      "  8  Po    0    0.8    0\n",
      "  9  Po    0    0.9    0\n",
      " 10  Po    0.1  0      0\n",
      " 11  Po    0.1  0.1    0\n",
      " 12  Po    0.1  0.2    0\n",
      " 13  Po    0.1  0.3    0\n",
      " 14  Po    0.1  0.4    0\n",
      " 15  Po    0.1  0.5    0\n",
      " 16  Po    0.1  0.6    0\n",
      " 17  Po    0.1  0.7    0\n",
      " 18  Po    0.1  0.8    0\n",
      " 19  Po    0.1  0.9    0\n",
      " 20  Po    0.2  0      0\n",
      " 21  Po    0.2  0.1    0\n",
      " 22  Po    0.2  0.2    0\n",
      " 23  Po    0.2  0.3    0\n",
      " 24  Po    0.2  0.4    0\n",
      " 25  Po    0.2  0.5    0\n",
      " 26  Po    0.2  0.6    0\n",
      " 27  Po    0.2  0.7    0\n",
      " 28  Po    0.2  0.8    0\n",
      " 29  Po    0.2  0.9    0\n",
      " 30  Po    0.3  0      0\n",
      " 31  Po    0.3  0.1    0\n",
      " 32  Po    0.3  0.2    0\n",
      " 33  Po    0.3  0.3    0\n",
      " 34  Po    0.3  0.4    0\n",
      " 35  Po    0.3  0.5    0\n",
      " 36  Po    0.3  0.6    0\n",
      " 37  Po    0.3  0.7    0\n",
      " 38  Po    0.3  0.8    0\n",
      " 39  Po    0.3  0.9    0\n",
      " 40  Po    0.4  0      0\n",
      " 41  Po    0.4  0.1    0\n",
      " 42  Po    0.4  0.2    0\n",
      " 43  Po    0.4  0.3    0\n",
      " 44  Po    0.4  0.4    0\n",
      " 45  Po    0.4  0.5    0\n",
      " 46  Po    0.4  0.6    0\n",
      " 47  Po    0.4  0.7    0\n",
      " 48  Po    0.4  0.8    0\n",
      " 49  Po    0.4  0.9    0\n",
      " 50  Po    0.5  0      0\n",
      " 51  Po    0.5  0.1    0\n",
      " 52  Po    0.5  0.2    0\n",
      " 53  Po    0.5  0.3    0\n",
      " 54  Po    0.5  0.4    0\n",
      " 55  Po    0.5  0.5    0\n",
      " 56  Po    0.5  0.6    0\n",
      " 57  Po    0.5  0.7    0\n",
      " 58  Po    0.5  0.8    0\n",
      " 59  Po    0.5  0.9    0\n",
      " 60  Po    0.6  0      0\n",
      " 61  Po    0.6  0.1    0\n",
      " 62  Po    0.6  0.2    0\n",
      " 63  Po    0.6  0.3    0\n",
      " 64  Po    0.6  0.4    0\n",
      " 65  Po    0.6  0.5    0\n",
      " 66  Po    0.6  0.6    0\n",
      " 67  Po    0.6  0.7    0\n",
      " 68  Po    0.6  0.8    0\n",
      " 69  Po    0.6  0.9    0\n",
      " 70  Po    0.7  0      0\n",
      " 71  Po    0.7  0.1    0\n",
      " 72  Po    0.7  0.2    0\n",
      " 73  Po    0.7  0.3    0\n",
      " 74  Po    0.7  0.4    0\n",
      " 75  Po    0.7  0.5    0\n",
      " 76  Po    0.7  0.6    0\n",
      " 77  Po    0.7  0.7    0\n",
      " 78  Po    0.7  0.8    0\n",
      " 79  Po    0.7  0.9    0\n",
      " 80  Po    0.8  0      0\n",
      " 81  Po    0.8  0.1    0\n",
      " 82  Po    0.8  0.2    0\n",
      " 83  Po    0.8  0.3    0\n",
      " 84  Po    0.8  0.4    0\n",
      " 85  Po    0.8  0.5    0\n",
      " 86  Po    0.8  0.6    0\n",
      " 87  Po    0.8  0.7    0\n",
      " 88  Po    0.8  0.8    0\n",
      " 89  Po    0.8  0.9    0\n",
      " 90  Po    0.9  0      0\n",
      " 91  Po    0.9  0.1    0\n",
      " 92  Po    0.9  0.2    0\n",
      " 93  Po    0.9  0.3    0\n",
      " 94  Po    0.9  0.4    0\n",
      " 95  Po    0.9  0.5    0\n",
      " 96  Po    0.9  0.6    0\n",
      " 97  Po    0.9  0.7    0\n",
      " 98  Po    0.9  0.8    0\n",
      " 99  Po    0.9  0.9    0\n"
     ]
    }
   ],
   "source": [
    "print(supercell)"
   ]
  },
  {
   "cell_type": "code",
   "execution_count": 87,
   "id": "7b45a6f4",
   "metadata": {},
   "outputs": [
    {
     "name": "stderr",
     "output_type": "stream",
     "text": [
      "/home/max/.virtualenvs/aiida/lib/python3.7/site-packages/pymatgen/io/cif.py:1194: UserWarning: Issues encountered while parsing CIF: Some fractional co-ordinates rounded to ideal values to avoid issues with finite precision.\n",
      "  \"Issues encountered while parsing CIF: %s\" % \"\\n\".join(self.warnings)\n"
     ]
    }
   ],
   "source": [
    "batio3 = Structure.from_file(\"BaTiO3.cif\")"
   ]
  },
  {
   "cell_type": "code",
   "execution_count": 88,
   "id": "7ab5e68e",
   "metadata": {},
   "outputs": [
    {
     "name": "stdout",
     "output_type": "stream",
     "text": [
      "Full Formula (Ba3 Ti3 O9)\n",
      "Reduced Formula: BaTiO3\n",
      "abc   :   5.754672   5.754672   7.109987\n",
      "angles:  90.000000  90.000000 120.000000\n",
      "Sites (15)\n",
      "  #  SP           a         b         c\n",
      "---  ----  --------  --------  --------\n",
      "  0  Ba    0         0         0.002069\n",
      "  1  Ba    0.666667  0.333333  0.335402\n",
      "  2  Ba    0.333333  0.666667  0.668736\n",
      "  3  Ti    0         0         0.51644\n",
      "  4  Ti    0.666667  0.333333  0.849773\n",
      "  5  Ti    0.333333  0.666667  0.183107\n",
      "  6  O     0.836955  0.673911  0.647664\n",
      "  7  O     0.326089  0.163045  0.647664\n",
      "  8  O     0.836955  0.163045  0.647664\n",
      "  9  O     0.503622  0.007244  0.980997\n",
      " 10  O     0.992756  0.496378  0.980997\n",
      " 11  O     0.503622  0.496378  0.980997\n",
      " 12  O     0.170289  0.340577  0.31433\n",
      " 13  O     0.659423  0.829711  0.31433\n",
      " 14  O     0.170289  0.829711  0.31433\n"
     ]
    }
   ],
   "source": [
    "print(batio3)"
   ]
  },
  {
   "cell_type": "code",
   "execution_count": 89,
   "id": "ef0e6fe7",
   "metadata": {},
   "outputs": [
    {
     "name": "stdout",
     "output_type": "stream",
     "text": [
      "('R3m', 160)\n"
     ]
    }
   ],
   "source": [
    "print(batio3.get_space_group_info())"
   ]
  },
  {
   "cell_type": "code",
   "execution_count": 91,
   "id": "bf5aae07",
   "metadata": {},
   "outputs": [],
   "source": [
    "batio3.replace(0, \"Mg\")\n",
    "supercell = batio3 * (1, 1, 4)"
   ]
  },
  {
   "cell_type": "code",
   "execution_count": 92,
   "id": "1ace5b02",
   "metadata": {},
   "outputs": [
    {
     "name": "stdout",
     "output_type": "stream",
     "text": [
      "Full Formula (Ba8 Mg4 Ti12 O36)\n",
      "Reduced Formula: Ba2MgTi3O9\n",
      "abc   :   5.754672   5.754672  28.439948\n",
      "angles:  90.000000  90.000000 120.000000\n",
      "Sites (60)\n",
      "  #  SP           a         b         c\n",
      "---  ----  --------  --------  --------\n",
      "  0  Mg    0         0         0.000517\n",
      "  1  Mg    0         0         0.250517\n",
      "  2  Mg    0         0         0.500517\n",
      "  3  Mg    0         0         0.750517\n",
      "  4  Ba    0.666667  0.333333  0.083851\n",
      "  5  Ba    0.666667  0.333333  0.333851\n",
      "  6  Ba    0.666667  0.333333  0.583851\n",
      "  7  Ba    0.666667  0.333333  0.833851\n",
      "  8  Ba    0.333333  0.666667  0.167184\n",
      "  9  Ba    0.333333  0.666667  0.417184\n",
      " 10  Ba    0.333333  0.666667  0.667184\n",
      " 11  Ba    0.333333  0.666667  0.917184\n",
      " 12  Ti    0         0         0.12911\n",
      " 13  Ti    0         0         0.37911\n",
      " 14  Ti    0         0         0.62911\n",
      " 15  Ti    0         0         0.87911\n",
      " 16  Ti    0.666667  0.333333  0.212443\n",
      " 17  Ti    0.666667  0.333333  0.462443\n",
      " 18  Ti    0.666667  0.333333  0.712443\n",
      " 19  Ti    0.666667  0.333333  0.962443\n",
      " 20  Ti    0.333333  0.666667  0.045777\n",
      " 21  Ti    0.333333  0.666667  0.295777\n",
      " 22  Ti    0.333333  0.666667  0.545777\n",
      " 23  Ti    0.333333  0.666667  0.795777\n",
      " 24  O     0.836955  0.673911  0.161916\n",
      " 25  O     0.836955  0.673911  0.411916\n",
      " 26  O     0.836955  0.673911  0.661916\n",
      " 27  O     0.836955  0.673911  0.911916\n",
      " 28  O     0.326089  0.163045  0.161916\n",
      " 29  O     0.326089  0.163045  0.411916\n",
      " 30  O     0.326089  0.163045  0.661916\n",
      " 31  O     0.326089  0.163045  0.911916\n",
      " 32  O     0.836955  0.163045  0.161916\n",
      " 33  O     0.836955  0.163045  0.411916\n",
      " 34  O     0.836955  0.163045  0.661916\n",
      " 35  O     0.836955  0.163045  0.911916\n",
      " 36  O     0.503622  0.007244  0.245249\n",
      " 37  O     0.503622  0.007244  0.495249\n",
      " 38  O     0.503622  0.007244  0.745249\n",
      " 39  O     0.503622  0.007244  0.995249\n",
      " 40  O     0.992756  0.496378  0.245249\n",
      " 41  O     0.992756  0.496378  0.495249\n",
      " 42  O     0.992756  0.496378  0.745249\n",
      " 43  O     0.992756  0.496378  0.995249\n",
      " 44  O     0.503622  0.496378  0.245249\n",
      " 45  O     0.503622  0.496378  0.495249\n",
      " 46  O     0.503622  0.496378  0.745249\n",
      " 47  O     0.503622  0.496378  0.995249\n",
      " 48  O     0.170289  0.340577  0.078583\n",
      " 49  O     0.170289  0.340577  0.328583\n",
      " 50  O     0.170289  0.340577  0.578583\n",
      " 51  O     0.170289  0.340577  0.828583\n",
      " 52  O     0.659423  0.829711  0.078583\n",
      " 53  O     0.659423  0.829711  0.328583\n",
      " 54  O     0.659423  0.829711  0.578583\n",
      " 55  O     0.659423  0.829711  0.828583\n",
      " 56  O     0.170289  0.829711  0.078583\n",
      " 57  O     0.170289  0.829711  0.328583\n",
      " 58  O     0.170289  0.829711  0.578583\n",
      " 59  O     0.170289  0.829711  0.828583\n"
     ]
    }
   ],
   "source": [
    "print(supercell)"
   ]
  },
  {
   "cell_type": "code",
   "execution_count": 93,
   "id": "7a0fe95a",
   "metadata": {},
   "outputs": [
    {
     "name": "stdout",
     "output_type": "stream",
     "text": [
      "('P3m1', 156)\n"
     ]
    }
   ],
   "source": [
    "print(supercell.get_space_group_info())"
   ]
  },
  {
   "cell_type": "code",
   "execution_count": 95,
   "id": "62e2ff4e",
   "metadata": {},
   "outputs": [],
   "source": [
    "supercell_2 = batio3 * [1,1, 4]"
   ]
  },
  {
   "cell_type": "code",
   "execution_count": 96,
   "id": "b47984a0",
   "metadata": {},
   "outputs": [],
   "source": [
    "supercell_2.replace(0, \"Mg\")"
   ]
  },
  {
   "cell_type": "code",
   "execution_count": 100,
   "id": "e8e96624",
   "metadata": {},
   "outputs": [
    {
     "name": "stdout",
     "output_type": "stream",
     "text": [
      "('P3m1', 156)\n"
     ]
    }
   ],
   "source": [
    "print(supercell_2.get_space_group_info())"
   ]
  }
 ],
 "metadata": {
  "kernelspec": {
   "display_name": "Python 3",
   "language": "python",
   "name": "python3"
  },
  "language_info": {
   "codemirror_mode": {
    "name": "ipython",
    "version": 3
   },
   "file_extension": ".py",
   "mimetype": "text/x-python",
   "name": "python",
   "nbconvert_exporter": "python",
   "pygments_lexer": "ipython3",
   "version": "3.7.10"
  }
 },
 "nbformat": 4,
 "nbformat_minor": 5
}
