{
 "cells": [
  {
   "cell_type": "code",
   "execution_count": 1,
   "id": "85d67a5c",
   "metadata": {},
   "outputs": [],
   "source": [
    "import pymatgen\n",
    "from pymatgen import Structure"
   ]
  },
  {
   "cell_type": "code",
   "execution_count": 2,
   "id": "b1d7ea22",
   "metadata": {},
   "outputs": [],
   "source": [
    "Structure = Structure.from_file(\"Li10Ge(PS6)2_mp-696128_conventional_standard.cif\")"
   ]
  },
  {
   "cell_type": "code",
   "execution_count": 3,
   "id": "24b3427f",
   "metadata": {},
   "outputs": [
    {
     "name": "stdout",
     "output_type": "stream",
     "text": [
      "Full Formula (Li20 Ge2 P4 S24)\n",
      "Reduced Formula: Li10Ge(PS6)2\n",
      "abc   :   8.787646   8.787646  12.657546\n",
      "angles:  90.000000  90.000000  90.000000\n",
      "Sites (50)\n",
      "  #  SP           a         b         c\n",
      "---  ----  --------  --------  --------\n",
      "  0  Li    0.228698  0.27295   0.294563\n",
      "  1  Li    0.771302  0.72705   0.294563\n",
      "  2  Li    0.27295   0.771302  0.794563\n",
      "  3  Li    0.72705   0.228698  0.794563\n",
      "  4  Li    0.228698  0.72705   0.294563\n",
      "  5  Li    0.771302  0.27295   0.294563\n",
      "  6  Li    0.27295   0.228698  0.794563\n",
      "  7  Li    0.72705   0.771302  0.794563\n",
      "  8  Li    0         0         0.93973\n",
      "  9  Li    0         0         0.43973\n",
      " 10  Li    0.5       0.5       0.54802\n",
      " 11  Li    0.5       0.5       0.04802\n",
      " 12  Li    0.256318  0.724772  0.036663\n",
      " 13  Li    0.743682  0.275228  0.036663\n",
      " 14  Li    0.275228  0.256318  0.536663\n",
      " 15  Li    0.724772  0.743682  0.536663\n",
      " 16  Li    0.275228  0.743682  0.536663\n",
      " 17  Li    0.724772  0.256318  0.536663\n",
      " 18  Li    0.256318  0.275228  0.036663\n",
      " 19  Li    0.743682  0.724772  0.036663\n",
      " 20  Ge    0.5       0.5       0.801028\n",
      " 21  Ge    0.5       0.5       0.301028\n",
      " 22  P     0         0         0.686051\n",
      " 23  P     0         0         0.186051\n",
      " 24  P     0         0.5       0.504073\n",
      " 25  P     0.5       0         0.004073\n",
      " 26  S     0         0.694431  0.412071\n",
      " 27  S     0         0.305569  0.412071\n",
      " 28  S     0.305569  0         0.912071\n",
      " 29  S     0.694431  0         0.912071\n",
      " 30  S     0.5       0.189848  0.097057\n",
      " 31  S     0.5       0.810152  0.097057\n",
      " 32  S     0.189848  0.5       0.597057\n",
      " 33  S     0.810152  0.5       0.597057\n",
      " 34  S     0         0.804708  0.094096\n",
      " 35  S     0         0.195292  0.094096\n",
      " 36  S     0.195292  0         0.594096\n",
      " 37  S     0.804708  0         0.594096\n",
      " 38  S     0.5       0.290002  0.403242\n",
      " 39  S     0.5       0.709998  0.403242\n",
      " 40  S     0.290002  0.5       0.903242\n",
      " 41  S     0.709998  0.5       0.903242\n",
      " 42  S     0         0.19195   0.777069\n",
      " 43  S     0         0.80805   0.777069\n",
      " 44  S     0.80805   0         0.277069\n",
      " 45  S     0.19195   0         0.277069\n",
      " 46  S     0.5       0.707378  0.698166\n",
      " 47  S     0.5       0.292622  0.698166\n",
      " 48  S     0.707378  0.5       0.198166\n",
      " 49  S     0.292622  0.5       0.198166\n"
     ]
    }
   ],
   "source": [
    "print(Structure)"
   ]
  },
  {
   "cell_type": "code",
   "execution_count": 4,
   "id": "b759ed22",
   "metadata": {},
   "outputs": [
    {
     "name": "stdout",
     "output_type": "stream",
     "text": [
      "8.787646 0.000000 0.000000\n",
      "0.000000 8.787646 0.000000\n",
      "0.000000 0.000000 12.657546\n",
      "[Element Li, Element Li, Element Li, Element Li, Element Li, Element Li, Element Li, Element Li, Element Li, Element Li, Element Li, Element Li, Element Li, Element Li, Element Li, Element Li, Element Li, Element Li, Element Li, Element Li, Element Ge, Element Ge, Element P, Element P, Element P, Element P, Element S, Element S, Element S, Element S, Element S, Element S, Element S, Element S, Element S, Element S, Element S, Element S, Element S, Element S, Element S, Element S, Element S, Element S, Element S, Element S, Element S, Element S, Element S, Element S]\n",
      "0.0\n",
      "[[2.00971706e+00 2.39858798e+00 3.72844472e+00]\n",
      " [6.77792894e+00 6.38905802e+00 3.72844472e+00]\n",
      " [2.39858798e+00 6.77792894e+00 1.00572177e+01]\n",
      " [6.38905802e+00 2.00971706e+00 1.00572177e+01]\n",
      " [2.00971706e+00 6.38905802e+00 3.72844472e+00]\n",
      " [6.77792894e+00 2.39858798e+00 3.72844472e+00]\n",
      " [2.39858798e+00 2.00971706e+00 1.00572177e+01]\n",
      " [6.38905802e+00 6.77792894e+00 1.00572177e+01]\n",
      " [0.00000000e+00 0.00000000e+00 1.18946757e+01]\n",
      " [0.00000000e+00 0.00000000e+00 5.56590270e+00]\n",
      " [4.39382300e+00 4.39382300e+00 6.93658836e+00]\n",
      " [4.39382300e+00 4.39382300e+00 6.07815359e-01]\n",
      " [2.25243185e+00 6.36903977e+00 4.64063609e-01]\n",
      " [6.53521415e+00 2.41860623e+00 4.64063609e-01]\n",
      " [2.41860623e+00 2.25243185e+00 6.79283661e+00]\n",
      " [6.36903977e+00 6.53521415e+00 6.79283661e+00]\n",
      " [2.41860623e+00 6.53521415e+00 6.79283661e+00]\n",
      " [6.36903977e+00 2.25243185e+00 6.79283661e+00]\n",
      " [2.25243185e+00 2.41860623e+00 4.64063609e-01]\n",
      " [6.53521415e+00 6.36903977e+00 4.64063609e-01]\n",
      " [4.39382300e+00 4.39382300e+00 1.01390488e+01]\n",
      " [4.39382300e+00 4.39382300e+00 3.81027576e+00]\n",
      " [0.00000000e+00 0.00000000e+00 8.68372209e+00]\n",
      " [0.00000000e+00 0.00000000e+00 2.35494909e+00]\n",
      " [7.06580628e-16 4.39382300e+00 6.38032718e+00]\n",
      " [4.39382300e+00 0.00000000e+00 5.15541849e-02]\n",
      " [9.81342985e-16 6.10241380e+00 5.21580764e+00]\n",
      " [4.31818272e-16 2.68523220e+00 5.21580764e+00]\n",
      " [2.68523220e+00 0.00000000e+00 1.15445806e+01]\n",
      " [6.10241380e+00 0.00000000e+00 1.15445806e+01]\n",
      " [4.39382300e+00 1.66831702e+00 1.22850344e+00]\n",
      " [4.39382300e+00 7.11932898e+00 1.22850344e+00]\n",
      " [1.66831702e+00 4.39382300e+00 7.55727644e+00]\n",
      " [7.11932898e+00 4.39382300e+00 7.55727644e+00]\n",
      " [1.13718217e-15 7.07148904e+00 1.19102445e+00]\n",
      " [2.75979088e-16 1.71615696e+00 1.19102445e+00]\n",
      " [1.71615696e+00 0.00000000e+00 7.51979745e+00]\n",
      " [7.07148904e+00 0.00000000e+00 7.51979745e+00]\n",
      " [4.39382300e+00 2.54843492e+00 5.10405416e+00]\n",
      " [4.39382300e+00 6.23921108e+00 5.10405416e+00]\n",
      " [2.54843492e+00 4.39382300e+00 1.14328272e+01]\n",
      " [6.23921108e+00 4.39382300e+00 1.14328272e+01]\n",
      " [2.71256303e-16 1.68678865e+00 9.83578661e+00]\n",
      " [1.14190495e-15 7.10085735e+00 9.83578661e+00]\n",
      " [7.10085735e+00 0.00000000e+00 3.50701361e+00]\n",
      " [1.68678865e+00 0.00000000e+00 3.50701361e+00]\n",
      " [4.39382300e+00 6.21618745e+00 8.83706826e+00]\n",
      " [4.39382300e+00 2.57145855e+00 8.83706826e+00]\n",
      " [6.21618745e+00 4.39382300e+00 2.50829526e+00]\n",
      " [2.57145855e+00 4.39382300e+00 2.50829526e+00]]\n",
      "(3, 3, 3, 3, 3, 3, 3, 3, 3, 3, 3, 3, 3, 3, 3, 3, 3, 3, 3, 3, 32, 32, 15, 15, 15, 15, 16, 16, 16, 16, 16, 16, 16, 16, 16, 16, 16, 16, 16, 16, 16, 16, 16, 16, 16, 16, 16, 16, 16, 16)\n",
      "[[0.         5.66389459 7.70605058 ... 5.64020211 4.81291187 2.40526111]\n",
      " [5.66389459 0.         7.70605058 ... 6.80852857 2.40526111 4.81291187]\n",
      " [7.70605058 7.70605058 0.         ... 4.81291187 6.80852857 5.64020211]\n",
      " ...\n",
      " [5.64020211 6.80852857 4.81291187 ... 0.         6.83340267 6.83340267]\n",
      " [4.81291187 2.40526111 6.80852857 ... 6.83340267 0.         3.6447289 ]\n",
      " [2.40526111 4.81291187 5.64020211 ... 6.83340267 3.6447289  0.        ]]\n"
     ]
    }
   ],
   "source": [
    "Structure = Structure\n",
    "\n",
    "print(Structure.lattice)\n",
    "print(Structure.species)\n",
    "print(Structure.charge)\n",
    "print(Structure.cart_coords)\n",
    "print(Structure.atomic_numbers)\n",
    "print(Structure.distance_matrix)"
   ]
  },
  {
   "cell_type": "code",
   "execution_count": 5,
   "id": "0b13e7b6",
   "metadata": {},
   "outputs": [],
   "source": [
    "from pymatgen.ext.matproj import MPRester\n",
    "from pymatgen.ext.matproj import MPRestError\n",
    "\n",
    "m = MPRester(\"asFGTum1WzyZOxCr\")"
   ]
  },
  {
   "cell_type": "code",
   "execution_count": 6,
   "id": "3ae48ce8",
   "metadata": {},
   "outputs": [
    {
     "data": {
      "application/vnd.jupyter.widget-view+json": {
       "model_id": "a51bdf492e3348e3abd8ca2287b9b84c",
       "version_major": 2,
       "version_minor": 0
      },
      "text/plain": [
       "  0%|          | 0/918 [00:00<?, ?it/s]"
      ]
     },
     "metadata": {},
     "output_type": "display_data"
    }
   ],
   "source": [
    "results=m.query({\"band_gap\": {\"$gt\": 6}},properties=[\"material_id\"])"
   ]
  },
  {
   "cell_type": "code",
   "execution_count": 7,
   "id": "e643e8e8",
   "metadata": {},
   "outputs": [
    {
     "name": "stdout",
     "output_type": "stream",
     "text": [
      "918\n"
     ]
    },
    {
     "data": {
      "text/plain": [
       "[{'material_id': 'mp-642824'},\n",
       " {'material_id': 'mp-1210031'},\n",
       " {'material_id': 'mp-1196163'},\n",
       " {'material_id': 'mp-1206658'},\n",
       " {'material_id': 'mp-1208862'},\n",
       " {'material_id': 'mp-1199215'},\n",
       " {'material_id': 'mp-1196584'},\n",
       " {'material_id': 'mp-1205912'},\n",
       " {'material_id': 'mp-1106386'},\n",
       " {'material_id': 'mp-28289'}]"
      ]
     },
     "execution_count": 7,
     "metadata": {},
     "output_type": "execute_result"
    }
   ],
   "source": [
    "print(len(results))\n",
    "results[0:10]"
   ]
  },
  {
   "cell_type": "code",
   "execution_count": 8,
   "id": "5aa96eef",
   "metadata": {},
   "outputs": [
    {
     "data": {
      "text/plain": [
       "Structure Summary\n",
       "Lattice\n",
       "    abc : 8.787646 8.787646 12.657546\n",
       " angles : 90.0 90.0 90.0\n",
       " volume : 977.4501587615295\n",
       "      A : 8.787646 0.0 5.380881272970021e-16\n",
       "      B : 1.4131612569940298e-15 8.787646 5.380881272970021e-16\n",
       "      C : 0.0 0.0 12.657546\n",
       "PeriodicSite: Li (2.0097, 2.3986, 3.7284) [0.2287, 0.2730, 0.2946]\n",
       "PeriodicSite: Li (6.7779, 6.3891, 3.7284) [0.7713, 0.7270, 0.2946]\n",
       "PeriodicSite: Li (2.3986, 6.7779, 10.0572) [0.2730, 0.7713, 0.7946]\n",
       "PeriodicSite: Li (6.3891, 2.0097, 10.0572) [0.7270, 0.2287, 0.7946]\n",
       "PeriodicSite: Li (2.0097, 6.3891, 3.7284) [0.2287, 0.7270, 0.2946]\n",
       "PeriodicSite: Li (6.7779, 2.3986, 3.7284) [0.7713, 0.2730, 0.2946]\n",
       "PeriodicSite: Li (2.3986, 2.0097, 10.0572) [0.2730, 0.2287, 0.7946]\n",
       "PeriodicSite: Li (6.3891, 6.7779, 10.0572) [0.7270, 0.7713, 0.7946]\n",
       "PeriodicSite: Li (0.0000, 0.0000, 11.8947) [0.0000, 0.0000, 0.9397]\n",
       "PeriodicSite: Li (0.0000, 0.0000, 5.5659) [0.0000, 0.0000, 0.4397]\n",
       "PeriodicSite: Li (4.3938, 4.3938, 6.9366) [0.5000, 0.5000, 0.5480]\n",
       "PeriodicSite: Li (4.3938, 4.3938, 0.6078) [0.5000, 0.5000, 0.0480]\n",
       "PeriodicSite: Li (2.2524, 6.3690, 0.4641) [0.2563, 0.7248, 0.0367]\n",
       "PeriodicSite: Li (6.5352, 2.4186, 0.4641) [0.7437, 0.2752, 0.0367]\n",
       "PeriodicSite: Li (2.4186, 2.2524, 6.7928) [0.2752, 0.2563, 0.5367]\n",
       "PeriodicSite: Li (6.3690, 6.5352, 6.7928) [0.7248, 0.7437, 0.5367]\n",
       "PeriodicSite: Li (2.4186, 6.5352, 6.7928) [0.2752, 0.7437, 0.5367]\n",
       "PeriodicSite: Li (6.3690, 2.2524, 6.7928) [0.7248, 0.2563, 0.5367]\n",
       "PeriodicSite: Li (2.2524, 2.4186, 0.4641) [0.2563, 0.2752, 0.0367]\n",
       "PeriodicSite: Li (6.5352, 6.3690, 0.4641) [0.7437, 0.7248, 0.0367]\n",
       "PeriodicSite: Ge (4.3938, 4.3938, 10.1390) [0.5000, 0.5000, 0.8010]\n",
       "PeriodicSite: Ge (4.3938, 4.3938, 3.8103) [0.5000, 0.5000, 0.3010]\n",
       "PeriodicSite: P (0.0000, 0.0000, 8.6837) [0.0000, 0.0000, 0.6861]\n",
       "PeriodicSite: P (0.0000, 0.0000, 2.3549) [0.0000, 0.0000, 0.1861]\n",
       "PeriodicSite: P (0.0000, 4.3938, 6.3803) [0.0000, 0.5000, 0.5041]\n",
       "PeriodicSite: P (4.3938, 0.0000, 0.0516) [0.5000, 0.0000, 0.0041]\n",
       "PeriodicSite: S (0.0000, 6.1024, 5.2158) [0.0000, 0.6944, 0.4121]\n",
       "PeriodicSite: S (0.0000, 2.6852, 5.2158) [0.0000, 0.3056, 0.4121]\n",
       "PeriodicSite: S (2.6852, 0.0000, 11.5446) [0.3056, 0.0000, 0.9121]\n",
       "PeriodicSite: S (6.1024, 0.0000, 11.5446) [0.6944, 0.0000, 0.9121]\n",
       "PeriodicSite: S (4.3938, 1.6683, 1.2285) [0.5000, 0.1898, 0.0971]\n",
       "PeriodicSite: S (4.3938, 7.1193, 1.2285) [0.5000, 0.8102, 0.0971]\n",
       "PeriodicSite: S (1.6683, 4.3938, 7.5573) [0.1898, 0.5000, 0.5971]\n",
       "PeriodicSite: S (7.1193, 4.3938, 7.5573) [0.8102, 0.5000, 0.5971]\n",
       "PeriodicSite: S (0.0000, 7.0715, 1.1910) [0.0000, 0.8047, 0.0941]\n",
       "PeriodicSite: S (0.0000, 1.7162, 1.1910) [0.0000, 0.1953, 0.0941]\n",
       "PeriodicSite: S (1.7162, 0.0000, 7.5198) [0.1953, 0.0000, 0.5941]\n",
       "PeriodicSite: S (7.0715, 0.0000, 7.5198) [0.8047, 0.0000, 0.5941]\n",
       "PeriodicSite: S (4.3938, 2.5484, 5.1041) [0.5000, 0.2900, 0.4032]\n",
       "PeriodicSite: S (4.3938, 6.2392, 5.1041) [0.5000, 0.7100, 0.4032]\n",
       "PeriodicSite: S (2.5484, 4.3938, 11.4328) [0.2900, 0.5000, 0.9032]\n",
       "PeriodicSite: S (6.2392, 4.3938, 11.4328) [0.7100, 0.5000, 0.9032]\n",
       "PeriodicSite: S (0.0000, 1.6868, 9.8358) [0.0000, 0.1920, 0.7771]\n",
       "PeriodicSite: S (0.0000, 7.1009, 9.8358) [0.0000, 0.8081, 0.7771]\n",
       "PeriodicSite: S (7.1009, 0.0000, 3.5070) [0.8081, 0.0000, 0.2771]\n",
       "PeriodicSite: S (1.6868, 0.0000, 3.5070) [0.1920, 0.0000, 0.2771]\n",
       "PeriodicSite: S (4.3938, 6.2162, 8.8371) [0.5000, 0.7074, 0.6982]\n",
       "PeriodicSite: S (4.3938, 2.5715, 8.8371) [0.5000, 0.2926, 0.6982]\n",
       "PeriodicSite: S (6.2162, 4.3938, 2.5083) [0.7074, 0.5000, 0.1982]\n",
       "PeriodicSite: S (2.5715, 4.3938, 2.5083) [0.2926, 0.5000, 0.1982]"
      ]
     },
     "execution_count": 8,
     "metadata": {},
     "output_type": "execute_result"
    }
   ],
   "source": [
    "results=m.query({\"material_id\": 'mp-1207450'},properties=[\"cif\"])\n",
    "Structure = Structure.from_file(\"Li10Ge(PS6)2_mp-696128_conventional_standard.cif\")\n",
    "\n",
    "Structure"
   ]
  },
  {
   "cell_type": "code",
   "execution_count": 9,
   "id": "58b30853",
   "metadata": {},
   "outputs": [
    {
     "name": "stdout",
     "output_type": "stream",
     "text": [
      "11.36 32 3 7.509354166637767\n"
     ]
    }
   ],
   "source": [
    "import numpy as np\n",
    "mean_atomic_number=np.mean(Structure.atomic_numbers)\n",
    "max_atomic_number=np.max(Structure.atomic_numbers)\n",
    "min_atomic_number=np.min(Structure.atomic_numbers)\n",
    "std_atomic_number=np.std(Structure.atomic_numbers)\n",
    "\n",
    "print(mean_atomic_number,max_atomic_number,min_atomic_number,std_atomic_number)"
   ]
  },
  {
   "cell_type": "code",
   "execution_count": 10,
   "id": "05995747",
   "metadata": {},
   "outputs": [
    {
     "name": "stdout",
     "output_type": "stream",
     "text": [
      "4.959714072129139 8.869313885311929 0.0 1.649027299561301\n"
     ]
    }
   ],
   "source": [
    "mean_distance_matrix = np.mean(Structure.distance_matrix)\n",
    "max_distance_matrix = np.max(Structure.distance_matrix)\n",
    "min_distance_matrix = np.min(Structure.distance_matrix)\n",
    "std_distance_matrix = np.std(Structure.distance_matrix)\n",
    "\n",
    "print(mean_distance_matrix, max_distance_matrix,\n",
    "      min_distance_matrix, std_distance_matrix)"
   ]
  },
  {
   "cell_type": "code",
   "execution_count": 11,
   "id": "67f52133",
   "metadata": {},
   "outputs": [
    {
     "data": {
      "application/vnd.jupyter.widget-view+json": {
       "model_id": "0e4a1fbb5bac459e87a7b4a85cc3c361",
       "version_major": 2,
       "version_minor": 0
      },
      "text/plain": [
       "  0%|          | 0/4608 [00:00<?, ?it/s]"
      ]
     },
     "metadata": {},
     "output_type": "display_data"
    }
   ],
   "source": [
    "results = m.query({\"formula_anonymous\": \"ABC3\"}, properties=[\"cif\", \"band_gap\"])"
   ]
  },
  {
   "cell_type": "code",
   "execution_count": 12,
   "id": "7b304d77",
   "metadata": {},
   "outputs": [],
   "source": [
    "import pandas as pd\n",
    "from pymatgen.ext.matproj import MPRester\n",
    "from pymatgen.ext.matproj import MPRestError\n",
    "import matplotlib.pyplot as plt\n",
    "import pandas as pd\n",
    "import numpy as np"
   ]
  },
  {
   "cell_type": "code",
   "execution_count": 28,
   "id": "afb55943",
   "metadata": {},
   "outputs": [
    {
     "data": {
      "text/plain": [
       "<function __main__.descriptors(cif)>"
      ]
     },
     "execution_count": 28,
     "metadata": {},
     "output_type": "execute_result"
    }
   ],
   "source": [
    "def descriptors(cif):\n",
    "\n",
    "    atomic_numbers = []\n",
    "\n",
    "    distance_matrix = []\n",
    "    van_der_waals_radius = []\n",
    "    electrical_resistivity = []\n",
    "    velocity_of_sound = []\n",
    "    reflectivity = []\n",
    "    poissons_ratio = []\n",
    "    molar_volume = []\n",
    "    thermal_conductivity = []\n",
    "    melting_point = []\n",
    "    critical_temperature = []\n",
    "    superconduction_temperature = []\n",
    "    liquid_range = []\n",
    "    bulk_modulus = []\n",
    "    youngs_modulus = []\n",
    "    brinell_hardness = []\n",
    "    rigidity_modulus = []\n",
    "    mineral_hardness = []\n",
    "    vickers_hardness = []\n",
    "    density_of_solid = []\n",
    "    coefficient_of_linear_thermal_expansion = []\n",
    "    average_ionic_radius = []\n",
    "    average_cationic_radius = []\n",
    "    average_anionic_radius = []\n",
    "    Structure = Structure.from_file(\"Li10Ge(PS6)2_mp-696128_conventional_standard.cif\")\n",
    "    \n",
    "    numElements = len(Structure.atomic_numbers)\n",
    "\n",
    "    num_metals = 0\n",
    "    for e in Structure.species:\n",
    "        if e.Z in range(3, 4+1) or e.Z in range(11, 12+1) or e.Z in range(19, 30+1) or e.Z in range(37, 48+1) or e.Z in range(55, 80 + 1) or e.Z in range(87, 112+1):\n",
    "            num_metals += 1\n",
    "        metals_fraction = num_metals/numElements\n",
    "\n",
    "        spg = Structure.get_space_group_info()\n",
    "\n",
    "        spacegroup_numbers = {}\n",
    "    for i in range(1, 231):\n",
    "        spacegroup_numbers[i] = 0\n",
    "\n",
    "        spacegroup_numbers[spg[1]] = 1\n",
    "\n",
    "        spacegroup_numbers_list = []\n",
    "    for i in range(1, 231):\n",
    "        spacegroup_numbers_list += [spacegroup_numbers[i]]\n",
    "\n",
    "        atomic_numbers = [np.mean(structure.atomic_numbers), np.max(structure.atomic_numbers), np.min(\n",
    "        structure.atomic_numbers), np.std(structure.atomic_numbers)]\n",
    "    a_parameters = Structure.lattice.abc[0]\n",
    "    b_parameters = Structure.lattice.abc[1]\n",
    "    c_parameters = Structure.lattice.abc[2]\n",
    "    alpha_parameters = Structure.lattice.angles[0]\n",
    "    beta_parameters = Structure.lattice.angles[1]\n",
    "    gamma_parameters = Structure.lattice.angles[2]\n",
    "\n",
    "    distance_matrix += [np.mean(Structure.distance_matrix), np.max(Structure.distance_matrix),\n",
    "                        np.min(Structure.distance_matrix), np.std(Structure.distance_matrix)]\n",
    "\n",
    "    e1, e2, e3, e4, e5, e6, e7, e8, e9, e10, e11, e12, e13, e14, e15, e16, e17, e18, e19, e20, e21, e22, e23 = [\n",
    "    ], [], [], [], [], [], [], [], [], [], [], [], [], [], [], [], [], [], [], [], [], [], []\n",
    "    for e in Structure.species:\n",
    "        e1 += [e.van_der_waals_radius]\n",
    "        e2 += [e.electrical_resistivity]\n",
    "        e3 += [e.velocity_of_sound]\n",
    "        e4 += [e.reflectivity]\n",
    "        e6 += [e.poissons_ratio]\n",
    "        e7 += [e.molar_volume]\n",
    "        e8 += [e.thermal_conductivity]\n",
    "        e9 += [e.melting_point]\n",
    "        e10 += [e.critical_temperature]\n",
    "        e11 += [e.superconduction_temperature]\n",
    "        e12 += [e.liquid_range]\n",
    "        e13 += [e.bulk_modulus]\n",
    "        e14 += [e.youngs_modulus]\n",
    "        e15 += [e.brinell_hardness]\n",
    "        e16 += [e.rigidity_modulus]\n",
    "        e17 += [e.mineral_hardness ]\n",
    "        e18 += [e.vickers_hardness]\n",
    "        e19 += [e.density_of_solid]\n",
    "        e20 += [e.coefficient_of_linear_thermal_expansion]\n",
    "        e21 += [e.average_ionic_radius]\n",
    "        e22 += [e.average_cationic_radius]\n",
    "        e23 += [e.average_anionic_radius]\n",
    "        \n",
    "    e1 = [0 if v is None else v for v in e1]\n",
    "    e2 = [0 if v is None else v for v in e2]\n",
    "    e3 = [0 if v is None else v for v in e3]\n",
    "    e4 = [0 if v is None else v for v in e4]\n",
    "    e5 = [0 if v is None else v for v in e5]\n",
    "    e6 = [0 if v is None else v for v in e6]\n",
    "    e7 = [0 if v is None else v for v in e7]\n",
    "    e8 = [0 if v is None else v for v in e8]\n",
    "    e9 = [0 if v is None else v for v in e9]\n",
    "    e10 = [0 if v is None else v for v in e10]\n",
    "    e11 = [0 if v is None else v for v in e11]\n",
    "    e12 = [0 if v is None else v for v in e12]\n",
    "    e13 = [0 if v is None else v for v in e13]\n",
    "    e14 = [0 if v is None else v for v in e14]\n",
    "    e15 = [0 if v is None else v for v in e15]\n",
    "    e16 = [0 if v is None else v for v in e16]\n",
    "    e17 = [0 if v is None else v for v in e17]\n",
    "    e18 = [0 if v is None else v for v in e18]\n",
    "    e19 = [0 if v is None else v for v in e19]\n",
    "    e20 = [0 if v is None else v for v in e20]\n",
    "    e21 = [0 if v is None else v for v in e21]\n",
    "    e22 = [0 if v is None else v for v in e22]\n",
    "    e23 = [0 if v is None else v for v in e23]\n",
    "    \n",
    "    van_der_waals_radius = [np.mean(e1), np.max(e1), np.min(e1), np.std(e1)]\n",
    "    electrical_resistivity = [np.mean(e2), np.max(e2), np.min(e2), np.std(e2)]\n",
    "    velocity_of_sound = [np.mean(e3), np.max(e3), np.min(e3), np.std(e3)]\n",
    "    reflectivity = [np.mean(e4), np.max(e4), np.min(e4), np.std(e4)]\n",
    "    poissons_ratio = [np.mean(e6), np.max(e6), np.min(e6), np.std(e6)]\n",
    "    molar_volume = [np.mean(e7), np.max(e7), np.min(e7), np.std(e7)]\n",
    "    thermal_conductivity = [np.mean(e8), np.max(e8), np.min(e8), np.std(e8)]\n",
    "    melting_point = [np.mean(e9), np.max(e9), np.min(e9), np.std(e9)]\n",
    "    critical_temperature = [np.mean(e10), np.max(\n",
    "        e10), np.min(e10), np.std(e10)]\n",
    "    superconduction_temperature = [\n",
    "        np.mean(e11), np.max(e11), np.min(e11), np.std(e11)]\n",
    "    liquid_range = [np.mean(e12), np.max(e12), np.min(e12), np.std(e12)]\n",
    "    bulk_modulus = [np.mean(e13), np.max(e13), np.min(e13), np.std(e13)]\n",
    "    youngs_modulus = [np.mean(e14), np.max(e14), np.min(e14), np.std(e14)]\n",
    "    brinell_hardness = [np.mean(e15), np.max(e15), np.min(e15), np.std(e15)]\n",
    "    rigidity_modulus = [np.mean(e16), np.max(e16), np.min(e16), np.std(e16)]\n",
    "    vickers_hardness = [np.mean(e18), np.max(e18), np.min(e18), np.std(e18)]\n",
    "    density_of_solid = [np.mean(e19), np.max(e19), np.min(e19), np.std(e19)]\n",
    "    coefficient_of_linear_thermal_expansion = [\n",
    "        np.mean(e20), np.max(e20), np.min(e20), np.std(e20)]\n",
    "    average_ionic_radius = [np.mean(e21), np.max(\n",
    "        e21), np.min(e21), np.std(e21)]\n",
    "    average_cationic_radius = [\n",
    "        np.mean(e22), np.max(e22), np.min(e22), np.std(e22)]\n",
    "    average_anionic_radius = [\n",
    "        np.mean(e23), np.max(e23), np.min(e23), np.std(e23)]\n",
    "    \n",
    "    V = a_parameters*b_parameters*c_parameters\n",
    "    Density = V / numElements\n",
    "\n",
    "    descriptors_list = atomic_numbers +\\\n",
    "        [Density] +\\\n",
    "        [alpha_parameters] +\\\n",
    "        [beta_parameters] +\\\n",
    "        [gamma_parameters] +\\\n",
    "        [metals_fraction] +\\\n",
    "        distance_matrix +\\\n",
    "        van_der_waals_radius +\\\n",
    "        electrical_resistivity +\\\n",
    "        velocity_of_sound +\\\n",
    "        reflectivity +\\\n",
    "        poissons_ratio +\\\n",
    "        molar_volume +\\\n",
    "        thermal_conductivity +\\\n",
    "        melting_point +\\\n",
    "        critical_temperature +\\\n",
    "        superconduction_temperature +\\\n",
    "        liquid_range +\\\n",
    "        bulk_modulus +\\\n",
    "        youngs_modulus +\\\n",
    "        brinell_hardness +\\\n",
    "        rigidity_modulus +\\\n",
    "        vickers_hardness +\\\n",
    "        density_of_solid +\\\n",
    "        coefficient_of_linear_thermal_expansion +\\\n",
    "        average_ionic_radius +\\\n",
    "        average_cationic_radius +\\\n",
    "        average_anionic_radius +\\\n",
    "        spacegroup_numbers_list\n",
    "    return descriptors_list\n",
    "\n",
    "descriptors"
   ]
  },
  {
   "cell_type": "code",
   "execution_count": 26,
   "id": "ddffeaaa",
   "metadata": {},
   "outputs": [
    {
     "data": {
      "image/png": "[encoded data removed]",
      "text/plain": [
       "<Figure size 720x720 with 1 Axes>"
      ]
     },
     "metadata": {
      "needs_background": "light"
     },
     "output_type": "display_data"
    }
   ],
   "source": [
    "import matplotlib.pyplot as plt\n",
    "\n",
    "plt.rcParams.update({'font.size': 20})\n",
    "\n",
    "plt.figure(figsize=(10, 10))\n",
    "plt.hist(band_gaps, bins=100)\n",
    "plt.savefig('Histogram_PDF', bbox_inches='tight')"
   ]
  },
  {
   "cell_type": "code",
   "execution_count": null,
   "id": "08c3e26f",
   "metadata": {},
   "outputs": [],
   "source": []
  }
 ],
 "metadata": {
  "kernelspec": {
   "display_name": "Python 3",
   "language": "python",
   "name": "python3"
  },
  "language_info": {
   "codemirror_mode": {
    "name": "ipython",
    "version": 3
   },
   "file_extension": ".py",
   "mimetype": "text/x-python",
   "name": "python",
   "nbconvert_exporter": "python",
   "pygments_lexer": "ipython3",
   "version": "3.7.10"
  }
 },
 "nbformat": 4,
 "nbformat_minor": 5
}
