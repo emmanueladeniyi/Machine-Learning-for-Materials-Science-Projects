{
 "cells": [
  {
   "cell_type": "markdown",
   "metadata": {},
   "source": [
    "## *Using neural networks to predict and classify crystal structures of elements*\n",
    "\n",
    "**Why?** Neural networks are widely used for image classification, learning structures and substructures within the data to identify patterns. Such neural network based classifiers can identify patterns and correlations within the data.\n",
    "\n",
    "**What?** In this tutorial we will learn how to use Neural Networks to create a Classification Model to estimate the ground state of the crystal structure. <br>\n",
    "This is the third tutorial, following the [MSEML Query_Viz](MSEML_Query_Viz.ipynb), and was based on the classification tutorial in the [TensorFlow Tutorials](https://nanohub.org/tools/tftutorials).\n",
    "\n",
    "**How to use this?** This tutorial uses Python, some familiarity with programming would be beneficial but is not required. Run each code cell in order by clicking \"Shift + Enter\". Feel free to modify the code, or change queries to familiarize yourself with the workings on the code.\n",
    "\n",
    "Suggested modifications and exercises are included in <font color=blue> blue</font>.\n",
    "\n",
    "**Outline:**\n",
    "\n",
    "1. Getting a dataset\n",
    "2. Processing and Organizing Data\n",
    "3. Creating the Model\n",
    "4. Plotting\n",
    "\n",
    "\n",
    "**Get started:** Click \"Shift-Enter\" on the code cells to run! "
   ]
  },
  {
   "cell_type": "markdown",
   "metadata": {},
   "source": [
    "### 1. Getting a dataset\n",
    "\n",
    "Datasets containing properties for the elements in the periodic table are available online; however, it would be thematic to create our own, using the tools from the first tutorial on [MSEML Query_Viz](MSEML_Query_Viz.ipynb). In this section we will query both [Pymatgen](http://pymatgen.org/) and [Mendeleev](https://mendeleev.readthedocs.io/en/stable/) to get a complete set of properties per element. We will use this data to create the cases from which the model will train and test.\n",
    "<br>\n",
    "<br>\n",
    "In this first snippet of code we will import all relevant libraries, the elements that will be turned into cases and the properties that will serve as the attributes for the cases. We will get 47 entries (which is a small dataset), but should give us a somewhat accurate prediction. It is important to note that more entries would move the prediction closer to the real value, and so would more attributes.\n",
    "<br>\n",
    "<br>\n",
    "The elements listed were chosen because querying them for these properties yields a dataset with no unknown values, and because they represent the three most common crystallographic structures."
   ]
  },
  {
   "cell_type": "code",
   "execution_count": 1,
   "metadata": {},
   "outputs": [
    {
     "name": "stderr",
     "output_type": "stream",
     "text": [
      "Using TensorFlow backend.\n"
     ]
    }
   ],
   "source": [
    "import tensorflow as tf\n",
    "from tensorflow import keras\n",
    "from keras import initializers\n",
    "from keras.layers import Dense\n",
    "from keras.models import Sequential\n",
    "\n",
    "import pymatgen as pymat\n",
    "import mendeleev as mendel\n",
    "import pandas as pd\n",
    "import numpy as np\n",
    "import random\n",
    "\n",
    "%matplotlib inline\n",
    "import matplotlib.pyplot as plt\n",
    "import sys\n",
    "\n",
    "fcc_elements = [\"Ag\", \"Al\", \"Au\", \"Cu\", \"Ir\", \"Ni\", \"Pb\", \"Pd\", \"Pt\", \"Rh\", \"Th\", \"Yb\"]\n",
    "bcc_elements = [\"Ba\", \"Ca\", \"Cr\", \"Cs\", \"Eu\", \"Fe\", \"Li\", \"Mn\", \"Mo\", \"Na\", \"Nb\", \"Rb\", \"Ta\", \"V\", \"W\" ]\n",
    "hcp_elements = [\"Be\", \"Cd\", \"Co\", \"Dy\", \"Er\", \"Gd\", \"Hf\", \"Ho\", \"Lu\", \"Mg\", \"Re\", \n",
    "                \"Ru\", \"Sc\", \"Tb\", \"Ti\", \"Tl\", \"Tm\", \"Y\", \"Zn\", \"Zr\"]\n",
    "\n",
    "elements = fcc_elements + bcc_elements + hcp_elements\n",
    "\n",
    "random.Random(1).shuffle(elements)\n",
    "\n",
    "querable_mendeleev = [\"atomic_number\", \"atomic_volume\", \"boiling_point\", \"en_ghosh\",  \"evaporation_heat\", \"heat_of_formation\",\n",
    "                     \"lattice_constant\", \"melting_point\", \"specific_heat\"]\n",
    "querable_pymatgen = [\"atomic_mass\", \"atomic_radius\", \"electrical_resistivity\",\"molar_volume\", \"bulk_modulus\", \"youngs_modulus\",\n",
    "                     \"average_ionic_radius\", \"density_of_solid\", \"coefficient_of_linear_thermal_expansion\"]\n",
    "querable_values = querable_mendeleev + querable_pymatgen"
   ]
  },
  {
   "cell_type": "markdown",
   "metadata": {},
   "source": [
    "As before, we will use the database queries to populate lists which can be displayed by the [Pandas](https://pandas.pydata.org/) library in a user-friendly table with the properties as the column headers."
   ]
  },
  {
   "cell_type": "code",
   "execution_count": 2,
   "metadata": {},
   "outputs": [
    {
     "data": {
      "text/html": [
       "<div>\n",
       "<style scoped>\n",
       "    .dataframe tbody tr th:only-of-type {\n",
       "        vertical-align: middle;\n",
       "    }\n",
       "\n",
       "    .dataframe tbody tr th {\n",
       "        vertical-align: top;\n",
       "    }\n",
       "\n",
       "    .dataframe thead th {\n",
       "        text-align: right;\n",
       "    }\n",
       "</style>\n",
       "<table border=\"1\" class=\"dataframe\">\n",
       "  <thead>\n",
       "    <tr style=\"text-align: right;\">\n",
       "      <th></th>\n",
       "      <th>atomic_number</th>\n",
       "      <th>atomic_volume</th>\n",
       "      <th>boiling_point</th>\n",
       "      <th>en_ghosh</th>\n",
       "      <th>evaporation_heat</th>\n",
       "      <th>heat_of_formation</th>\n",
       "      <th>lattice_constant</th>\n",
       "      <th>melting_point</th>\n",
       "      <th>specific_heat</th>\n",
       "      <th>atomic_mass</th>\n",
       "      <th>atomic_radius</th>\n",
       "      <th>electrical_resistivity</th>\n",
       "      <th>molar_volume</th>\n",
       "      <th>bulk_modulus</th>\n",
       "      <th>youngs_modulus</th>\n",
       "      <th>average_ionic_radius</th>\n",
       "      <th>density_of_solid</th>\n",
       "      <th>coefficient_of_linear_thermal_expansion</th>\n",
       "    </tr>\n",
       "  </thead>\n",
       "  <tbody>\n",
       "    <tr>\n",
       "      <th>0</th>\n",
       "      <td>27</td>\n",
       "      <td>6.70</td>\n",
       "      <td>3143.0</td>\n",
       "      <td>0.143236</td>\n",
       "      <td>389.1</td>\n",
       "      <td>426.7</td>\n",
       "      <td>2.51</td>\n",
       "      <td>1768.00</td>\n",
       "      <td>0.456</td>\n",
       "      <td>58.933195</td>\n",
       "      <td>1.35</td>\n",
       "      <td>6.000000e-08</td>\n",
       "      <td>6.67</td>\n",
       "      <td>180.0</td>\n",
       "      <td>209.0</td>\n",
       "      <td>0.768333</td>\n",
       "      <td>8900.0</td>\n",
       "      <td>0.000013</td>\n",
       "    </tr>\n",
       "    <tr>\n",
       "      <th>1</th>\n",
       "      <td>69</td>\n",
       "      <td>18.10</td>\n",
       "      <td>2220.0</td>\n",
       "      <td>0.216724</td>\n",
       "      <td>232.0</td>\n",
       "      <td>232.2</td>\n",
       "      <td>3.54</td>\n",
       "      <td>1818.00</td>\n",
       "      <td>0.160</td>\n",
       "      <td>168.934210</td>\n",
       "      <td>1.75</td>\n",
       "      <td>6.760000e-07</td>\n",
       "      <td>19.10</td>\n",
       "      <td>45.0</td>\n",
       "      <td>74.0</td>\n",
       "      <td>1.095000</td>\n",
       "      <td>9321.0</td>\n",
       "      <td>0.000013</td>\n",
       "    </tr>\n",
       "    <tr>\n",
       "      <th>2</th>\n",
       "      <td>39</td>\n",
       "      <td>19.80</td>\n",
       "      <td>3611.0</td>\n",
       "      <td>0.121699</td>\n",
       "      <td>367.0</td>\n",
       "      <td>424.7</td>\n",
       "      <td>3.65</td>\n",
       "      <td>1795.00</td>\n",
       "      <td>0.284</td>\n",
       "      <td>88.905850</td>\n",
       "      <td>1.80</td>\n",
       "      <td>6.000000e-07</td>\n",
       "      <td>19.88</td>\n",
       "      <td>41.0</td>\n",
       "      <td>64.0</td>\n",
       "      <td>1.040000</td>\n",
       "      <td>4472.0</td>\n",
       "      <td>0.000011</td>\n",
       "    </tr>\n",
       "    <tr>\n",
       "      <th>3</th>\n",
       "      <td>75</td>\n",
       "      <td>8.85</td>\n",
       "      <td>5900.0</td>\n",
       "      <td>0.243516</td>\n",
       "      <td>704.0</td>\n",
       "      <td>774.0</td>\n",
       "      <td>2.76</td>\n",
       "      <td>3453.00</td>\n",
       "      <td>0.138</td>\n",
       "      <td>186.207000</td>\n",
       "      <td>1.35</td>\n",
       "      <td>1.800000e-07</td>\n",
       "      <td>8.86</td>\n",
       "      <td>370.0</td>\n",
       "      <td>463.0</td>\n",
       "      <td>0.712500</td>\n",
       "      <td>21020.0</td>\n",
       "      <td>0.000006</td>\n",
       "    </tr>\n",
       "    <tr>\n",
       "      <th>4</th>\n",
       "      <td>28</td>\n",
       "      <td>6.60</td>\n",
       "      <td>3005.0</td>\n",
       "      <td>0.147207</td>\n",
       "      <td>378.6</td>\n",
       "      <td>430.1</td>\n",
       "      <td>3.52</td>\n",
       "      <td>1726.00</td>\n",
       "      <td>0.443</td>\n",
       "      <td>58.693400</td>\n",
       "      <td>1.35</td>\n",
       "      <td>7.200000e-08</td>\n",
       "      <td>6.59</td>\n",
       "      <td>180.0</td>\n",
       "      <td>200.0</td>\n",
       "      <td>0.740000</td>\n",
       "      <td>8908.0</td>\n",
       "      <td>0.000013</td>\n",
       "    </tr>\n",
       "    <tr>\n",
       "      <th>5</th>\n",
       "      <td>67</td>\n",
       "      <td>18.70</td>\n",
       "      <td>2968.0</td>\n",
       "      <td>0.207795</td>\n",
       "      <td>301.0</td>\n",
       "      <td>300.6</td>\n",
       "      <td>3.58</td>\n",
       "      <td>1747.00</td>\n",
       "      <td>0.164</td>\n",
       "      <td>164.930320</td>\n",
       "      <td>1.75</td>\n",
       "      <td>8.140000e-07</td>\n",
       "      <td>18.74</td>\n",
       "      <td>40.0</td>\n",
       "      <td>65.0</td>\n",
       "      <td>1.041000</td>\n",
       "      <td>8795.0</td>\n",
       "      <td>0.000011</td>\n",
       "    </tr>\n",
       "    <tr>\n",
       "      <th>6</th>\n",
       "      <td>79</td>\n",
       "      <td>10.20</td>\n",
       "      <td>3080.0</td>\n",
       "      <td>0.261370</td>\n",
       "      <td>340.0</td>\n",
       "      <td>368.2</td>\n",
       "      <td>4.08</td>\n",
       "      <td>1337.58</td>\n",
       "      <td>0.129</td>\n",
       "      <td>196.966569</td>\n",
       "      <td>1.35</td>\n",
       "      <td>2.200000e-08</td>\n",
       "      <td>10.21</td>\n",
       "      <td>220.0</td>\n",
       "      <td>78.0</td>\n",
       "      <td>1.070000</td>\n",
       "      <td>19300.0</td>\n",
       "      <td>0.000014</td>\n",
       "    </tr>\n",
       "    <tr>\n",
       "      <th>7</th>\n",
       "      <td>21</td>\n",
       "      <td>15.00</td>\n",
       "      <td>3104.0</td>\n",
       "      <td>0.119383</td>\n",
       "      <td>332.7</td>\n",
       "      <td>377.8</td>\n",
       "      <td>3.31</td>\n",
       "      <td>1814.00</td>\n",
       "      <td>0.556</td>\n",
       "      <td>44.955912</td>\n",
       "      <td>1.60</td>\n",
       "      <td>5.500000e-07</td>\n",
       "      <td>15.00</td>\n",
       "      <td>57.0</td>\n",
       "      <td>74.0</td>\n",
       "      <td>0.885000</td>\n",
       "      <td>2985.0</td>\n",
       "      <td>0.000010</td>\n",
       "    </tr>\n",
       "    <tr>\n",
       "      <th>8</th>\n",
       "      <td>45</td>\n",
       "      <td>8.30</td>\n",
       "      <td>4000.0</td>\n",
       "      <td>0.140838</td>\n",
       "      <td>494.0</td>\n",
       "      <td>556.0</td>\n",
       "      <td>3.80</td>\n",
       "      <td>2239.00</td>\n",
       "      <td>0.244</td>\n",
       "      <td>102.905500</td>\n",
       "      <td>1.35</td>\n",
       "      <td>4.300000e-08</td>\n",
       "      <td>8.28</td>\n",
       "      <td>380.0</td>\n",
       "      <td>275.0</td>\n",
       "      <td>0.745000</td>\n",
       "      <td>12450.0</td>\n",
       "      <td>0.000008</td>\n",
       "    </tr>\n",
       "    <tr>\n",
       "      <th>9</th>\n",
       "      <td>74</td>\n",
       "      <td>9.53</td>\n",
       "      <td>5930.0</td>\n",
       "      <td>0.239050</td>\n",
       "      <td>824.0</td>\n",
       "      <td>851.0</td>\n",
       "      <td>3.16</td>\n",
       "      <td>3680.00</td>\n",
       "      <td>0.133</td>\n",
       "      <td>183.840000</td>\n",
       "      <td>1.35</td>\n",
       "      <td>5.400000e-08</td>\n",
       "      <td>9.47</td>\n",
       "      <td>310.0</td>\n",
       "      <td>411.0</td>\n",
       "      <td>0.766667</td>\n",
       "      <td>19250.0</td>\n",
       "      <td>0.000005</td>\n",
       "    </tr>\n",
       "  </tbody>\n",
       "</table>\n",
       "</div>"
      ],
      "text/plain": [
       "   atomic_number  atomic_volume  boiling_point  en_ghosh  evaporation_heat  \\\n",
       "0             27           6.70         3143.0  0.143236             389.1   \n",
       "1             69          18.10         2220.0  0.216724             232.0   \n",
       "2             39          19.80         3611.0  0.121699             367.0   \n",
       "3             75           8.85         5900.0  0.243516             704.0   \n",
       "4             28           6.60         3005.0  0.147207             378.6   \n",
       "5             67          18.70         2968.0  0.207795             301.0   \n",
       "6             79          10.20         3080.0  0.261370             340.0   \n",
       "7             21          15.00         3104.0  0.119383             332.7   \n",
       "8             45           8.30         4000.0  0.140838             494.0   \n",
       "9             74           9.53         5930.0  0.239050             824.0   \n",
       "\n",
       "   heat_of_formation  lattice_constant  melting_point  specific_heat  \\\n",
       "0              426.7              2.51        1768.00          0.456   \n",
       "1              232.2              3.54        1818.00          0.160   \n",
       "2              424.7              3.65        1795.00          0.284   \n",
       "3              774.0              2.76        3453.00          0.138   \n",
       "4              430.1              3.52        1726.00          0.443   \n",
       "5              300.6              3.58        1747.00          0.164   \n",
       "6              368.2              4.08        1337.58          0.129   \n",
       "7              377.8              3.31        1814.00          0.556   \n",
       "8              556.0              3.80        2239.00          0.244   \n",
       "9              851.0              3.16        3680.00          0.133   \n",
       "\n",
       "   atomic_mass  atomic_radius  electrical_resistivity  molar_volume  \\\n",
       "0    58.933195           1.35            6.000000e-08          6.67   \n",
       "1   168.934210           1.75            6.760000e-07         19.10   \n",
       "2    88.905850           1.80            6.000000e-07         19.88   \n",
       "3   186.207000           1.35            1.800000e-07          8.86   \n",
       "4    58.693400           1.35            7.200000e-08          6.59   \n",
       "5   164.930320           1.75            8.140000e-07         18.74   \n",
       "6   196.966569           1.35            2.200000e-08         10.21   \n",
       "7    44.955912           1.60            5.500000e-07         15.00   \n",
       "8   102.905500           1.35            4.300000e-08          8.28   \n",
       "9   183.840000           1.35            5.400000e-08          9.47   \n",
       "\n",
       "   bulk_modulus  youngs_modulus  average_ionic_radius  density_of_solid  \\\n",
       "0         180.0           209.0              0.768333            8900.0   \n",
       "1          45.0            74.0              1.095000            9321.0   \n",
       "2          41.0            64.0              1.040000            4472.0   \n",
       "3         370.0           463.0              0.712500           21020.0   \n",
       "4         180.0           200.0              0.740000            8908.0   \n",
       "5          40.0            65.0              1.041000            8795.0   \n",
       "6         220.0            78.0              1.070000           19300.0   \n",
       "7          57.0            74.0              0.885000            2985.0   \n",
       "8         380.0           275.0              0.745000           12450.0   \n",
       "9         310.0           411.0              0.766667           19250.0   \n",
       "\n",
       "   coefficient_of_linear_thermal_expansion  \n",
       "0                                 0.000013  \n",
       "1                                 0.000013  \n",
       "2                                 0.000011  \n",
       "3                                 0.000006  \n",
       "4                                 0.000013  \n",
       "5                                 0.000011  \n",
       "6                                 0.000014  \n",
       "7                                 0.000010  \n",
       "8                                 0.000008  \n",
       "9                                 0.000005  "
      ]
     },
     "execution_count": 2,
     "metadata": {},
     "output_type": "execute_result"
    }
   ],
   "source": [
    "all_values = [] # Values for Attributes\n",
    "all_labels = [] # Crystal structure labels (0 = fcc, 1 = bcc, 2 = hcp)\n",
    "\n",
    "for item in elements:\n",
    "    element_values = []\n",
    "    \n",
    "    # This section queries Mendeleev\n",
    "    element_object = mendel.element(item)\n",
    "    for i in querable_mendeleev:    \n",
    "        element_values.append(getattr(element_object,i))\n",
    "\n",
    "    # This section queries Pymatgen\n",
    "    element_object = pymat.Element(item)    \n",
    "    for i in querable_pymatgen:\n",
    "        element_values.append(getattr(element_object,i))\n",
    "        \n",
    "    all_values.append(element_values) # All lists are appended to another list, creating a List of Lists\n",
    "    \n",
    "    if (item in fcc_elements):\n",
    "        all_labels.append([1, 0, 0]) # The crystal structure labels are assigned here\n",
    "    elif (item in bcc_elements):\n",
    "        all_labels.append([0, 1, 0]) # The crystal structure labels are assigned here\n",
    "    elif (item in hcp_elements):\n",
    "        all_labels.append([0, 0, 1]) # The crystal structure labels are assigned here\n",
    "\n",
    "# Pandas Dataframe\n",
    "df = pd.DataFrame(all_values, columns=querable_values)\n",
    "\n",
    "# We will patch some of the values that are not available in the datasets.\n",
    "\n",
    "# Value for the CTE of Cesium\n",
    "index_Cs = df.index[df['atomic_number'] == 55]\n",
    "df.iloc[index_Cs, df.columns.get_loc(\"coefficient_of_linear_thermal_expansion\")] = 0.000097 \n",
    "# Value from: David R. Lide (ed), CRC Handbook of Chemistry and Physics, 84th Edition. CRC Press. Boca Raton, Florida, 2003\n",
    "\n",
    "# Value for the CTE of Rubidium\n",
    "index_Rb = df.index[df['atomic_number'] == 37]\n",
    "df.iloc[index_Rb, df.columns.get_loc(\"coefficient_of_linear_thermal_expansion\")] = 0.000090 \n",
    "# Value from: https://www.azom.com/article.aspx?ArticleID=1834\n",
    "\n",
    "# Value for the Evaporation Heat of Ruthenium\n",
    "index_Ru = df.index[df['atomic_number'] == 44]\n",
    "df.iloc[index_Ru, df.columns.get_loc(\"evaporation_heat\")] = 595 # kJ/mol \n",
    "# Value from: https://www.webelements.com/ruthenium/thermochemistry.html\n",
    "\n",
    "# Value for the Bulk Modulus of Zirconium\n",
    "index_Zr = df.index[df['atomic_number'] == 40]\n",
    "df.iloc[index_Zr, df.columns.get_loc(\"bulk_modulus\")] = 94 # GPa \n",
    "# Value from: https://materialsproject.org/materials/mp-131/\n",
    "\n",
    "df.head(n=10)"
   ]
  },
  {
   "cell_type": "markdown",
   "metadata": {},
   "source": [
    "### 2. Processing and Organizing Data\n",
    "\n",
    "We again normalize the data and organize it into training and testing sets as before.\n",
    "\n",
    "##### SETS\n",
    "\n",
    "We have 47 elements for which the crystal structure is known and we will use 40 of these as a training set and the remaining 7 as testing set.\n",
    "\n",
    "##### NORMALIZATION\n",
    "\n",
    "We will again use the Standard Score Normalization, which subtracts the mean of the feature and divide by its standard deviation.\n",
    "\n",
    "<span style=\"font-size:2em;\">$ \\frac{X - µ}{σ} $ </span>\n",
    "\n",
    "While our model might converge without feature normalization, the resultant model would be difficult to train and would be dependent on the choice of units used in the input."
   ]
  },
  {
   "cell_type": "code",
   "execution_count": 3,
   "metadata": {
    "scrolled": true
   },
   "outputs": [
    {
     "name": "stdout",
     "output_type": "stream",
     "text": [
      "Shape of Values: (47, 18)\n",
      "Shape of Labels: (47, 3)\n",
      "[-0.80084167 -0.75983551 -0.00894162 -0.40732945  0.15599373  0.16654528\n",
      " -1.09549525  0.09455406  0.02631292 -0.82400017 -0.80570946 -0.67799461\n",
      " -0.75661221  0.70972845  0.6516648  -0.77257498  0.11409173 -0.3075323 ]\n"
     ]
    }
   ],
   "source": [
    "# SETS\n",
    "\n",
    "all_values = [list(df.iloc[x]) for x in range(len(all_values))]\n",
    "\n",
    "# List of lists are turned into Numpy arrays to facilitate calculations in steps to follow (Normalization).\n",
    "all_values = np.array(all_values, dtype = float)\n",
    "print(\"Shape of Values:\", all_values.shape)\n",
    "all_labels = np.array(all_labels, dtype = int)\n",
    "print(\"Shape of Labels:\", all_labels.shape)\n",
    "\n",
    "# Training Set\n",
    "train_values = all_values[:40, :]\n",
    "train_labels = all_labels[:40, :]\n",
    "\n",
    "# Testing Set\n",
    "test_values = all_values[-7:, :]\n",
    "test_labels = all_labels[-7:, :]\n",
    "\n",
    "# NORMALIZATION\n",
    "\n",
    "mean = np.nanmean(train_values, axis = 0) # mean\n",
    "std = np.nanstd(train_values, axis = 0) # standard deviation\n",
    "\n",
    "train_values = (train_values - mean) / std # input scaling\n",
    "test_values = (test_values - mean) / std # input scaling\n",
    "\n",
    "print(train_values[0]) # print a sample entry from the training set\n",
    "#print(train_labels[0])"
   ]
  },
  {
   "cell_type": "markdown",
   "metadata": {},
   "source": [
    "### 3. Creating the Model\n",
    "\n",
    "For this classification, we will use a simple sequential neural network with one densely connected hidden layer. The optimizer used will be [RMSPropOptimizer](https://www.tensorflow.org/api_docs/python/tf/train/RMSPropOptimizer) (Root Mean Square Propagation).\n",
    "\n",
    "To learn more about Root Mean Squared Propagation, click [here](https://climin.readthedocs.io/en/latest/rmsprop.html).\n",
    "\n",
    "\n",
    "\n",
    "The key difference between the regression model and the classification model is our metric to measure network performance. While we used mean squared error (between the true outputs and the network's predicted output) for the regression task, we use categorical crossentropy (click [here](https://towardsdatascience.com/demystifying-cross-entropy-e80e3ad54a8) to learn more about it), using classification accuracy as a metric where higher accuracy implies a better network."
   ]
  },
  {
   "cell_type": "code",
   "execution_count": 4,
   "metadata": {},
   "outputs": [
    {
     "name": "stdout",
     "output_type": "stream",
     "text": [
      "WARNING:tensorflow:From /apps/share64/debian7/anaconda/anaconda-6/lib/python3.7/site-packages/tensorflow/python/framework/op_def_library.py:263: colocate_with (from tensorflow.python.framework.ops) is deprecated and will be removed in a future version.\n",
      "Instructions for updating:\n",
      "Colocations handled automatically by placer.\n",
      "_________________________________________________________________\n",
      "Layer (type)                 Output Shape              Param #   \n",
      "=================================================================\n",
      "dense_1 (Dense)              (None, 16)                304       \n",
      "_________________________________________________________________\n",
      "dense_2 (Dense)              (None, 3)                 51        \n",
      "=================================================================\n",
      "Total params: 355\n",
      "Trainable params: 355\n",
      "Non-trainable params: 0\n",
      "_________________________________________________________________\n"
     ]
    }
   ],
   "source": [
    "# DEFINITION OF THE MODEL\n",
    "\n",
    "# The weights of our neural network will be initialized in a random manner, using a seed allows for reproducibility\n",
    "kernel_init = initializers.RandomNormal(seed=14)\n",
    "\n",
    "model = Sequential()\n",
    "model.add(Dense(16, activation='relu', input_shape=(train_values.shape[1],), kernel_initializer=kernel_init))\n",
    "#model.add(Dense(16, activation='relu', kernel_initializer=kernel_init))\n",
    "model.add(Dense(3, activation=tf.nn.softmax))  # Output Layer\n",
    "\n",
    "# DEFINITION OF THE OPTIMIZER\n",
    "\n",
    "optimizer = tf.train.RMSPropOptimizer(0.002) # Root Mean Squared Propagation\n",
    "\n",
    "# This line matches the optimizer to the model and states which metrics will evaluate the model's accuracy\n",
    "model.compile(loss='categorical_crossentropy', optimizer=optimizer, metrics=['accuracy'])\n",
    "model.summary()"
   ]
  },
  {
   "cell_type": "markdown",
   "metadata": {},
   "source": [
    "#### TRAINING \n",
    "\n",
    "This model is trained for 350 epochs, and we record the training accuracy in the history object. This way, by plotting \"history\" we can see the evolution of the \"learning\" of the model, that is the decrease of the Mean Absolute Error. Models in Keras are fitted to the training set using the [**fit**](https://keras.io/models/model/#fit) method.\n",
    "\n",
    "One **Epoch** occurs when you pass the entire dataset through the model. One **Batch** contains a subset of the dataset that can be fed to the model at the same time. A more detailed explanation of these concepts can be found in this [blog](https://towardsdatascience.com/epoch-vs-iterations-vs-batch-size-4dfb9c7ce9c9). As we have a really small dataset compared to the ones that are usually considered to be modeled by these neural networks, we are feeding all entries at the same time, so our batch is the entire dataset, and an epoch occurs when the batch is processed."
   ]
  },
  {
   "cell_type": "code",
   "execution_count": 5,
   "metadata": {},
   "outputs": [
    {
     "name": "stdout",
     "output_type": "stream",
     "text": [
      "WARNING:tensorflow:From /apps/share64/debian7/anaconda/anaconda-6/lib/python3.7/site-packages/tensorflow/python/ops/math_ops.py:3066: to_int32 (from tensorflow.python.ops.math_ops) is deprecated and will be removed in a future version.\n",
      "Instructions for updating:\n",
      "Use tf.cast instead.\n",
      "Current Epoch: 300\r"
     ]
    },
    {
     "data": {
      "image/png": "[encoded data removed]",
      "text/plain": [
       "<Figure size 432x288 with 1 Axes>"
      ]
     },
     "metadata": {
      "needs_background": "light"
     },
     "output_type": "display_data"
    }
   ],
   "source": [
    "class PrintEpNum(keras.callbacks.Callback): # This is a function for the Epoch Counter\n",
    "    def on_epoch_end(self, epoch, logs):\n",
    "        sys.stdout.flush()\n",
    "        sys.stdout.write(\"Current Epoch: \" + str(epoch+1) + '\\r') # Updates current Epoch Number\n",
    "\n",
    "\n",
    "EPOCHS = 300 # Number of EPOCHS\n",
    "\n",
    "# HISTORY Object which contains how the model learned\n",
    "history = model.fit(train_values, train_labels, batch_size=train_values.shape[0], \\\n",
    "                    epochs=EPOCHS, validation_split=0.1, verbose = False, callbacks=[PrintEpNum()])\n",
    "\n",
    "# PLOTTING HISTORY USING MATPLOTLIB\n",
    "\n",
    "plt.figure()\n",
    "plt.xlabel('Epoch')\n",
    "plt.ylabel('Accuracy')\n",
    "plt.plot(history.epoch, np.array(history.history['acc']),label='Training Accuracy')\n",
    "plt.plot(history.epoch, np.array(history.history['val_acc']),label = 'Validation Accuracy')\n",
    "plt.legend()\n",
    "plt.show()"
   ]
  },
  {
   "cell_type": "markdown",
   "metadata": {},
   "source": [
    "#### TESTING\n",
    "\n",
    "Models in Keras are tested using the method [**evaluate**](https://keras.io/models/model/#evaluate). This method returns the classification accuracy on the training and the testing sets."
   ]
  },
  {
   "cell_type": "code",
   "execution_count": 6,
   "metadata": {},
   "outputs": [
    {
     "name": "stdout",
     "output_type": "stream",
     "text": [
      "Training Set Accuracy: 1.000000\n",
      "Testing Set Accuracy: 0.857143\n"
     ]
    }
   ],
   "source": [
    "loss, acc = model.evaluate(train_values, train_labels, verbose=0)\n",
    "\n",
    "print(\"Training Set Accuracy: %f\" %(acc))\n",
    "\n",
    "loss, acc = model.evaluate(test_values, test_labels, verbose=0)\n",
    "\n",
    "print(\"Testing Set Accuracy: %f\" %(acc))"
   ]
  },
  {
   "cell_type": "markdown",
   "metadata": {},
   "source": [
    "#### MAKING PREDICTIONS\n",
    "\n",
    "The last step in a Regression Model is to make predictions for values not in the training set, which are determined by the method [**predict**](https://keras.io/models/model/#predict). In the following cell we print the Elements in the testing set, the real values for their Young's Moduli and the predictions generated by the Machine Learning model."
   ]
  },
  {
   "cell_type": "code",
   "execution_count": 7,
   "metadata": {},
   "outputs": [],
   "source": [
    "train_predictions = model.predict(train_values)\n",
    "test_predictions = model.predict(test_values)\n",
    "\n",
    "all_labels = np.vstack((train_labels, test_labels))\n",
    "all_predictions = np.vstack((train_predictions, test_predictions))\n",
    "\n",
    "predicted_labels = []\n",
    "true_labels = []\n",
    "\n",
    "for i in range(all_predictions.shape[0]):\n",
    "    if (np.argmax(all_predictions[i]) == 0):\n",
    "        predicted_labels.append(\"FCC\")\n",
    "    if (np.argmax(all_labels[i]) == 0):\n",
    "        true_labels.append(\"FCC\")\n",
    "    if (np.argmax(all_predictions[i]) == 1):\n",
    "        predicted_labels.append(\"BCC\")\n",
    "    if (np.argmax(all_labels[i]) == 1):\n",
    "        true_labels.append(\"BCC\")\n",
    "    if (np.argmax(all_predictions[i]) == 2):\n",
    "        predicted_labels.append(\"HCP\")\n",
    "    if (np.argmax(all_labels[i]) == 2):\n",
    "        true_labels.append(\"HCP\")\n",
    "\n",
    "predicted_labels = np.array(predicted_labels).reshape((-1, 1))\n",
    "true_labels = np.array(true_labels).reshape((-1, 1))\n",
    "headings = [\"Atomic number\", \"True crystal structure\", \"Predicted crystal structure\"]\n",
    "\n",
    "atomic_number_array = np.array(df.iloc[:, 0]).reshape((-1, 1))\n",
    "plot_table = np.concatenate((atomic_number_array, true_labels, predicted_labels), axis=1)\n",
    "\n",
    "plot_df = pd.DataFrame(plot_table, columns=headings)"
   ]
  },
  {
   "cell_type": "code",
   "execution_count": 8,
   "metadata": {},
   "outputs": [
    {
     "data": {
      "text/html": [
       "<div>\n",
       "<style scoped>\n",
       "    .dataframe tbody tr th:only-of-type {\n",
       "        vertical-align: middle;\n",
       "    }\n",
       "\n",
       "    .dataframe tbody tr th {\n",
       "        vertical-align: top;\n",
       "    }\n",
       "\n",
       "    .dataframe thead th {\n",
       "        text-align: right;\n",
       "    }\n",
       "</style>\n",
       "<table border=\"1\" class=\"dataframe\">\n",
       "  <thead>\n",
       "    <tr style=\"text-align: right;\">\n",
       "      <th></th>\n",
       "      <th>Atomic number</th>\n",
       "      <th>True crystal structure</th>\n",
       "      <th>Predicted crystal structure</th>\n",
       "    </tr>\n",
       "  </thead>\n",
       "  <tbody>\n",
       "    <tr>\n",
       "      <th>0</th>\n",
       "      <td>27</td>\n",
       "      <td>HCP</td>\n",
       "      <td>HCP</td>\n",
       "    </tr>\n",
       "    <tr>\n",
       "      <th>1</th>\n",
       "      <td>69</td>\n",
       "      <td>HCP</td>\n",
       "      <td>HCP</td>\n",
       "    </tr>\n",
       "    <tr>\n",
       "      <th>2</th>\n",
       "      <td>39</td>\n",
       "      <td>HCP</td>\n",
       "      <td>HCP</td>\n",
       "    </tr>\n",
       "    <tr>\n",
       "      <th>3</th>\n",
       "      <td>75</td>\n",
       "      <td>HCP</td>\n",
       "      <td>HCP</td>\n",
       "    </tr>\n",
       "    <tr>\n",
       "      <th>4</th>\n",
       "      <td>28</td>\n",
       "      <td>FCC</td>\n",
       "      <td>FCC</td>\n",
       "    </tr>\n",
       "    <tr>\n",
       "      <th>5</th>\n",
       "      <td>67</td>\n",
       "      <td>HCP</td>\n",
       "      <td>HCP</td>\n",
       "    </tr>\n",
       "    <tr>\n",
       "      <th>6</th>\n",
       "      <td>79</td>\n",
       "      <td>FCC</td>\n",
       "      <td>FCC</td>\n",
       "    </tr>\n",
       "    <tr>\n",
       "      <th>7</th>\n",
       "      <td>21</td>\n",
       "      <td>HCP</td>\n",
       "      <td>HCP</td>\n",
       "    </tr>\n",
       "    <tr>\n",
       "      <th>8</th>\n",
       "      <td>45</td>\n",
       "      <td>FCC</td>\n",
       "      <td>FCC</td>\n",
       "    </tr>\n",
       "    <tr>\n",
       "      <th>9</th>\n",
       "      <td>74</td>\n",
       "      <td>BCC</td>\n",
       "      <td>BCC</td>\n",
       "    </tr>\n",
       "    <tr>\n",
       "      <th>10</th>\n",
       "      <td>64</td>\n",
       "      <td>HCP</td>\n",
       "      <td>HCP</td>\n",
       "    </tr>\n",
       "    <tr>\n",
       "      <th>11</th>\n",
       "      <td>65</td>\n",
       "      <td>HCP</td>\n",
       "      <td>HCP</td>\n",
       "    </tr>\n",
       "    <tr>\n",
       "      <th>12</th>\n",
       "      <td>72</td>\n",
       "      <td>HCP</td>\n",
       "      <td>HCP</td>\n",
       "    </tr>\n",
       "    <tr>\n",
       "      <th>13</th>\n",
       "      <td>70</td>\n",
       "      <td>FCC</td>\n",
       "      <td>FCC</td>\n",
       "    </tr>\n",
       "    <tr>\n",
       "      <th>14</th>\n",
       "      <td>55</td>\n",
       "      <td>BCC</td>\n",
       "      <td>BCC</td>\n",
       "    </tr>\n",
       "    <tr>\n",
       "      <th>15</th>\n",
       "      <td>30</td>\n",
       "      <td>HCP</td>\n",
       "      <td>HCP</td>\n",
       "    </tr>\n",
       "    <tr>\n",
       "      <th>16</th>\n",
       "      <td>56</td>\n",
       "      <td>BCC</td>\n",
       "      <td>BCC</td>\n",
       "    </tr>\n",
       "    <tr>\n",
       "      <th>17</th>\n",
       "      <td>25</td>\n",
       "      <td>BCC</td>\n",
       "      <td>BCC</td>\n",
       "    </tr>\n",
       "    <tr>\n",
       "      <th>18</th>\n",
       "      <td>26</td>\n",
       "      <td>BCC</td>\n",
       "      <td>BCC</td>\n",
       "    </tr>\n",
       "    <tr>\n",
       "      <th>19</th>\n",
       "      <td>42</td>\n",
       "      <td>BCC</td>\n",
       "      <td>BCC</td>\n",
       "    </tr>\n",
       "    <tr>\n",
       "      <th>20</th>\n",
       "      <td>11</td>\n",
       "      <td>BCC</td>\n",
       "      <td>BCC</td>\n",
       "    </tr>\n",
       "    <tr>\n",
       "      <th>21</th>\n",
       "      <td>71</td>\n",
       "      <td>HCP</td>\n",
       "      <td>HCP</td>\n",
       "    </tr>\n",
       "    <tr>\n",
       "      <th>22</th>\n",
       "      <td>90</td>\n",
       "      <td>FCC</td>\n",
       "      <td>FCC</td>\n",
       "    </tr>\n",
       "    <tr>\n",
       "      <th>23</th>\n",
       "      <td>29</td>\n",
       "      <td>FCC</td>\n",
       "      <td>FCC</td>\n",
       "    </tr>\n",
       "    <tr>\n",
       "      <th>24</th>\n",
       "      <td>3</td>\n",
       "      <td>BCC</td>\n",
       "      <td>BCC</td>\n",
       "    </tr>\n",
       "    <tr>\n",
       "      <th>25</th>\n",
       "      <td>81</td>\n",
       "      <td>HCP</td>\n",
       "      <td>HCP</td>\n",
       "    </tr>\n",
       "    <tr>\n",
       "      <th>26</th>\n",
       "      <td>23</td>\n",
       "      <td>BCC</td>\n",
       "      <td>BCC</td>\n",
       "    </tr>\n",
       "    <tr>\n",
       "      <th>27</th>\n",
       "      <td>37</td>\n",
       "      <td>BCC</td>\n",
       "      <td>BCC</td>\n",
       "    </tr>\n",
       "    <tr>\n",
       "      <th>28</th>\n",
       "      <td>40</td>\n",
       "      <td>HCP</td>\n",
       "      <td>HCP</td>\n",
       "    </tr>\n",
       "    <tr>\n",
       "      <th>29</th>\n",
       "      <td>24</td>\n",
       "      <td>BCC</td>\n",
       "      <td>BCC</td>\n",
       "    </tr>\n",
       "    <tr>\n",
       "      <th>30</th>\n",
       "      <td>41</td>\n",
       "      <td>BCC</td>\n",
       "      <td>BCC</td>\n",
       "    </tr>\n",
       "    <tr>\n",
       "      <th>31</th>\n",
       "      <td>47</td>\n",
       "      <td>FCC</td>\n",
       "      <td>FCC</td>\n",
       "    </tr>\n",
       "    <tr>\n",
       "      <th>32</th>\n",
       "      <td>4</td>\n",
       "      <td>HCP</td>\n",
       "      <td>HCP</td>\n",
       "    </tr>\n",
       "    <tr>\n",
       "      <th>33</th>\n",
       "      <td>44</td>\n",
       "      <td>HCP</td>\n",
       "      <td>HCP</td>\n",
       "    </tr>\n",
       "    <tr>\n",
       "      <th>34</th>\n",
       "      <td>13</td>\n",
       "      <td>FCC</td>\n",
       "      <td>FCC</td>\n",
       "    </tr>\n",
       "    <tr>\n",
       "      <th>35</th>\n",
       "      <td>22</td>\n",
       "      <td>HCP</td>\n",
       "      <td>HCP</td>\n",
       "    </tr>\n",
       "    <tr>\n",
       "      <th>36</th>\n",
       "      <td>82</td>\n",
       "      <td>FCC</td>\n",
       "      <td>FCC</td>\n",
       "    </tr>\n",
       "    <tr>\n",
       "      <th>37</th>\n",
       "      <td>20</td>\n",
       "      <td>BCC</td>\n",
       "      <td>BCC</td>\n",
       "    </tr>\n",
       "    <tr>\n",
       "      <th>38</th>\n",
       "      <td>73</td>\n",
       "      <td>BCC</td>\n",
       "      <td>BCC</td>\n",
       "    </tr>\n",
       "    <tr>\n",
       "      <th>39</th>\n",
       "      <td>66</td>\n",
       "      <td>HCP</td>\n",
       "      <td>HCP</td>\n",
       "    </tr>\n",
       "    <tr>\n",
       "      <th>40</th>\n",
       "      <td>48</td>\n",
       "      <td>HCP</td>\n",
       "      <td>HCP</td>\n",
       "    </tr>\n",
       "    <tr>\n",
       "      <th>41</th>\n",
       "      <td>68</td>\n",
       "      <td>HCP</td>\n",
       "      <td>HCP</td>\n",
       "    </tr>\n",
       "    <tr>\n",
       "      <th>42</th>\n",
       "      <td>46</td>\n",
       "      <td>FCC</td>\n",
       "      <td>FCC</td>\n",
       "    </tr>\n",
       "    <tr>\n",
       "      <th>43</th>\n",
       "      <td>63</td>\n",
       "      <td>BCC</td>\n",
       "      <td>HCP</td>\n",
       "    </tr>\n",
       "    <tr>\n",
       "      <th>44</th>\n",
       "      <td>77</td>\n",
       "      <td>FCC</td>\n",
       "      <td>FCC</td>\n",
       "    </tr>\n",
       "    <tr>\n",
       "      <th>45</th>\n",
       "      <td>12</td>\n",
       "      <td>HCP</td>\n",
       "      <td>HCP</td>\n",
       "    </tr>\n",
       "    <tr>\n",
       "      <th>46</th>\n",
       "      <td>78</td>\n",
       "      <td>FCC</td>\n",
       "      <td>FCC</td>\n",
       "    </tr>\n",
       "  </tbody>\n",
       "</table>\n",
       "</div>"
      ],
      "text/plain": [
       "   Atomic number True crystal structure Predicted crystal structure\n",
       "0             27                    HCP                         HCP\n",
       "1             69                    HCP                         HCP\n",
       "2             39                    HCP                         HCP\n",
       "3             75                    HCP                         HCP\n",
       "4             28                    FCC                         FCC\n",
       "5             67                    HCP                         HCP\n",
       "6             79                    FCC                         FCC\n",
       "7             21                    HCP                         HCP\n",
       "8             45                    FCC                         FCC\n",
       "9             74                    BCC                         BCC\n",
       "10            64                    HCP                         HCP\n",
       "11            65                    HCP                         HCP\n",
       "12            72                    HCP                         HCP\n",
       "13            70                    FCC                         FCC\n",
       "14            55                    BCC                         BCC\n",
       "15            30                    HCP                         HCP\n",
       "16            56                    BCC                         BCC\n",
       "17            25                    BCC                         BCC\n",
       "18            26                    BCC                         BCC\n",
       "19            42                    BCC                         BCC\n",
       "20            11                    BCC                         BCC\n",
       "21            71                    HCP                         HCP\n",
       "22            90                    FCC                         FCC\n",
       "23            29                    FCC                         FCC\n",
       "24             3                    BCC                         BCC\n",
       "25            81                    HCP                         HCP\n",
       "26            23                    BCC                         BCC\n",
       "27            37                    BCC                         BCC\n",
       "28            40                    HCP                         HCP\n",
       "29            24                    BCC                         BCC\n",
       "30            41                    BCC                         BCC\n",
       "31            47                    FCC                         FCC\n",
       "32             4                    HCP                         HCP\n",
       "33            44                    HCP                         HCP\n",
       "34            13                    FCC                         FCC\n",
       "35            22                    HCP                         HCP\n",
       "36            82                    FCC                         FCC\n",
       "37            20                    BCC                         BCC\n",
       "38            73                    BCC                         BCC\n",
       "39            66                    HCP                         HCP\n",
       "40            48                    HCP                         HCP\n",
       "41            68                    HCP                         HCP\n",
       "42            46                    FCC                         FCC\n",
       "43            63                    BCC                         HCP\n",
       "44            77                    FCC                         FCC\n",
       "45            12                    HCP                         HCP\n",
       "46            78                    FCC                         FCC"
      ]
     },
     "execution_count": 8,
     "metadata": {},
     "output_type": "execute_result"
    }
   ],
   "source": [
    "plot_df"
   ]
  },
  {
   "cell_type": "code",
   "execution_count": 9,
   "metadata": {},
   "outputs": [],
   "source": [
    "crystal_structures = [\"FCC\", \"BCC\", \"HCP\"]\n",
    "FCC_prediction = []\n",
    "BCC_prediction = []\n",
    "HCP_prediction = []\n",
    "\n",
    "for item in range(len(all_predictions)):\n",
    "    FCC_prediction.append(all_predictions[item].tolist()[0])\n",
    "    BCC_prediction.append(all_predictions[item].tolist()[1])\n",
    "    HCP_prediction.append(all_predictions[item].tolist()[2])   \n",
    "\n",
    "# --------------------------------------------------------------\n",
    "    \n",
    "# This block will be used to sort the elements by their atomic number\n",
    "    \n",
    "atomic_number = list(df.iloc[:, 0]) # From the Pandas Dataset\n",
    "order = np.argsort(atomic_number) # Sorting Indexes\n",
    "\n",
    "# Sorting the lists by the indexes\n",
    "# elements = [elements[x] for x in order]\n",
    "# FCC_prediction = [FCC_prediction[x] for x in order]\n",
    "# BCC_prediction = [BCC_prediction[x] for x in order]\n",
    "# HCP_prediction =[HCP_prediction[x] for x in order]\n",
    "\n",
    "# # --------------------------------------------------------------"
   ]
  },
  {
   "cell_type": "code",
   "execution_count": 16,
   "metadata": {},
   "outputs": [
    {
     "data": {
      "text/html": [
       "        <script type=\"text/javascript\">\n",
       "        window.PlotlyConfig = {MathJaxConfig: 'local'};\n",
       "        if (window.MathJax) {MathJax.Hub.Config({SVG: {font: \"STIX-Web\"}});}\n",
       "        if (typeof require !== 'undefined') {\n",
       "        require.undef(\"plotly\");\n",
       "        requirejs.config({\n",
       "            paths: {\n",
       "                'plotly': ['https://cdn.plot.ly/plotly-latest.min']\n",
       "            }\n",
       "        });\n",
       "        require(['plotly'], function(Plotly) {\n",
       "            window._Plotly = Plotly;\n",
       "        });\n",
       "        }\n",
       "        </script>\n",
       "        "
      ]
     },
     "metadata": {},
     "output_type": "display_data"
    },
    {
     "data": {
      "application/vnd.plotly.v1+json": {
       "config": {
        "plotlyServerURL": "https://plot.ly"
       },
       "data": [
        {
         "marker": {
          "color": "green"
         },
         "name": "FCC",
         "showlegend": false,
         "text": [
          null,
          null,
          null,
          null,
          null,
          null,
          null,
          null,
          null,
          "*",
          "*",
          "*"
         ],
         "textfont": {
          "size": 24
         },
         "textposition": "inside",
         "type": "bar",
         "x": [
          "Ni",
          "Au",
          "Rh",
          "Yb",
          "Th",
          "Cu",
          "Ag",
          "Al",
          "Pb",
          "Pd",
          "Ir",
          "Pt"
         ],
         "xaxis": "x",
         "y": [
          0.8437795042991638,
          0.9999909400939941,
          0.9946315288543701,
          0.9889834523200989,
          0.9924187660217285,
          0.9933251738548279,
          0.9904525279998779,
          0.9732524752616882,
          0.8721968531608582,
          0.9980601668357849,
          0.5894686579704285,
          0.9997227787971497
         ],
         "yaxis": "y"
        },
        {
         "marker": {
          "color": "red"
         },
         "name": "BCC",
         "showlegend": false,
         "type": "bar",
         "x": [
          "Ni",
          "Au",
          "Rh",
          "Yb",
          "Th",
          "Cu",
          "Ag",
          "Al",
          "Pb",
          "Pd",
          "Ir",
          "Pt"
         ],
         "xaxis": "x",
         "y": [
          0.12517204880714417,
          1.7886083014673204e-07,
          0.0052295709028840065,
          0.009064731188118458,
          0.0005390705773606896,
          0.003707525320351124,
          0.00505357701331377,
          0.017488203942775726,
          0.0005006329156458378,
          0.0009365321020595729,
          0.01602168381214142,
          1.2009113561362028e-06
         ],
         "yaxis": "y"
        },
        {
         "marker": {
          "color": "red"
         },
         "name": "HCP",
         "showlegend": false,
         "type": "bar",
         "x": [
          "Ni",
          "Au",
          "Rh",
          "Yb",
          "Th",
          "Cu",
          "Ag",
          "Al",
          "Pb",
          "Pd",
          "Ir",
          "Pt"
         ],
         "xaxis": "x",
         "y": [
          0.031048385426402092,
          8.80492643773323e-06,
          0.0001388709933962673,
          0.001951800542883575,
          0.00704217329621315,
          0.002967327367514372,
          0.004493942484259605,
          0.009259354323148727,
          0.12730245292186737,
          0.0010033638682216406,
          0.3945097029209137,
          0.00027605833020061255
         ],
         "yaxis": "y"
        },
        {
         "marker": {
          "color": "red"
         },
         "name": "FCC",
         "showlegend": false,
         "type": "bar",
         "x": [
          "W",
          "Cs",
          "Ba",
          "Mn",
          "Fe",
          "Mo",
          "Na",
          "Li",
          "V",
          "Rb",
          "Cr",
          "Nb",
          "Ca",
          "Ta",
          "Eu"
         ],
         "xaxis": "x2",
         "y": [
          0.0029229868669062853,
          5.126399173605023e-06,
          0.00272679072804749,
          0.016477437689900398,
          0.07929009944200516,
          0.00033996268757618964,
          0.0015861327992752194,
          0.0025795376859605312,
          0.009062536992132664,
          1.9770550352404825e-05,
          0.002475371351465583,
          0.0015955924754962325,
          0.02376103214919567,
          0.07822340726852417,
          0.0009683126118034124
         ],
         "yaxis": "y2"
        },
        {
         "marker": {
          "color": "green"
         },
         "name": "BCC",
         "showlegend": false,
         "text": [
          null,
          null,
          null,
          null,
          null,
          null,
          null,
          null,
          null,
          null,
          null,
          null,
          null,
          null,
          "*"
         ],
         "textfont": {
          "size": 24
         },
         "textposition": "outside",
         "type": "bar",
         "x": [
          "W",
          "Cs",
          "Ba",
          "Mn",
          "Fe",
          "Mo",
          "Na",
          "Li",
          "V",
          "Rb",
          "Cr",
          "Nb",
          "Ca",
          "Ta",
          "Eu"
         ],
         "xaxis": "x2",
         "y": [
          0.8977001309394836,
          0.9999947547912598,
          0.9873611927032471,
          0.9834113717079163,
          0.6892061233520508,
          0.9857390522956848,
          0.9981815814971924,
          0.9949666857719421,
          0.9009742140769958,
          0.9999798536300659,
          0.9632077217102051,
          0.992939829826355,
          0.9757874011993408,
          0.7372777462005615,
          0.02508154697716236
         ],
         "yaxis": "y2"
        },
        {
         "marker": {
          "color": "red"
         },
         "name": "HCP",
         "showlegend": false,
         "type": "bar",
         "x": [
          "W",
          "Cs",
          "Ba",
          "Mn",
          "Fe",
          "Mo",
          "Na",
          "Li",
          "V",
          "Rb",
          "Cr",
          "Nb",
          "Ca",
          "Ta",
          "Eu"
         ],
         "xaxis": "x2",
         "y": [
          0.09937696158885956,
          6.114957784575381e-08,
          0.009912004694342613,
          0.00011129914491903037,
          0.23150381445884705,
          0.013920915313065052,
          0.0002322980435565114,
          0.002453790046274662,
          0.0899631530046463,
          3.6676394188361883e-07,
          0.034316882491111755,
          0.0054645477794110775,
          0.00045152875827625394,
          0.1844988912343979,
          0.9739500880241394
         ],
         "yaxis": "y2"
        },
        {
         "marker": {
          "color": "red"
         },
         "name": "FCC",
         "showlegend": false,
         "type": "bar",
         "x": [
          "Co",
          "Tm",
          "Y",
          "Re",
          "Ho",
          "Sc",
          "Gd",
          "Tb",
          "Hf",
          "Zn",
          "Lu",
          "Tl",
          "Zr",
          "Be",
          "Ru",
          "Ti",
          "Dy",
          "Cd",
          "Er",
          "Mg"
         ],
         "xaxis": "x3",
         "y": [
          0.07235666364431381,
          0.00020451330055948347,
          2.8201826353324577e-05,
          0.002290434204041958,
          1.1709423233696725e-05,
          4.5598782890010625e-05,
          2.0653333265840956e-08,
          7.985477878946767e-08,
          0.00337910745292902,
          0.009111081250011921,
          0.00010216011287411675,
          0.00832191202789545,
          3.0287170375231653e-05,
          0.0004916312755085528,
          7.9650133557152e-05,
          0.0003314570349175483,
          4.815326519747032e-06,
          0.006239159964025021,
          5.745826911152108e-06,
          0.20717883110046387
         ],
         "yaxis": "y3"
        },
        {
         "marker": {
          "color": "red"
         },
         "name": "BCC",
         "showlegend": false,
         "type": "bar",
         "x": [
          "Co",
          "Tm",
          "Y",
          "Re",
          "Ho",
          "Sc",
          "Gd",
          "Tb",
          "Hf",
          "Zn",
          "Lu",
          "Tl",
          "Zr",
          "Be",
          "Ru",
          "Ti",
          "Dy",
          "Cd",
          "Er",
          "Mg"
         ],
         "xaxis": "x3",
         "y": [
          0.15264226496219635,
          3.363418727531098e-05,
          0.003093966981396079,
          0.04596269875764847,
          4.307590643293224e-06,
          0.0056044128723442554,
          3.589072719023534e-07,
          2.5675987558315683e-07,
          0.002121927449479699,
          0.0002487807651050389,
          4.906737376586534e-05,
          0.0001431005512131378,
          0.019928818568587303,
          0.012444916181266308,
          0.045599646866321564,
          0.07664260268211365,
          6.675155418633949e-06,
          0.0003776038356591016,
          2.9147270197427133e-06,
          0.3595436215400696
         ],
         "yaxis": "y3"
        },
        {
         "marker": {
          "color": "green"
         },
         "name": "HCP",
         "showlegend": false,
         "text": [
          null,
          null,
          null,
          null,
          null,
          null,
          null,
          null,
          null,
          null,
          null,
          null,
          null,
          null,
          null,
          null,
          null,
          "*",
          "*",
          "*"
         ],
         "textfont": {
          "size": 24
         },
         "textposition": "inside",
         "type": "bar",
         "x": [
          "Co",
          "Tm",
          "Y",
          "Re",
          "Ho",
          "Sc",
          "Gd",
          "Tb",
          "Hf",
          "Zn",
          "Lu",
          "Tl",
          "Zr",
          "Be",
          "Ru",
          "Ti",
          "Dy",
          "Cd",
          "Er",
          "Mg"
         ],
         "xaxis": "x3",
         "y": [
          0.775001049041748,
          0.9997618794441223,
          0.9968777894973755,
          0.9517468214035034,
          0.9999840259552002,
          0.994350016117096,
          0.9999996423721313,
          0.9999996423721313,
          0.9944990277290344,
          0.9906401634216309,
          0.9998487234115601,
          0.991534948348999,
          0.9800409078598022,
          0.987063467502594,
          0.9543207287788391,
          0.923025906085968,
          0.9999885559082031,
          0.9933832287788391,
          0.9999912977218628,
          0.43327760696411133
         ],
         "yaxis": "y3"
        }
       ],
       "layout": {
        "bargap": 0.3,
        "barmode": "group",
        "height": 700,
        "template": {
         "data": {
          "bar": [
           {
            "error_x": {
             "color": "#2a3f5f"
            },
            "error_y": {
             "color": "#2a3f5f"
            },
            "marker": {
             "line": {
              "color": "#E5ECF6",
              "width": 0.5
             }
            },
            "type": "bar"
           }
          ],
          "barpolar": [
           {
            "marker": {
             "line": {
              "color": "#E5ECF6",
              "width": 0.5
             }
            },
            "type": "barpolar"
           }
          ],
          "carpet": [
           {
            "aaxis": {
             "endlinecolor": "#2a3f5f",
             "gridcolor": "white",
             "linecolor": "white",
             "minorgridcolor": "white",
             "startlinecolor": "#2a3f5f"
            },
            "baxis": {
             "endlinecolor": "#2a3f5f",
             "gridcolor": "white",
             "linecolor": "white",
             "minorgridcolor": "white",
             "startlinecolor": "#2a3f5f"
            },
            "type": "carpet"
           }
          ],
          "choropleth": [
           {
            "colorbar": {
             "outlinewidth": 0,
             "ticks": ""
            },
            "type": "choropleth"
           }
          ],
          "contour": [
           {
            "colorbar": {
             "outlinewidth": 0,
             "ticks": ""
            },
            "colorscale": [
             [
              0,
              "#0d0887"
             ],
             [
              0.1111111111111111,
              "#46039f"
             ],
             [
              0.2222222222222222,
              "#7201a8"
             ],
             [
              0.3333333333333333,
              "#9c179e"
             ],
             [
              0.4444444444444444,
              "#bd3786"
             ],
             [
              0.5555555555555556,
              "#d8576b"
             ],
             [
              0.6666666666666666,
              "#ed7953"
             ],
             [
              0.7777777777777778,
              "#fb9f3a"
             ],
             [
              0.8888888888888888,
              "#fdca26"
             ],
             [
              1,
              "#f0f921"
             ]
            ],
            "type": "contour"
           }
          ],
          "contourcarpet": [
           {
            "colorbar": {
             "outlinewidth": 0,
             "ticks": ""
            },
            "type": "contourcarpet"
           }
          ],
          "heatmap": [
           {
            "colorbar": {
             "outlinewidth": 0,
             "ticks": ""
            },
            "colorscale": [
             [
              0,
              "#0d0887"
             ],
             [
              0.1111111111111111,
              "#46039f"
             ],
             [
              0.2222222222222222,
              "#7201a8"
             ],
             [
              0.3333333333333333,
              "#9c179e"
             ],
             [
              0.4444444444444444,
              "#bd3786"
             ],
             [
              0.5555555555555556,
              "#d8576b"
             ],
             [
              0.6666666666666666,
              "#ed7953"
             ],
             [
              0.7777777777777778,
              "#fb9f3a"
             ],
             [
              0.8888888888888888,
              "#fdca26"
             ],
             [
              1,
              "#f0f921"
             ]
            ],
            "type": "heatmap"
           }
          ],
          "heatmapgl": [
           {
            "colorbar": {
             "outlinewidth": 0,
             "ticks": ""
            },
            "colorscale": [
             [
              0,
              "#0d0887"
             ],
             [
              0.1111111111111111,
              "#46039f"
             ],
             [
              0.2222222222222222,
              "#7201a8"
             ],
             [
              0.3333333333333333,
              "#9c179e"
             ],
             [
              0.4444444444444444,
              "#bd3786"
             ],
             [
              0.5555555555555556,
              "#d8576b"
             ],
             [
              0.6666666666666666,
              "#ed7953"
             ],
             [
              0.7777777777777778,
              "#fb9f3a"
             ],
             [
              0.8888888888888888,
              "#fdca26"
             ],
             [
              1,
              "#f0f921"
             ]
            ],
            "type": "heatmapgl"
           }
          ],
          "histogram": [
           {
            "marker": {
             "colorbar": {
              "outlinewidth": 0,
              "ticks": ""
             }
            },
            "type": "histogram"
           }
          ],
          "histogram2d": [
           {
            "colorbar": {
             "outlinewidth": 0,
             "ticks": ""
            },
            "colorscale": [
             [
              0,
              "#0d0887"
             ],
             [
              0.1111111111111111,
              "#46039f"
             ],
             [
              0.2222222222222222,
              "#7201a8"
             ],
             [
              0.3333333333333333,
              "#9c179e"
             ],
             [
              0.4444444444444444,
              "#bd3786"
             ],
             [
              0.5555555555555556,
              "#d8576b"
             ],
             [
              0.6666666666666666,
              "#ed7953"
             ],
             [
              0.7777777777777778,
              "#fb9f3a"
             ],
             [
              0.8888888888888888,
              "#fdca26"
             ],
             [
              1,
              "#f0f921"
             ]
            ],
            "type": "histogram2d"
           }
          ],
          "histogram2dcontour": [
           {
            "colorbar": {
             "outlinewidth": 0,
             "ticks": ""
            },
            "colorscale": [
             [
              0,
              "#0d0887"
             ],
             [
              0.1111111111111111,
              "#46039f"
             ],
             [
              0.2222222222222222,
              "#7201a8"
             ],
             [
              0.3333333333333333,
              "#9c179e"
             ],
             [
              0.4444444444444444,
              "#bd3786"
             ],
             [
              0.5555555555555556,
              "#d8576b"
             ],
             [
              0.6666666666666666,
              "#ed7953"
             ],
             [
              0.7777777777777778,
              "#fb9f3a"
             ],
             [
              0.8888888888888888,
              "#fdca26"
             ],
             [
              1,
              "#f0f921"
             ]
            ],
            "type": "histogram2dcontour"
           }
          ],
          "mesh3d": [
           {
            "colorbar": {
             "outlinewidth": 0,
             "ticks": ""
            },
            "type": "mesh3d"
           }
          ],
          "parcoords": [
           {
            "line": {
             "colorbar": {
              "outlinewidth": 0,
              "ticks": ""
             }
            },
            "type": "parcoords"
           }
          ],
          "scatter": [
           {
            "marker": {
             "colorbar": {
              "outlinewidth": 0,
              "ticks": ""
             }
            },
            "type": "scatter"
           }
          ],
          "scatter3d": [
           {
            "line": {
             "colorbar": {
              "outlinewidth": 0,
              "ticks": ""
             }
            },
            "marker": {
             "colorbar": {
              "outlinewidth": 0,
              "ticks": ""
             }
            },
            "type": "scatter3d"
           }
          ],
          "scattercarpet": [
           {
            "marker": {
             "colorbar": {
              "outlinewidth": 0,
              "ticks": ""
             }
            },
            "type": "scattercarpet"
           }
          ],
          "scattergeo": [
           {
            "marker": {
             "colorbar": {
              "outlinewidth": 0,
              "ticks": ""
             }
            },
            "type": "scattergeo"
           }
          ],
          "scattergl": [
           {
            "marker": {
             "colorbar": {
              "outlinewidth": 0,
              "ticks": ""
             }
            },
            "type": "scattergl"
           }
          ],
          "scattermapbox": [
           {
            "marker": {
             "colorbar": {
              "outlinewidth": 0,
              "ticks": ""
             }
            },
            "type": "scattermapbox"
           }
          ],
          "scatterpolar": [
           {
            "marker": {
             "colorbar": {
              "outlinewidth": 0,
              "ticks": ""
             }
            },
            "type": "scatterpolar"
           }
          ],
          "scatterpolargl": [
           {
            "marker": {
             "colorbar": {
              "outlinewidth": 0,
              "ticks": ""
             }
            },
            "type": "scatterpolargl"
           }
          ],
          "scatterternary": [
           {
            "marker": {
             "colorbar": {
              "outlinewidth": 0,
              "ticks": ""
             }
            },
            "type": "scatterternary"
           }
          ],
          "surface": [
           {
            "colorbar": {
             "outlinewidth": 0,
             "ticks": ""
            },
            "colorscale": [
             [
              0,
              "#0d0887"
             ],
             [
              0.1111111111111111,
              "#46039f"
             ],
             [
              0.2222222222222222,
              "#7201a8"
             ],
             [
              0.3333333333333333,
              "#9c179e"
             ],
             [
              0.4444444444444444,
              "#bd3786"
             ],
             [
              0.5555555555555556,
              "#d8576b"
             ],
             [
              0.6666666666666666,
              "#ed7953"
             ],
             [
              0.7777777777777778,
              "#fb9f3a"
             ],
             [
              0.8888888888888888,
              "#fdca26"
             ],
             [
              1,
              "#f0f921"
             ]
            ],
            "type": "surface"
           }
          ],
          "table": [
           {
            "cells": {
             "fill": {
              "color": "#EBF0F8"
             },
             "line": {
              "color": "white"
             }
            },
            "header": {
             "fill": {
              "color": "#C8D4E3"
             },
             "line": {
              "color": "white"
             }
            },
            "type": "table"
           }
          ]
         },
         "layout": {
          "annotationdefaults": {
           "arrowcolor": "#2a3f5f",
           "arrowhead": 0,
           "arrowwidth": 1
          },
          "colorscale": {
           "diverging": [
            [
             0,
             "#8e0152"
            ],
            [
             0.1,
             "#c51b7d"
            ],
            [
             0.2,
             "#de77ae"
            ],
            [
             0.3,
             "#f1b6da"
            ],
            [
             0.4,
             "#fde0ef"
            ],
            [
             0.5,
             "#f7f7f7"
            ],
            [
             0.6,
             "#e6f5d0"
            ],
            [
             0.7,
             "#b8e186"
            ],
            [
             0.8,
             "#7fbc41"
            ],
            [
             0.9,
             "#4d9221"
            ],
            [
             1,
             "#276419"
            ]
           ],
           "sequential": [
            [
             0,
             "#0d0887"
            ],
            [
             0.1111111111111111,
             "#46039f"
            ],
            [
             0.2222222222222222,
             "#7201a8"
            ],
            [
             0.3333333333333333,
             "#9c179e"
            ],
            [
             0.4444444444444444,
             "#bd3786"
            ],
            [
             0.5555555555555556,
             "#d8576b"
            ],
            [
             0.6666666666666666,
             "#ed7953"
            ],
            [
             0.7777777777777778,
             "#fb9f3a"
            ],
            [
             0.8888888888888888,
             "#fdca26"
            ],
            [
             1,
             "#f0f921"
            ]
           ],
           "sequentialminus": [
            [
             0,
             "#0d0887"
            ],
            [
             0.1111111111111111,
             "#46039f"
            ],
            [
             0.2222222222222222,
             "#7201a8"
            ],
            [
             0.3333333333333333,
             "#9c179e"
            ],
            [
             0.4444444444444444,
             "#bd3786"
            ],
            [
             0.5555555555555556,
             "#d8576b"
            ],
            [
             0.6666666666666666,
             "#ed7953"
            ],
            [
             0.7777777777777778,
             "#fb9f3a"
            ],
            [
             0.8888888888888888,
             "#fdca26"
            ],
            [
             1,
             "#f0f921"
            ]
           ]
          },
          "colorway": [
           "#636efa",
           "#EF553B",
           "#00cc96",
           "#ab63fa",
           "#FFA15A",
           "#19d3f3",
           "#FF6692",
           "#B6E880",
           "#FF97FF",
           "#FECB52"
          ],
          "font": {
           "color": "#2a3f5f"
          },
          "geo": {
           "bgcolor": "white",
           "lakecolor": "white",
           "landcolor": "#E5ECF6",
           "showlakes": true,
           "showland": true,
           "subunitcolor": "white"
          },
          "hoverlabel": {
           "align": "left"
          },
          "hovermode": "closest",
          "mapbox": {
           "style": "light"
          },
          "paper_bgcolor": "white",
          "plot_bgcolor": "#E5ECF6",
          "polar": {
           "angularaxis": {
            "gridcolor": "white",
            "linecolor": "white",
            "ticks": ""
           },
           "bgcolor": "#E5ECF6",
           "radialaxis": {
            "gridcolor": "white",
            "linecolor": "white",
            "ticks": ""
           }
          },
          "scene": {
           "xaxis": {
            "backgroundcolor": "#E5ECF6",
            "gridcolor": "white",
            "gridwidth": 2,
            "linecolor": "white",
            "showbackground": true,
            "ticks": "",
            "zerolinecolor": "white"
           },
           "yaxis": {
            "backgroundcolor": "#E5ECF6",
            "gridcolor": "white",
            "gridwidth": 2,
            "linecolor": "white",
            "showbackground": true,
            "ticks": "",
            "zerolinecolor": "white"
           },
           "zaxis": {
            "backgroundcolor": "#E5ECF6",
            "gridcolor": "white",
            "gridwidth": 2,
            "linecolor": "white",
            "showbackground": true,
            "ticks": "",
            "zerolinecolor": "white"
           }
          },
          "shapedefaults": {
           "line": {
            "color": "#2a3f5f"
           }
          },
          "ternary": {
           "aaxis": {
            "gridcolor": "white",
            "linecolor": "white",
            "ticks": ""
           },
           "baxis": {
            "gridcolor": "white",
            "linecolor": "white",
            "ticks": ""
           },
           "bgcolor": "#E5ECF6",
           "caxis": {
            "gridcolor": "white",
            "linecolor": "white",
            "ticks": ""
           }
          },
          "title": {
           "x": 0.05
          },
          "xaxis": {
           "automargin": true,
           "gridcolor": "white",
           "linecolor": "white",
           "ticks": "",
           "zerolinecolor": "white",
           "zerolinewidth": 2
          },
          "yaxis": {
           "automargin": true,
           "gridcolor": "white",
           "linecolor": "white",
           "ticks": "",
           "zerolinecolor": "white",
           "zerolinewidth": 2
          }
         }
        },
        "width": 1200,
        "xaxis": {
         "anchor": "y",
         "domain": [
          0,
          1
         ],
         "showgrid": true,
         "tickfont": {
          "size": 18
         },
         "title": {
          "font": {
           "size": 18
          },
          "text": "FCC Elements"
         }
        },
        "xaxis2": {
         "anchor": "y2",
         "domain": [
          0,
          1
         ],
         "showgrid": true,
         "tickfont": {
          "size": 18
         },
         "title": {
          "font": {
           "size": 18
          },
          "text": "BCC Elements"
         }
        },
        "xaxis3": {
         "anchor": "y3",
         "domain": [
          0,
          1
         ],
         "showgrid": true,
         "tickfont": {
          "size": 18
         },
         "title": {
          "font": {
           "size": 18
          },
          "text": "HCP Elements"
         }
        },
        "yaxis": {
         "anchor": "x",
         "domain": [
          0.8,
          1
         ],
         "range": [
          0,
          1.2
         ],
         "showgrid": true,
         "tickfont": {
          "size": 18
         },
         "title": {
          "font": {
           "size": 18
          },
          "text": "Probability"
         }
        },
        "yaxis2": {
         "anchor": "x2",
         "domain": [
          0.4,
          0.6
         ],
         "range": [
          0,
          1.2
         ],
         "showgrid": true,
         "tickfont": {
          "size": 18
         },
         "title": {
          "font": {
           "size": 18
          },
          "text": "Probability"
         }
        },
        "yaxis3": {
         "anchor": "x3",
         "domain": [
          0,
          0.19999999999999998
         ],
         "range": [
          0,
          1.2
         ],
         "showgrid": true,
         "tickfont": {
          "size": 18
         },
         "title": {
          "font": {
           "size": 18
          },
          "text": "Probability"
         }
        }
       }
      },
      "text/html": [
       "<div>\n",
       "        \n",
       "        \n",
       "            <div id=\"debb9432-428b-4001-8ed5-24e20134a732\" class=\"plotly-graph-div\" style=\"height:700px; width:1200px;\"></div>\n",
       "            <script type=\"text/javascript\">\n",
       "                require([\"plotly\"], function(Plotly) {\n",
       "                    window.PLOTLYENV=window.PLOTLYENV || {};\n",
       "                    \n",
       "                if (document.getElementById(\"debb9432-428b-4001-8ed5-24e20134a732\")) {\n",
       "                    Plotly.newPlot(\n",
       "                        'debb9432-428b-4001-8ed5-24e20134a732',\n",
       "                        [{\"marker\": {\"color\": \"green\"}, \"name\": \"FCC\", \"showlegend\": false, \"text\": [null, null, null, null, null, null, null, null, null, \"*\", \"*\", \"*\"], \"textfont\": {\"size\": 24}, \"textposition\": \"inside\", \"type\": \"bar\", \"x\": [\"Ni\", \"Au\", \"Rh\", \"Yb\", \"Th\", \"Cu\", \"Ag\", \"Al\", \"Pb\", \"Pd\", \"Ir\", \"Pt\"], \"xaxis\": \"x\", \"y\": [0.8437795042991638, 0.9999909400939941, 0.9946315288543701, 0.9889834523200989, 0.9924187660217285, 0.9933251738548279, 0.9904525279998779, 0.9732524752616882, 0.8721968531608582, 0.9980601668357849, 0.5894686579704285, 0.9997227787971497], \"yaxis\": \"y\"}, {\"marker\": {\"color\": \"red\"}, \"name\": \"BCC\", \"showlegend\": false, \"type\": \"bar\", \"x\": [\"Ni\", \"Au\", \"Rh\", \"Yb\", \"Th\", \"Cu\", \"Ag\", \"Al\", \"Pb\", \"Pd\", \"Ir\", \"Pt\"], \"xaxis\": \"x\", \"y\": [0.12517204880714417, 1.7886083014673204e-07, 0.0052295709028840065, 0.009064731188118458, 0.0005390705773606896, 0.003707525320351124, 0.00505357701331377, 0.017488203942775726, 0.0005006329156458378, 0.0009365321020595729, 0.01602168381214142, 1.2009113561362028e-06], \"yaxis\": \"y\"}, {\"marker\": {\"color\": \"red\"}, \"name\": \"HCP\", \"showlegend\": false, \"type\": \"bar\", \"x\": [\"Ni\", \"Au\", \"Rh\", \"Yb\", \"Th\", \"Cu\", \"Ag\", \"Al\", \"Pb\", \"Pd\", \"Ir\", \"Pt\"], \"xaxis\": \"x\", \"y\": [0.031048385426402092, 8.80492643773323e-06, 0.0001388709933962673, 0.001951800542883575, 0.00704217329621315, 0.002967327367514372, 0.004493942484259605, 0.009259354323148727, 0.12730245292186737, 0.0010033638682216406, 0.3945097029209137, 0.00027605833020061255], \"yaxis\": \"y\"}, {\"marker\": {\"color\": \"red\"}, \"name\": \"FCC\", \"showlegend\": false, \"type\": \"bar\", \"x\": [\"W\", \"Cs\", \"Ba\", \"Mn\", \"Fe\", \"Mo\", \"Na\", \"Li\", \"V\", \"Rb\", \"Cr\", \"Nb\", \"Ca\", \"Ta\", \"Eu\"], \"xaxis\": \"x2\", \"y\": [0.0029229868669062853, 5.126399173605023e-06, 0.00272679072804749, 0.016477437689900398, 0.07929009944200516, 0.00033996268757618964, 0.0015861327992752194, 0.0025795376859605312, 0.009062536992132664, 1.9770550352404825e-05, 0.002475371351465583, 0.0015955924754962325, 0.02376103214919567, 0.07822340726852417, 0.0009683126118034124], \"yaxis\": \"y2\"}, {\"marker\": {\"color\": \"green\"}, \"name\": \"BCC\", \"showlegend\": false, \"text\": [null, null, null, null, null, null, null, null, null, null, null, null, null, null, \"*\"], \"textfont\": {\"size\": 24}, \"textposition\": \"outside\", \"type\": \"bar\", \"x\": [\"W\", \"Cs\", \"Ba\", \"Mn\", \"Fe\", \"Mo\", \"Na\", \"Li\", \"V\", \"Rb\", \"Cr\", \"Nb\", \"Ca\", \"Ta\", \"Eu\"], \"xaxis\": \"x2\", \"y\": [0.8977001309394836, 0.9999947547912598, 0.9873611927032471, 0.9834113717079163, 0.6892061233520508, 0.9857390522956848, 0.9981815814971924, 0.9949666857719421, 0.9009742140769958, 0.9999798536300659, 0.9632077217102051, 0.992939829826355, 0.9757874011993408, 0.7372777462005615, 0.02508154697716236], \"yaxis\": \"y2\"}, {\"marker\": {\"color\": \"red\"}, \"name\": \"HCP\", \"showlegend\": false, \"type\": \"bar\", \"x\": [\"W\", \"Cs\", \"Ba\", \"Mn\", \"Fe\", \"Mo\", \"Na\", \"Li\", \"V\", \"Rb\", \"Cr\", \"Nb\", \"Ca\", \"Ta\", \"Eu\"], \"xaxis\": \"x2\", \"y\": [0.09937696158885956, 6.114957784575381e-08, 0.009912004694342613, 0.00011129914491903037, 0.23150381445884705, 0.013920915313065052, 0.0002322980435565114, 0.002453790046274662, 0.0899631530046463, 3.6676394188361883e-07, 0.034316882491111755, 0.0054645477794110775, 0.00045152875827625394, 0.1844988912343979, 0.9739500880241394], \"yaxis\": \"y2\"}, {\"marker\": {\"color\": \"red\"}, \"name\": \"FCC\", \"showlegend\": false, \"type\": \"bar\", \"x\": [\"Co\", \"Tm\", \"Y\", \"Re\", \"Ho\", \"Sc\", \"Gd\", \"Tb\", \"Hf\", \"Zn\", \"Lu\", \"Tl\", \"Zr\", \"Be\", \"Ru\", \"Ti\", \"Dy\", \"Cd\", \"Er\", \"Mg\"], \"xaxis\": \"x3\", \"y\": [0.07235666364431381, 0.00020451330055948347, 2.8201826353324577e-05, 0.002290434204041958, 1.1709423233696725e-05, 4.5598782890010625e-05, 2.0653333265840956e-08, 7.985477878946767e-08, 0.00337910745292902, 0.009111081250011921, 0.00010216011287411675, 0.00832191202789545, 3.0287170375231653e-05, 0.0004916312755085528, 7.9650133557152e-05, 0.0003314570349175483, 4.815326519747032e-06, 0.006239159964025021, 5.745826911152108e-06, 0.20717883110046387], \"yaxis\": \"y3\"}, {\"marker\": {\"color\": \"red\"}, \"name\": \"BCC\", \"showlegend\": false, \"type\": \"bar\", \"x\": [\"Co\", \"Tm\", \"Y\", \"Re\", \"Ho\", \"Sc\", \"Gd\", \"Tb\", \"Hf\", \"Zn\", \"Lu\", \"Tl\", \"Zr\", \"Be\", \"Ru\", \"Ti\", \"Dy\", \"Cd\", \"Er\", \"Mg\"], \"xaxis\": \"x3\", \"y\": [0.15264226496219635, 3.363418727531098e-05, 0.003093966981396079, 0.04596269875764847, 4.307590643293224e-06, 0.0056044128723442554, 3.589072719023534e-07, 2.5675987558315683e-07, 0.002121927449479699, 0.0002487807651050389, 4.906737376586534e-05, 0.0001431005512131378, 0.019928818568587303, 0.012444916181266308, 0.045599646866321564, 0.07664260268211365, 6.675155418633949e-06, 0.0003776038356591016, 2.9147270197427133e-06, 0.3595436215400696], \"yaxis\": \"y3\"}, {\"marker\": {\"color\": \"green\"}, \"name\": \"HCP\", \"showlegend\": false, \"text\": [null, null, null, null, null, null, null, null, null, null, null, null, null, null, null, null, null, \"*\", \"*\", \"*\"], \"textfont\": {\"size\": 24}, \"textposition\": \"inside\", \"type\": \"bar\", \"x\": [\"Co\", \"Tm\", \"Y\", \"Re\", \"Ho\", \"Sc\", \"Gd\", \"Tb\", \"Hf\", \"Zn\", \"Lu\", \"Tl\", \"Zr\", \"Be\", \"Ru\", \"Ti\", \"Dy\", \"Cd\", \"Er\", \"Mg\"], \"xaxis\": \"x3\", \"y\": [0.775001049041748, 0.9997618794441223, 0.9968777894973755, 0.9517468214035034, 0.9999840259552002, 0.994350016117096, 0.9999996423721313, 0.9999996423721313, 0.9944990277290344, 0.9906401634216309, 0.9998487234115601, 0.991534948348999, 0.9800409078598022, 0.987063467502594, 0.9543207287788391, 0.923025906085968, 0.9999885559082031, 0.9933832287788391, 0.9999912977218628, 0.43327760696411133], \"yaxis\": \"y3\"}],\n",
       "                        {\"bargap\": 0.3, \"barmode\": \"group\", \"height\": 700, \"template\": {\"data\": {\"bar\": [{\"error_x\": {\"color\": \"#2a3f5f\"}, \"error_y\": {\"color\": \"#2a3f5f\"}, \"marker\": {\"line\": {\"color\": \"#E5ECF6\", \"width\": 0.5}}, \"type\": \"bar\"}], \"barpolar\": [{\"marker\": {\"line\": {\"color\": \"#E5ECF6\", \"width\": 0.5}}, \"type\": \"barpolar\"}], \"carpet\": [{\"aaxis\": {\"endlinecolor\": \"#2a3f5f\", \"gridcolor\": \"white\", \"linecolor\": \"white\", \"minorgridcolor\": \"white\", \"startlinecolor\": \"#2a3f5f\"}, \"baxis\": {\"endlinecolor\": \"#2a3f5f\", \"gridcolor\": \"white\", \"linecolor\": \"white\", \"minorgridcolor\": \"white\", \"startlinecolor\": \"#2a3f5f\"}, \"type\": \"carpet\"}], \"choropleth\": [{\"colorbar\": {\"outlinewidth\": 0, \"ticks\": \"\"}, \"type\": \"choropleth\"}], \"contour\": [{\"colorbar\": {\"outlinewidth\": 0, \"ticks\": \"\"}, \"colorscale\": [[0.0, \"#0d0887\"], [0.1111111111111111, \"#46039f\"], [0.2222222222222222, \"#7201a8\"], [0.3333333333333333, \"#9c179e\"], [0.4444444444444444, \"#bd3786\"], [0.5555555555555556, \"#d8576b\"], [0.6666666666666666, \"#ed7953\"], [0.7777777777777778, \"#fb9f3a\"], [0.8888888888888888, \"#fdca26\"], [1.0, \"#f0f921\"]], \"type\": \"contour\"}], \"contourcarpet\": [{\"colorbar\": {\"outlinewidth\": 0, \"ticks\": \"\"}, \"type\": \"contourcarpet\"}], \"heatmap\": [{\"colorbar\": {\"outlinewidth\": 0, \"ticks\": \"\"}, \"colorscale\": [[0.0, \"#0d0887\"], [0.1111111111111111, \"#46039f\"], [0.2222222222222222, \"#7201a8\"], [0.3333333333333333, \"#9c179e\"], [0.4444444444444444, \"#bd3786\"], [0.5555555555555556, \"#d8576b\"], [0.6666666666666666, \"#ed7953\"], [0.7777777777777778, \"#fb9f3a\"], [0.8888888888888888, \"#fdca26\"], [1.0, \"#f0f921\"]], \"type\": \"heatmap\"}], \"heatmapgl\": [{\"colorbar\": {\"outlinewidth\": 0, \"ticks\": \"\"}, \"colorscale\": [[0.0, \"#0d0887\"], [0.1111111111111111, \"#46039f\"], [0.2222222222222222, \"#7201a8\"], [0.3333333333333333, \"#9c179e\"], [0.4444444444444444, \"#bd3786\"], [0.5555555555555556, \"#d8576b\"], [0.6666666666666666, \"#ed7953\"], [0.7777777777777778, \"#fb9f3a\"], [0.8888888888888888, \"#fdca26\"], [1.0, \"#f0f921\"]], \"type\": \"heatmapgl\"}], \"histogram\": [{\"marker\": {\"colorbar\": {\"outlinewidth\": 0, \"ticks\": \"\"}}, \"type\": \"histogram\"}], \"histogram2d\": [{\"colorbar\": {\"outlinewidth\": 0, \"ticks\": \"\"}, \"colorscale\": [[0.0, \"#0d0887\"], [0.1111111111111111, \"#46039f\"], [0.2222222222222222, \"#7201a8\"], [0.3333333333333333, \"#9c179e\"], [0.4444444444444444, \"#bd3786\"], [0.5555555555555556, \"#d8576b\"], [0.6666666666666666, \"#ed7953\"], [0.7777777777777778, \"#fb9f3a\"], [0.8888888888888888, \"#fdca26\"], [1.0, \"#f0f921\"]], \"type\": \"histogram2d\"}], \"histogram2dcontour\": [{\"colorbar\": {\"outlinewidth\": 0, \"ticks\": \"\"}, \"colorscale\": [[0.0, \"#0d0887\"], [0.1111111111111111, \"#46039f\"], [0.2222222222222222, \"#7201a8\"], [0.3333333333333333, \"#9c179e\"], [0.4444444444444444, \"#bd3786\"], [0.5555555555555556, \"#d8576b\"], [0.6666666666666666, \"#ed7953\"], [0.7777777777777778, \"#fb9f3a\"], [0.8888888888888888, \"#fdca26\"], [1.0, \"#f0f921\"]], \"type\": \"histogram2dcontour\"}], \"mesh3d\": [{\"colorbar\": {\"outlinewidth\": 0, \"ticks\": \"\"}, \"type\": \"mesh3d\"}], \"parcoords\": [{\"line\": {\"colorbar\": {\"outlinewidth\": 0, \"ticks\": \"\"}}, \"type\": \"parcoords\"}], \"scatter\": [{\"marker\": {\"colorbar\": {\"outlinewidth\": 0, \"ticks\": \"\"}}, \"type\": \"scatter\"}], \"scatter3d\": [{\"line\": {\"colorbar\": {\"outlinewidth\": 0, \"ticks\": \"\"}}, \"marker\": {\"colorbar\": {\"outlinewidth\": 0, \"ticks\": \"\"}}, \"type\": \"scatter3d\"}], \"scattercarpet\": [{\"marker\": {\"colorbar\": {\"outlinewidth\": 0, \"ticks\": \"\"}}, \"type\": \"scattercarpet\"}], \"scattergeo\": [{\"marker\": {\"colorbar\": {\"outlinewidth\": 0, \"ticks\": \"\"}}, \"type\": \"scattergeo\"}], \"scattergl\": [{\"marker\": {\"colorbar\": {\"outlinewidth\": 0, \"ticks\": \"\"}}, \"type\": \"scattergl\"}], \"scattermapbox\": [{\"marker\": {\"colorbar\": {\"outlinewidth\": 0, \"ticks\": \"\"}}, \"type\": \"scattermapbox\"}], \"scatterpolar\": [{\"marker\": {\"colorbar\": {\"outlinewidth\": 0, \"ticks\": \"\"}}, \"type\": \"scatterpolar\"}], \"scatterpolargl\": [{\"marker\": {\"colorbar\": {\"outlinewidth\": 0, \"ticks\": \"\"}}, \"type\": \"scatterpolargl\"}], \"scatterternary\": [{\"marker\": {\"colorbar\": {\"outlinewidth\": 0, \"ticks\": \"\"}}, \"type\": \"scatterternary\"}], \"surface\": [{\"colorbar\": {\"outlinewidth\": 0, \"ticks\": \"\"}, \"colorscale\": [[0.0, \"#0d0887\"], [0.1111111111111111, \"#46039f\"], [0.2222222222222222, \"#7201a8\"], [0.3333333333333333, \"#9c179e\"], [0.4444444444444444, \"#bd3786\"], [0.5555555555555556, \"#d8576b\"], [0.6666666666666666, \"#ed7953\"], [0.7777777777777778, \"#fb9f3a\"], [0.8888888888888888, \"#fdca26\"], [1.0, \"#f0f921\"]], \"type\": \"surface\"}], \"table\": [{\"cells\": {\"fill\": {\"color\": \"#EBF0F8\"}, \"line\": {\"color\": \"white\"}}, \"header\": {\"fill\": {\"color\": \"#C8D4E3\"}, \"line\": {\"color\": \"white\"}}, \"type\": \"table\"}]}, \"layout\": {\"annotationdefaults\": {\"arrowcolor\": \"#2a3f5f\", \"arrowhead\": 0, \"arrowwidth\": 1}, \"colorscale\": {\"diverging\": [[0, \"#8e0152\"], [0.1, \"#c51b7d\"], [0.2, \"#de77ae\"], [0.3, \"#f1b6da\"], [0.4, \"#fde0ef\"], [0.5, \"#f7f7f7\"], [0.6, \"#e6f5d0\"], [0.7, \"#b8e186\"], [0.8, \"#7fbc41\"], [0.9, \"#4d9221\"], [1, \"#276419\"]], \"sequential\": [[0.0, \"#0d0887\"], [0.1111111111111111, \"#46039f\"], [0.2222222222222222, \"#7201a8\"], [0.3333333333333333, \"#9c179e\"], [0.4444444444444444, \"#bd3786\"], [0.5555555555555556, \"#d8576b\"], [0.6666666666666666, \"#ed7953\"], [0.7777777777777778, \"#fb9f3a\"], [0.8888888888888888, \"#fdca26\"], [1.0, \"#f0f921\"]], \"sequentialminus\": [[0.0, \"#0d0887\"], [0.1111111111111111, \"#46039f\"], [0.2222222222222222, \"#7201a8\"], [0.3333333333333333, \"#9c179e\"], [0.4444444444444444, \"#bd3786\"], [0.5555555555555556, \"#d8576b\"], [0.6666666666666666, \"#ed7953\"], [0.7777777777777778, \"#fb9f3a\"], [0.8888888888888888, \"#fdca26\"], [1.0, \"#f0f921\"]]}, \"colorway\": [\"#636efa\", \"#EF553B\", \"#00cc96\", \"#ab63fa\", \"#FFA15A\", \"#19d3f3\", \"#FF6692\", \"#B6E880\", \"#FF97FF\", \"#FECB52\"], \"font\": {\"color\": \"#2a3f5f\"}, \"geo\": {\"bgcolor\": \"white\", \"lakecolor\": \"white\", \"landcolor\": \"#E5ECF6\", \"showlakes\": true, \"showland\": true, \"subunitcolor\": \"white\"}, \"hoverlabel\": {\"align\": \"left\"}, \"hovermode\": \"closest\", \"mapbox\": {\"style\": \"light\"}, \"paper_bgcolor\": \"white\", \"plot_bgcolor\": \"#E5ECF6\", \"polar\": {\"angularaxis\": {\"gridcolor\": \"white\", \"linecolor\": \"white\", \"ticks\": \"\"}, \"bgcolor\": \"#E5ECF6\", \"radialaxis\": {\"gridcolor\": \"white\", \"linecolor\": \"white\", \"ticks\": \"\"}}, \"scene\": {\"xaxis\": {\"backgroundcolor\": \"#E5ECF6\", \"gridcolor\": \"white\", \"gridwidth\": 2, \"linecolor\": \"white\", \"showbackground\": true, \"ticks\": \"\", \"zerolinecolor\": \"white\"}, \"yaxis\": {\"backgroundcolor\": \"#E5ECF6\", \"gridcolor\": \"white\", \"gridwidth\": 2, \"linecolor\": \"white\", \"showbackground\": true, \"ticks\": \"\", \"zerolinecolor\": \"white\"}, \"zaxis\": {\"backgroundcolor\": \"#E5ECF6\", \"gridcolor\": \"white\", \"gridwidth\": 2, \"linecolor\": \"white\", \"showbackground\": true, \"ticks\": \"\", \"zerolinecolor\": \"white\"}}, \"shapedefaults\": {\"line\": {\"color\": \"#2a3f5f\"}}, \"ternary\": {\"aaxis\": {\"gridcolor\": \"white\", \"linecolor\": \"white\", \"ticks\": \"\"}, \"baxis\": {\"gridcolor\": \"white\", \"linecolor\": \"white\", \"ticks\": \"\"}, \"bgcolor\": \"#E5ECF6\", \"caxis\": {\"gridcolor\": \"white\", \"linecolor\": \"white\", \"ticks\": \"\"}}, \"title\": {\"x\": 0.05}, \"xaxis\": {\"automargin\": true, \"gridcolor\": \"white\", \"linecolor\": \"white\", \"ticks\": \"\", \"zerolinecolor\": \"white\", \"zerolinewidth\": 2}, \"yaxis\": {\"automargin\": true, \"gridcolor\": \"white\", \"linecolor\": \"white\", \"ticks\": \"\", \"zerolinecolor\": \"white\", \"zerolinewidth\": 2}}}, \"width\": 1200, \"xaxis\": {\"anchor\": \"y\", \"domain\": [0.0, 1.0], \"showgrid\": true, \"tickfont\": {\"size\": 18}, \"title\": {\"font\": {\"size\": 18}, \"text\": \"FCC Elements\"}}, \"xaxis2\": {\"anchor\": \"y2\", \"domain\": [0.0, 1.0], \"showgrid\": true, \"tickfont\": {\"size\": 18}, \"title\": {\"font\": {\"size\": 18}, \"text\": \"BCC Elements\"}}, \"xaxis3\": {\"anchor\": \"y3\", \"domain\": [0.0, 1.0], \"showgrid\": true, \"tickfont\": {\"size\": 18}, \"title\": {\"font\": {\"size\": 18}, \"text\": \"HCP Elements\"}}, \"yaxis\": {\"anchor\": \"x\", \"domain\": [0.8, 1.0], \"range\": [0, 1.2], \"showgrid\": true, \"tickfont\": {\"size\": 18}, \"title\": {\"font\": {\"size\": 18}, \"text\": \"Probability\"}}, \"yaxis2\": {\"anchor\": \"x2\", \"domain\": [0.4, 0.6], \"range\": [0, 1.2], \"showgrid\": true, \"tickfont\": {\"size\": 18}, \"title\": {\"font\": {\"size\": 18}, \"text\": \"Probability\"}}, \"yaxis3\": {\"anchor\": \"x3\", \"domain\": [0.0, 0.19999999999999998], \"range\": [0, 1.2], \"showgrid\": true, \"tickfont\": {\"size\": 18}, \"title\": {\"font\": {\"size\": 18}, \"text\": \"Probability\"}}},\n",
       "                        {\"responsive\": true}\n",
       "                    ).then(function(){\n",
       "                            \n",
       "var gd = document.getElementById('debb9432-428b-4001-8ed5-24e20134a732');\n",
       "var x = new MutationObserver(function (mutations, observer) {{\n",
       "        var display = window.getComputedStyle(gd).display;\n",
       "        if (!display || display === 'none') {{\n",
       "            console.log([gd, 'removed!']);\n",
       "            Plotly.purge(gd);\n",
       "            observer.disconnect();\n",
       "        }}\n",
       "}});\n",
       "\n",
       "// Listen for the removal of the full notebook cells\n",
       "var notebookContainer = gd.closest('#notebook-container');\n",
       "if (notebookContainer) {{\n",
       "    x.observe(notebookContainer, {childList: true});\n",
       "}}\n",
       "\n",
       "// Listen for the clearing of the current output cell\n",
       "var outputEl = gd.closest('.output');\n",
       "if (outputEl) {{\n",
       "    x.observe(outputEl, {childList: true});\n",
       "}}\n",
       "\n",
       "                        })\n",
       "                };\n",
       "                });\n",
       "            </script>\n",
       "        </div>"
      ]
     },
     "metadata": {},
     "output_type": "display_data"
    }
   ],
   "source": [
    "import plotly as py\n",
    "import plotly.graph_objs as go\n",
    "from plotly.subplots import make_subplots\n",
    "from plotly.offline import iplot\n",
    "\n",
    "py.offline.init_notebook_mode(connected=True)\n",
    "\n",
    "fig = make_subplots(rows=3, cols=1, vertical_spacing=0.2)\n",
    "\n",
    "# ---------\n",
    "fig.append_trace(go.Bar(x=[_ for _ in elements if _ in fcc_elements], y=[FCC_prediction[_] for _ in range(len(FCC_prediction)) if elements[_] in fcc_elements], name='FCC', marker=dict(color='green'), showlegend=False, textposition='inside', textfont={\"size\":24},\n",
    "                        text=['*'  if _ in elements[-7:] else None for _ in [_ for _ in elements if _ in fcc_elements]]), row=1, col=1)\n",
    "\n",
    "fig.append_trace(go.Bar(x=[_ for _ in elements if _ in fcc_elements], y=[BCC_prediction[_] for _ in range(len(BCC_prediction)) if elements[_] in fcc_elements], name='BCC', marker=dict(color='red'), showlegend=False), row=1, col=1)\n",
    "fig.append_trace(go.Bar(x=[_ for _ in elements if _ in fcc_elements], y=[HCP_prediction[_] for _ in range(len(HCP_prediction)) if elements[_] in fcc_elements], name='HCP', marker=dict(color='red'), showlegend=False), row=1, col=1) \n",
    "# ---------\n",
    "\n",
    "# ---------\n",
    "\n",
    "fig.append_trace(go.Bar(x=[_ for _ in elements if _ in bcc_elements], y=[FCC_prediction[_] for _ in range(len(FCC_prediction)) if elements[_] in bcc_elements], name='FCC', marker=dict(color='red'), showlegend=False), row=2, col=1)\n",
    "fig.append_trace(go.Bar(x=[_ for _ in elements if _ in bcc_elements], y=[BCC_prediction[_] for _ in range(len(BCC_prediction)) if elements[_] in bcc_elements], name='BCC', marker=dict(color='green'), showlegend=False, textposition='outside', textfont={\"size\":24},\n",
    "                        text=['*'  if _ in elements[-7:] else None for _ in [_ for _ in elements if _ in bcc_elements]]), row=2, col=1)\n",
    "\n",
    "fig.append_trace(go.Bar(x=[_ for _ in elements if _ in bcc_elements], y=[HCP_prediction[_] for _ in range(len(HCP_prediction)) if elements[_] in bcc_elements], name='HCP', marker=dict(color='red'), showlegend=False), row=2, col=1)\n",
    "# ---------\n",
    "\n",
    "# ---------\n",
    "fig.append_trace(go.Bar(x=[_ for _ in elements if _ in hcp_elements], y=[FCC_prediction[_] for _ in range(len(FCC_prediction)) if elements[_] in hcp_elements], name='FCC', marker=dict(color='red'), showlegend=False), row=3, col=1)\n",
    "fig.append_trace(go.Bar(x=[_ for _ in elements if _ in hcp_elements], y=[BCC_prediction[_] for _ in range(len(BCC_prediction)) if elements[_] in hcp_elements], name='BCC', marker=dict(color='red'), showlegend=False), row=3, col=1)\n",
    "fig.append_trace(go.Bar(x=[_ for _ in elements if _ in hcp_elements], y=[HCP_prediction[_] for _ in range(len(HCP_prediction)) if elements[_] in hcp_elements], name='HCP', marker=dict(color='green'), showlegend=False, textposition='inside', textfont={\"size\":24},\n",
    "                        text=['*'  if _ in elements[-7:] else None for _ in [_ for _ in elements if _ in hcp_elements]]), row=3, col=1)\n",
    "# ---------\n",
    "\n",
    "\n",
    "fig.update_xaxes(title=go.layout.xaxis.Title(text=\"FCC Elements\", font=dict(size=18)),showgrid=True, tickfont=dict(size=18), row=1, col=1)\n",
    "fig.update_xaxes(title=go.layout.xaxis.Title(text=\"BCC Elements\", font=dict(size=18)),showgrid=True, tickfont=dict(size=18), row=2, col=1)\n",
    "fig.update_xaxes(title=go.layout.xaxis.Title(text=\"HCP Elements\", font=dict(size=18)),showgrid=True, tickfont=dict(size=18), row=3, col=1)\n",
    "\n",
    "fig.update_yaxes(title=go.layout.yaxis.Title(text=\"Probability\", font=dict(size=18)),showgrid=True, tickfont=dict(size=18),range=[0, 1.2], row=1, col=1)\n",
    "fig.update_yaxes(title=go.layout.yaxis.Title(text=\"Probability\", font=dict(size=18)),showgrid=True, tickfont=dict(size=18),range=[0, 1.2], row=2, col=1)\n",
    "fig.update_yaxes(title=go.layout.yaxis.Title(text=\"Probability\", font=dict(size=18)),showgrid=True, tickfont=dict(size=18),range=[0, 1.2], row=3, col=1)\n",
    "\n",
    "\n",
    "\n",
    "\n",
    "fig.update_layout(height=700, width=1200, barmode='group', bargap=0.3)\n",
    "\n",
    "fig.show()"
   ]
  },
  {
   "cell_type": "code",
   "execution_count": null,
   "metadata": {},
   "outputs": [],
   "source": []
  }
 ],
 "metadata": {
  "kernelspec": {
   "display_name": "Python 3",
   "language": "python",
   "name": "python3"
  },
  "language_info": {
   "codemirror_mode": {
    "name": "ipython",
    "version": 3
   },
   "file_extension": ".py",
   "mimetype": "text/x-python",
   "name": "python",
   "nbconvert_exporter": "python",
   "pygments_lexer": "ipython3",
   "version": "3.7.7"
  }
 },
 "nbformat": 4,
 "nbformat_minor": 2
}
